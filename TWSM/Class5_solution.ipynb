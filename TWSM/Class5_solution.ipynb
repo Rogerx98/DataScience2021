{
  "cells": [
    {
      "cell_type": "markdown",
      "metadata": {
        "id": "view-in-github",
        "colab_type": "text"
      },
      "source": [
        "<a href=\"https://colab.research.google.com/github/markusloecher/DataScience2021/blob/main/TWSM/Class5_solution.ipynb\" target=\"_parent\"><img src=\"https://colab.research.google.com/assets/colab-badge.svg\" alt=\"Open In Colab\"/></a>"
      ]
    },
    {
      "cell_type": "markdown",
      "source": [
        "### Libraries"
      ],
      "metadata": {
        "id": "L0HoGesYBC1E"
      }
    },
    {
      "cell_type": "code",
      "source": [
        "from google.colab import drive\n",
        "drive.mount('/content/drive')\n",
        "TWSM_path = \"/content/drive/MyDrive/teaching/TWSM/\"\n",
        "\n",
        "#from TWSM import *\n",
        "from tensorflow import keras\n",
        "from tensorflow.keras import layers\n",
        "import spacy\n",
        "## Import packages\n",
        "import pickle\n",
        "import pandas as pd\n",
        "from gensim.models import Word2Vec\n",
        "\n"
      ],
      "metadata": {
        "id": "4k1Km8WrvyWM",
        "colab": {
          "base_uri": "https://localhost:8080/"
        },
        "outputId": "c9754fdb-9d02-492f-adba-6a2bc85c369d"
      },
      "execution_count": null,
      "outputs": [
        {
          "output_type": "stream",
          "name": "stdout",
          "text": [
            "Mounted at /content/drive\n"
          ]
        }
      ]
    },
    {
      "cell_type": "markdown",
      "source": [
        "## Data"
      ],
      "metadata": {
        "id": "YhEZsOc7BVqY"
      }
    },
    {
      "cell_type": "markdown",
      "source": [
        "**IMD Movie Reviews**"
      ],
      "metadata": {
        "id": "e3ofzmU3fbUH"
      }
    },
    {
      "cell_type": "markdown",
      "source": [
        "#### Tasks\n",
        "\n",
        "1. Train a word2vec model of dimension $100$ on the IMD data. (considering words appearing in more than 50 documents) Save the model if you like.\n",
        "\n",
        "2. Compute the embedding for each review (average word2vec)\n",
        "\n",
        "3. Fit a keras classifier to the embedded reviews. (2 hidden layers of size 40 each) Report/Monitor the accuracy on the test data.\n",
        "\n",
        "4. Load the bing sentiment dictionary. Compute two separate embeddings for the negative and positive sentiments.\n",
        "\n",
        "5. Compute the similarity between these two vectors and a few selected reviews. Does it agree with their label?\n"
      ],
      "metadata": {
        "id": "eA-8MKLQjT1U"
      }
    },
    {
      "cell_type": "markdown",
      "source": [
        "-------------------------------------------\n",
        "## Solution"
      ],
      "metadata": {
        "id": "tv2nL5C6s4_8"
      }
    },
    {
      "cell_type": "markdown",
      "source": [
        "Decoding reviews back to text"
      ],
      "metadata": {
        "id": "ZUTAUTvaghrM"
      }
    },
    {
      "cell_type": "code",
      "source": [
        "ReloadIMDB=False\n",
        "\n",
        "if ReloadIMDB:\n",
        "  from tensorflow.keras.datasets import imdb\n",
        "  (train_data, train_labels), (test_data, test_labels) = imdb.load_data(\n",
        "    num_words=10000)\n",
        "\n",
        "  word_index = imdb.get_word_index()\n",
        "  reverse_word_index = dict(\n",
        "    [(value, key) for (key, value) in word_index.items()])\n",
        "  \n",
        "  N=len(train_data)\n",
        "  decoded_reviews = [\"\" for x in range(N)]\n",
        "\n",
        "  for j in range(N):\n",
        "    decoded_reviews[j] = \" \".join(\n",
        "      [reverse_word_index.get(i - 3, \"?\") for i in train_data[j]])  \n",
        "    \n",
        "    N=len(test_data)\n",
        "  decoded_reviews_test = [\"\" for x in range(N)]\n",
        "\n",
        "  for j in range(N):\n",
        "    decoded_reviews_test[j] = \" \".join(\n",
        "      [reverse_word_index.get(i - 3, \"?\") for i in test_data[j]])\n",
        "    \n",
        "  pickle.dump(decoded_reviews_test, open(TWSM_path + \"data/IMDB/decoded_reviews_test.pkl\", \"wb\"))\n",
        "  pickle.dump(decoded_reviews, open(TWSM_path + \"data/IMDB/decoded_reviews_train.pkl\", \"wb\"))\n",
        "  pickle.dump(train_labels, open(TWSM_path + \"data/IMDB/train_labels.pkl\", \"wb\"))\n",
        "  pickle.dump(test_labels, open(TWSM_path + \"data/IMDB/test_labels.pkl\", \"wb\"))\n",
        "else:\n",
        "  decoded_reviews_test = pickle.load(open(TWSM_path + \"data/IMDB/decoded_reviews_test.pkl\", \"rb\"))\n",
        "  decoded_reviews = pickle.load(open(TWSM_path + \"data/IMDB/decoded_reviews_train.pkl\", \"rb\"))\n",
        "  train_labels = pickle.load(open(TWSM_path + \"data/IMDB/train_labels.pkl\", \"rb\"))\n",
        "  test_labels = pickle.load(open(TWSM_path + \"data/IMDB/test_labels.pkl\", \"rb\"))"
      ],
      "metadata": {
        "id": "vpb3m4Zcg43M"
      },
      "execution_count": null,
      "outputs": []
    },
    {
      "cell_type": "markdown",
      "source": [
        "Train the Embedding model"
      ],
      "metadata": {
        "id": "AHyEA-qeiSoe"
      }
    },
    {
      "cell_type": "code",
      "source": [
        "# Prepare the dataset for the word2vec model\n",
        "corpus_imdb=[doc.split() for doc in decoded_reviews]\n",
        "\n",
        "# Train the model for embeddings of size 100 considering words appearing in more than 50 documents, default window=5\n",
        "model = Word2Vec(corpus_imdb, size=100, min_count=50)\n"
      ],
      "metadata": {
        "id": "aUpca7UcgCQO"
      },
      "execution_count": null,
      "outputs": []
    },
    {
      "cell_type": "code",
      "source": [
        "model.wv.most_similar(positive=['actress', 'actor'], topn=5)"
      ],
      "metadata": {
        "colab": {
          "base_uri": "https://localhost:8080/"
        },
        "id": "erQQb81DwBL0",
        "outputId": "a9ad67fb-750d-46de-8a91-03271b6bfe5e"
      },
      "execution_count": null,
      "outputs": [
        {
          "output_type": "execute_result",
          "data": {
            "text/plain": [
              "[('performer', 0.7539661526679993),\n",
              " ('role', 0.7292031049728394),\n",
              " ('singer', 0.6907426714897156),\n",
              " ('performance', 0.6768022775650024),\n",
              " ('artist', 0.6377604007720947)]"
            ]
          },
          "metadata": {},
          "execution_count": 9
        }
      ]
    },
    {
      "cell_type": "code",
      "source": [
        "model.save(TWSM_path+'models/IMDB_word2vec.model')"
      ],
      "metadata": {
        "id": "gy6VMwpvhdoo"
      },
      "execution_count": null,
      "outputs": []
    },
    {
      "cell_type": "markdown",
      "source": [
        "Embed training reviews\n"
      ],
      "metadata": {
        "id": "s9IZ6bI_mDKF"
      }
    },
    {
      "cell_type": "code",
      "source": [
        "# Document representation for the text\n",
        "corpus_w2v=[[model.wv[word] for word in doc if word in model.wv.vocab.keys()] for doc in corpus_imdb]\n",
        "positive=[i for i in range(len(corpus_imdb)) if len(corpus_w2v[i])>0]"
      ],
      "metadata": {
        "id": "39ilTbOSmGza"
      },
      "execution_count": null,
      "outputs": []
    },
    {
      "cell_type": "code",
      "source": [
        "corpus_w2v2=[corpus_w2v[i] for i in positive]\n",
        "\n",
        "# Document average representation\n",
        "corpus_w2v_avg_clean=[sum(words)/len(words) for words in corpus_w2v2]\n",
        "\n",
        "# Corpus as data frame that can be used in downstream tasks such as classification\n",
        "corpus_w2v_avg_df=pd.DataFrame(corpus_w2v_avg_clean)\n",
        "corpus_w2v_avg_df.head()\n"
      ],
      "metadata": {
        "colab": {
          "base_uri": "https://localhost:8080/",
          "height": 299
        },
        "id": "SYmpiZKyoDnC",
        "outputId": "20f4243b-7662-4de4-e975-b71ee84302cd"
      },
      "execution_count": null,
      "outputs": [
        {
          "output_type": "execute_result",
          "data": {
            "text/plain": [
              "         0         1         2         3         4         5         6   \\\n",
              "0  0.124081  0.368535 -0.149254 -0.189179  0.221026  0.325926  0.480088   \n",
              "1 -0.131859  0.297526  0.086309 -0.072801  0.195620  0.209143  0.365044   \n",
              "2 -0.242112  0.606146 -0.126749 -0.081348  0.176170  0.476083  0.459211   \n",
              "3 -0.264141  0.211701  0.006838  0.069322  0.245065  0.275938  0.379437   \n",
              "4 -0.189060  0.771490 -0.216529 -0.292080 -0.066199  0.474550  0.587958   \n",
              "\n",
              "         7         8         9   ...        90        91        92        93  \\\n",
              "0 -0.572645 -0.602477  0.454659  ...  0.239557  0.706650  0.022246 -0.023969   \n",
              "1 -0.644183 -0.258637  0.028983  ...  0.080747  0.352514 -0.184508 -0.114032   \n",
              "2 -0.621167 -0.719172  0.644027  ...  0.273534  0.887905 -0.158114 -0.167328   \n",
              "3 -0.220990 -0.459105  0.242493  ...  0.064097  0.410491  0.054655 -0.092702   \n",
              "4 -0.505710 -0.693489  0.560967  ...  0.505673  1.004113 -0.197803  0.054256   \n",
              "\n",
              "         94        95        96        97        98        99  \n",
              "0  0.367418  0.212499  0.524909 -0.347697 -0.229221 -0.152529  \n",
              "1  0.026449  0.161618  0.091426 -0.116344 -0.121862 -0.148958  \n",
              "2  0.272952  0.094429  0.387983 -0.439316 -0.118263 -0.066035  \n",
              "3 -0.109929  0.031859  0.306187 -0.043223 -0.264528 -0.074083  \n",
              "4  0.380934  0.259278  0.440375 -0.430701 -0.041191 -0.236806  \n",
              "\n",
              "[5 rows x 100 columns]"
            ],
            "text/html": [
              "\n",
              "  <div id=\"df-25ddfa10-4c01-4113-aef1-a33570465e0a\">\n",
              "    <div class=\"colab-df-container\">\n",
              "      <div>\n",
              "<style scoped>\n",
              "    .dataframe tbody tr th:only-of-type {\n",
              "        vertical-align: middle;\n",
              "    }\n",
              "\n",
              "    .dataframe tbody tr th {\n",
              "        vertical-align: top;\n",
              "    }\n",
              "\n",
              "    .dataframe thead th {\n",
              "        text-align: right;\n",
              "    }\n",
              "</style>\n",
              "<table border=\"1\" class=\"dataframe\">\n",
              "  <thead>\n",
              "    <tr style=\"text-align: right;\">\n",
              "      <th></th>\n",
              "      <th>0</th>\n",
              "      <th>1</th>\n",
              "      <th>2</th>\n",
              "      <th>3</th>\n",
              "      <th>4</th>\n",
              "      <th>5</th>\n",
              "      <th>6</th>\n",
              "      <th>7</th>\n",
              "      <th>8</th>\n",
              "      <th>9</th>\n",
              "      <th>...</th>\n",
              "      <th>90</th>\n",
              "      <th>91</th>\n",
              "      <th>92</th>\n",
              "      <th>93</th>\n",
              "      <th>94</th>\n",
              "      <th>95</th>\n",
              "      <th>96</th>\n",
              "      <th>97</th>\n",
              "      <th>98</th>\n",
              "      <th>99</th>\n",
              "    </tr>\n",
              "  </thead>\n",
              "  <tbody>\n",
              "    <tr>\n",
              "      <th>0</th>\n",
              "      <td>0.124081</td>\n",
              "      <td>0.368535</td>\n",
              "      <td>-0.149254</td>\n",
              "      <td>-0.189179</td>\n",
              "      <td>0.221026</td>\n",
              "      <td>0.325926</td>\n",
              "      <td>0.480088</td>\n",
              "      <td>-0.572645</td>\n",
              "      <td>-0.602477</td>\n",
              "      <td>0.454659</td>\n",
              "      <td>...</td>\n",
              "      <td>0.239557</td>\n",
              "      <td>0.706650</td>\n",
              "      <td>0.022246</td>\n",
              "      <td>-0.023969</td>\n",
              "      <td>0.367418</td>\n",
              "      <td>0.212499</td>\n",
              "      <td>0.524909</td>\n",
              "      <td>-0.347697</td>\n",
              "      <td>-0.229221</td>\n",
              "      <td>-0.152529</td>\n",
              "    </tr>\n",
              "    <tr>\n",
              "      <th>1</th>\n",
              "      <td>-0.131859</td>\n",
              "      <td>0.297526</td>\n",
              "      <td>0.086309</td>\n",
              "      <td>-0.072801</td>\n",
              "      <td>0.195620</td>\n",
              "      <td>0.209143</td>\n",
              "      <td>0.365044</td>\n",
              "      <td>-0.644183</td>\n",
              "      <td>-0.258637</td>\n",
              "      <td>0.028983</td>\n",
              "      <td>...</td>\n",
              "      <td>0.080747</td>\n",
              "      <td>0.352514</td>\n",
              "      <td>-0.184508</td>\n",
              "      <td>-0.114032</td>\n",
              "      <td>0.026449</td>\n",
              "      <td>0.161618</td>\n",
              "      <td>0.091426</td>\n",
              "      <td>-0.116344</td>\n",
              "      <td>-0.121862</td>\n",
              "      <td>-0.148958</td>\n",
              "    </tr>\n",
              "    <tr>\n",
              "      <th>2</th>\n",
              "      <td>-0.242112</td>\n",
              "      <td>0.606146</td>\n",
              "      <td>-0.126749</td>\n",
              "      <td>-0.081348</td>\n",
              "      <td>0.176170</td>\n",
              "      <td>0.476083</td>\n",
              "      <td>0.459211</td>\n",
              "      <td>-0.621167</td>\n",
              "      <td>-0.719172</td>\n",
              "      <td>0.644027</td>\n",
              "      <td>...</td>\n",
              "      <td>0.273534</td>\n",
              "      <td>0.887905</td>\n",
              "      <td>-0.158114</td>\n",
              "      <td>-0.167328</td>\n",
              "      <td>0.272952</td>\n",
              "      <td>0.094429</td>\n",
              "      <td>0.387983</td>\n",
              "      <td>-0.439316</td>\n",
              "      <td>-0.118263</td>\n",
              "      <td>-0.066035</td>\n",
              "    </tr>\n",
              "    <tr>\n",
              "      <th>3</th>\n",
              "      <td>-0.264141</td>\n",
              "      <td>0.211701</td>\n",
              "      <td>0.006838</td>\n",
              "      <td>0.069322</td>\n",
              "      <td>0.245065</td>\n",
              "      <td>0.275938</td>\n",
              "      <td>0.379437</td>\n",
              "      <td>-0.220990</td>\n",
              "      <td>-0.459105</td>\n",
              "      <td>0.242493</td>\n",
              "      <td>...</td>\n",
              "      <td>0.064097</td>\n",
              "      <td>0.410491</td>\n",
              "      <td>0.054655</td>\n",
              "      <td>-0.092702</td>\n",
              "      <td>-0.109929</td>\n",
              "      <td>0.031859</td>\n",
              "      <td>0.306187</td>\n",
              "      <td>-0.043223</td>\n",
              "      <td>-0.264528</td>\n",
              "      <td>-0.074083</td>\n",
              "    </tr>\n",
              "    <tr>\n",
              "      <th>4</th>\n",
              "      <td>-0.189060</td>\n",
              "      <td>0.771490</td>\n",
              "      <td>-0.216529</td>\n",
              "      <td>-0.292080</td>\n",
              "      <td>-0.066199</td>\n",
              "      <td>0.474550</td>\n",
              "      <td>0.587958</td>\n",
              "      <td>-0.505710</td>\n",
              "      <td>-0.693489</td>\n",
              "      <td>0.560967</td>\n",
              "      <td>...</td>\n",
              "      <td>0.505673</td>\n",
              "      <td>1.004113</td>\n",
              "      <td>-0.197803</td>\n",
              "      <td>0.054256</td>\n",
              "      <td>0.380934</td>\n",
              "      <td>0.259278</td>\n",
              "      <td>0.440375</td>\n",
              "      <td>-0.430701</td>\n",
              "      <td>-0.041191</td>\n",
              "      <td>-0.236806</td>\n",
              "    </tr>\n",
              "  </tbody>\n",
              "</table>\n",
              "<p>5 rows × 100 columns</p>\n",
              "</div>\n",
              "      <button class=\"colab-df-convert\" onclick=\"convertToInteractive('df-25ddfa10-4c01-4113-aef1-a33570465e0a')\"\n",
              "              title=\"Convert this dataframe to an interactive table.\"\n",
              "              style=\"display:none;\">\n",
              "        \n",
              "  <svg xmlns=\"http://www.w3.org/2000/svg\" height=\"24px\"viewBox=\"0 0 24 24\"\n",
              "       width=\"24px\">\n",
              "    <path d=\"M0 0h24v24H0V0z\" fill=\"none\"/>\n",
              "    <path d=\"M18.56 5.44l.94 2.06.94-2.06 2.06-.94-2.06-.94-.94-2.06-.94 2.06-2.06.94zm-11 1L8.5 8.5l.94-2.06 2.06-.94-2.06-.94L8.5 2.5l-.94 2.06-2.06.94zm10 10l.94 2.06.94-2.06 2.06-.94-2.06-.94-.94-2.06-.94 2.06-2.06.94z\"/><path d=\"M17.41 7.96l-1.37-1.37c-.4-.4-.92-.59-1.43-.59-.52 0-1.04.2-1.43.59L10.3 9.45l-7.72 7.72c-.78.78-.78 2.05 0 2.83L4 21.41c.39.39.9.59 1.41.59.51 0 1.02-.2 1.41-.59l7.78-7.78 2.81-2.81c.8-.78.8-2.07 0-2.86zM5.41 20L4 18.59l7.72-7.72 1.47 1.35L5.41 20z\"/>\n",
              "  </svg>\n",
              "      </button>\n",
              "      \n",
              "  <style>\n",
              "    .colab-df-container {\n",
              "      display:flex;\n",
              "      flex-wrap:wrap;\n",
              "      gap: 12px;\n",
              "    }\n",
              "\n",
              "    .colab-df-convert {\n",
              "      background-color: #E8F0FE;\n",
              "      border: none;\n",
              "      border-radius: 50%;\n",
              "      cursor: pointer;\n",
              "      display: none;\n",
              "      fill: #1967D2;\n",
              "      height: 32px;\n",
              "      padding: 0 0 0 0;\n",
              "      width: 32px;\n",
              "    }\n",
              "\n",
              "    .colab-df-convert:hover {\n",
              "      background-color: #E2EBFA;\n",
              "      box-shadow: 0px 1px 2px rgba(60, 64, 67, 0.3), 0px 1px 3px 1px rgba(60, 64, 67, 0.15);\n",
              "      fill: #174EA6;\n",
              "    }\n",
              "\n",
              "    [theme=dark] .colab-df-convert {\n",
              "      background-color: #3B4455;\n",
              "      fill: #D2E3FC;\n",
              "    }\n",
              "\n",
              "    [theme=dark] .colab-df-convert:hover {\n",
              "      background-color: #434B5C;\n",
              "      box-shadow: 0px 1px 3px 1px rgba(0, 0, 0, 0.15);\n",
              "      filter: drop-shadow(0px 1px 2px rgba(0, 0, 0, 0.3));\n",
              "      fill: #FFFFFF;\n",
              "    }\n",
              "  </style>\n",
              "\n",
              "      <script>\n",
              "        const buttonEl =\n",
              "          document.querySelector('#df-25ddfa10-4c01-4113-aef1-a33570465e0a button.colab-df-convert');\n",
              "        buttonEl.style.display =\n",
              "          google.colab.kernel.accessAllowed ? 'block' : 'none';\n",
              "\n",
              "        async function convertToInteractive(key) {\n",
              "          const element = document.querySelector('#df-25ddfa10-4c01-4113-aef1-a33570465e0a');\n",
              "          const dataTable =\n",
              "            await google.colab.kernel.invokeFunction('convertToInteractive',\n",
              "                                                     [key], {});\n",
              "          if (!dataTable) return;\n",
              "\n",
              "          const docLinkHtml = 'Like what you see? Visit the ' +\n",
              "            '<a target=\"_blank\" href=https://colab.research.google.com/notebooks/data_table.ipynb>data table notebook</a>'\n",
              "            + ' to learn more about interactive tables.';\n",
              "          element.innerHTML = '';\n",
              "          dataTable['output_type'] = 'display_data';\n",
              "          await google.colab.output.renderOutput(dataTable, element);\n",
              "          const docLink = document.createElement('div');\n",
              "          docLink.innerHTML = docLinkHtml;\n",
              "          element.appendChild(docLink);\n",
              "        }\n",
              "      </script>\n",
              "    </div>\n",
              "  </div>\n",
              "  "
            ]
          },
          "metadata": {},
          "execution_count": 12
        }
      ]
    },
    {
      "cell_type": "code",
      "source": [
        "model.wv.similar_by_vector(corpus_w2v_avg_clean[0], topn=5)"
      ],
      "metadata": {
        "colab": {
          "base_uri": "https://localhost:8080/"
        },
        "id": "DR1o_6t2pPVS",
        "outputId": "3c68f0b4-dcde-41af-866c-2cca2febb0e4"
      },
      "execution_count": null,
      "outputs": [
        {
          "output_type": "execute_result",
          "data": {
            "text/plain": [
              "[('it', 0.6968493461608887),\n",
              " ('really', 0.6696332693099976),\n",
              " ('just', 0.6292071342468262),\n",
              " ('disappointed', 0.6222279071807861),\n",
              " ('actually', 0.6026661396026611)]"
            ]
          },
          "metadata": {},
          "execution_count": 13
        }
      ]
    },
    {
      "cell_type": "markdown",
      "source": [
        "Embed test reviews"
      ],
      "metadata": {
        "id": "qcrXryX4pTWW"
      }
    },
    {
      "cell_type": "code",
      "source": [
        "corpus_imdb_test =[doc.split() for doc in decoded_reviews_test]"
      ],
      "metadata": {
        "id": "bX_XFe4rpqrQ"
      },
      "execution_count": null,
      "outputs": []
    },
    {
      "cell_type": "code",
      "source": [
        "# Document representation for the text\n",
        "corpus_w2v_test=[[model.wv[word] for word in doc if word in model.wv.vocab.keys()] for doc in corpus_imdb_test]\n",
        "positive_test=[i for i in range(len(corpus_imdb_test)) if len(corpus_w2v_test[i])>0]"
      ],
      "metadata": {
        "id": "j7SpO1EbpIor"
      },
      "execution_count": null,
      "outputs": []
    },
    {
      "cell_type": "code",
      "source": [
        "corpus_w2v2_test=[corpus_w2v_test[i] for i in positive_test]\n",
        "\n",
        "# Document average representation\n",
        "corpus_w2v_avg_clean_test=[sum(words)/len(words) for words in corpus_w2v2_test]\n",
        "\n",
        "# Corpus as data frame that can be used in downstream tasks such as classification\n",
        "corpus_w2v_avg_df_test=pd.DataFrame(corpus_w2v_avg_clean_test)\n",
        "corpus_w2v_avg_df_test.head()\n"
      ],
      "metadata": {
        "colab": {
          "base_uri": "https://localhost:8080/",
          "height": 299
        },
        "outputId": "006f8db0-7118-41ef-8bd8-79d4589c43ea",
        "id": "okOY8e1WpIos"
      },
      "execution_count": null,
      "outputs": [
        {
          "output_type": "execute_result",
          "data": {
            "text/plain": [
              "         0         1         2         3         4         5         6   \\\n",
              "0 -0.104860  0.340449 -0.053031  0.006887  0.296573  0.175297  0.627474   \n",
              "1 -0.136378  0.115994 -0.240296  0.006467  0.157939  0.033500  0.198721   \n",
              "2 -0.187094  0.110841 -0.054470  0.056479  0.190619  0.266484  0.271450   \n",
              "3 -0.189191  0.477493 -0.126869 -0.079079  0.097771  0.346672  0.506993   \n",
              "4 -0.044688  0.645072 -0.109225 -0.072272  0.067841  0.504365  0.397634   \n",
              "\n",
              "         7         8         9   ...        90        91        92        93  \\\n",
              "0 -0.619944 -0.696076  0.355007  ...  0.345004  0.674266 -0.136591 -0.134364   \n",
              "1 -0.540978 -0.231891  0.273509  ... -0.009848  0.285836 -0.041590  0.021366   \n",
              "2 -0.214446 -0.379376  0.199574  ... -0.057212  0.393354 -0.017578 -0.103430   \n",
              "3 -0.477076 -0.787435  0.425800  ...  0.244254  0.872361  0.030797  0.070223   \n",
              "4 -0.357952 -0.532977  0.463198  ...  0.382792  0.608299 -0.124581  0.188016   \n",
              "\n",
              "         94        95        96        97        98        99  \n",
              "0  0.086184  0.482008  0.617528 -0.116125  0.118367 -0.298689  \n",
              "1  0.049833  0.080068  0.372657 -0.053558 -0.369463 -0.144664  \n",
              "2 -0.098210 -0.047082  0.202616 -0.034333 -0.384147  0.001046  \n",
              "3  0.386045  0.319238  0.392960 -0.376618  0.002613 -0.203659  \n",
              "4  0.635152  0.510019  0.095109 -0.217129  0.276952 -0.472512  \n",
              "\n",
              "[5 rows x 100 columns]"
            ],
            "text/html": [
              "\n",
              "  <div id=\"df-53b12837-8c39-4014-ba2d-3ba2e1e3608b\">\n",
              "    <div class=\"colab-df-container\">\n",
              "      <div>\n",
              "<style scoped>\n",
              "    .dataframe tbody tr th:only-of-type {\n",
              "        vertical-align: middle;\n",
              "    }\n",
              "\n",
              "    .dataframe tbody tr th {\n",
              "        vertical-align: top;\n",
              "    }\n",
              "\n",
              "    .dataframe thead th {\n",
              "        text-align: right;\n",
              "    }\n",
              "</style>\n",
              "<table border=\"1\" class=\"dataframe\">\n",
              "  <thead>\n",
              "    <tr style=\"text-align: right;\">\n",
              "      <th></th>\n",
              "      <th>0</th>\n",
              "      <th>1</th>\n",
              "      <th>2</th>\n",
              "      <th>3</th>\n",
              "      <th>4</th>\n",
              "      <th>5</th>\n",
              "      <th>6</th>\n",
              "      <th>7</th>\n",
              "      <th>8</th>\n",
              "      <th>9</th>\n",
              "      <th>...</th>\n",
              "      <th>90</th>\n",
              "      <th>91</th>\n",
              "      <th>92</th>\n",
              "      <th>93</th>\n",
              "      <th>94</th>\n",
              "      <th>95</th>\n",
              "      <th>96</th>\n",
              "      <th>97</th>\n",
              "      <th>98</th>\n",
              "      <th>99</th>\n",
              "    </tr>\n",
              "  </thead>\n",
              "  <tbody>\n",
              "    <tr>\n",
              "      <th>0</th>\n",
              "      <td>-0.104860</td>\n",
              "      <td>0.340449</td>\n",
              "      <td>-0.053031</td>\n",
              "      <td>0.006887</td>\n",
              "      <td>0.296573</td>\n",
              "      <td>0.175297</td>\n",
              "      <td>0.627474</td>\n",
              "      <td>-0.619944</td>\n",
              "      <td>-0.696076</td>\n",
              "      <td>0.355007</td>\n",
              "      <td>...</td>\n",
              "      <td>0.345004</td>\n",
              "      <td>0.674266</td>\n",
              "      <td>-0.136591</td>\n",
              "      <td>-0.134364</td>\n",
              "      <td>0.086184</td>\n",
              "      <td>0.482008</td>\n",
              "      <td>0.617528</td>\n",
              "      <td>-0.116125</td>\n",
              "      <td>0.118367</td>\n",
              "      <td>-0.298689</td>\n",
              "    </tr>\n",
              "    <tr>\n",
              "      <th>1</th>\n",
              "      <td>-0.136378</td>\n",
              "      <td>0.115994</td>\n",
              "      <td>-0.240296</td>\n",
              "      <td>0.006467</td>\n",
              "      <td>0.157939</td>\n",
              "      <td>0.033500</td>\n",
              "      <td>0.198721</td>\n",
              "      <td>-0.540978</td>\n",
              "      <td>-0.231891</td>\n",
              "      <td>0.273509</td>\n",
              "      <td>...</td>\n",
              "      <td>-0.009848</td>\n",
              "      <td>0.285836</td>\n",
              "      <td>-0.041590</td>\n",
              "      <td>0.021366</td>\n",
              "      <td>0.049833</td>\n",
              "      <td>0.080068</td>\n",
              "      <td>0.372657</td>\n",
              "      <td>-0.053558</td>\n",
              "      <td>-0.369463</td>\n",
              "      <td>-0.144664</td>\n",
              "    </tr>\n",
              "    <tr>\n",
              "      <th>2</th>\n",
              "      <td>-0.187094</td>\n",
              "      <td>0.110841</td>\n",
              "      <td>-0.054470</td>\n",
              "      <td>0.056479</td>\n",
              "      <td>0.190619</td>\n",
              "      <td>0.266484</td>\n",
              "      <td>0.271450</td>\n",
              "      <td>-0.214446</td>\n",
              "      <td>-0.379376</td>\n",
              "      <td>0.199574</td>\n",
              "      <td>...</td>\n",
              "      <td>-0.057212</td>\n",
              "      <td>0.393354</td>\n",
              "      <td>-0.017578</td>\n",
              "      <td>-0.103430</td>\n",
              "      <td>-0.098210</td>\n",
              "      <td>-0.047082</td>\n",
              "      <td>0.202616</td>\n",
              "      <td>-0.034333</td>\n",
              "      <td>-0.384147</td>\n",
              "      <td>0.001046</td>\n",
              "    </tr>\n",
              "    <tr>\n",
              "      <th>3</th>\n",
              "      <td>-0.189191</td>\n",
              "      <td>0.477493</td>\n",
              "      <td>-0.126869</td>\n",
              "      <td>-0.079079</td>\n",
              "      <td>0.097771</td>\n",
              "      <td>0.346672</td>\n",
              "      <td>0.506993</td>\n",
              "      <td>-0.477076</td>\n",
              "      <td>-0.787435</td>\n",
              "      <td>0.425800</td>\n",
              "      <td>...</td>\n",
              "      <td>0.244254</td>\n",
              "      <td>0.872361</td>\n",
              "      <td>0.030797</td>\n",
              "      <td>0.070223</td>\n",
              "      <td>0.386045</td>\n",
              "      <td>0.319238</td>\n",
              "      <td>0.392960</td>\n",
              "      <td>-0.376618</td>\n",
              "      <td>0.002613</td>\n",
              "      <td>-0.203659</td>\n",
              "    </tr>\n",
              "    <tr>\n",
              "      <th>4</th>\n",
              "      <td>-0.044688</td>\n",
              "      <td>0.645072</td>\n",
              "      <td>-0.109225</td>\n",
              "      <td>-0.072272</td>\n",
              "      <td>0.067841</td>\n",
              "      <td>0.504365</td>\n",
              "      <td>0.397634</td>\n",
              "      <td>-0.357952</td>\n",
              "      <td>-0.532977</td>\n",
              "      <td>0.463198</td>\n",
              "      <td>...</td>\n",
              "      <td>0.382792</td>\n",
              "      <td>0.608299</td>\n",
              "      <td>-0.124581</td>\n",
              "      <td>0.188016</td>\n",
              "      <td>0.635152</td>\n",
              "      <td>0.510019</td>\n",
              "      <td>0.095109</td>\n",
              "      <td>-0.217129</td>\n",
              "      <td>0.276952</td>\n",
              "      <td>-0.472512</td>\n",
              "    </tr>\n",
              "  </tbody>\n",
              "</table>\n",
              "<p>5 rows × 100 columns</p>\n",
              "</div>\n",
              "      <button class=\"colab-df-convert\" onclick=\"convertToInteractive('df-53b12837-8c39-4014-ba2d-3ba2e1e3608b')\"\n",
              "              title=\"Convert this dataframe to an interactive table.\"\n",
              "              style=\"display:none;\">\n",
              "        \n",
              "  <svg xmlns=\"http://www.w3.org/2000/svg\" height=\"24px\"viewBox=\"0 0 24 24\"\n",
              "       width=\"24px\">\n",
              "    <path d=\"M0 0h24v24H0V0z\" fill=\"none\"/>\n",
              "    <path d=\"M18.56 5.44l.94 2.06.94-2.06 2.06-.94-2.06-.94-.94-2.06-.94 2.06-2.06.94zm-11 1L8.5 8.5l.94-2.06 2.06-.94-2.06-.94L8.5 2.5l-.94 2.06-2.06.94zm10 10l.94 2.06.94-2.06 2.06-.94-2.06-.94-.94-2.06-.94 2.06-2.06.94z\"/><path d=\"M17.41 7.96l-1.37-1.37c-.4-.4-.92-.59-1.43-.59-.52 0-1.04.2-1.43.59L10.3 9.45l-7.72 7.72c-.78.78-.78 2.05 0 2.83L4 21.41c.39.39.9.59 1.41.59.51 0 1.02-.2 1.41-.59l7.78-7.78 2.81-2.81c.8-.78.8-2.07 0-2.86zM5.41 20L4 18.59l7.72-7.72 1.47 1.35L5.41 20z\"/>\n",
              "  </svg>\n",
              "      </button>\n",
              "      \n",
              "  <style>\n",
              "    .colab-df-container {\n",
              "      display:flex;\n",
              "      flex-wrap:wrap;\n",
              "      gap: 12px;\n",
              "    }\n",
              "\n",
              "    .colab-df-convert {\n",
              "      background-color: #E8F0FE;\n",
              "      border: none;\n",
              "      border-radius: 50%;\n",
              "      cursor: pointer;\n",
              "      display: none;\n",
              "      fill: #1967D2;\n",
              "      height: 32px;\n",
              "      padding: 0 0 0 0;\n",
              "      width: 32px;\n",
              "    }\n",
              "\n",
              "    .colab-df-convert:hover {\n",
              "      background-color: #E2EBFA;\n",
              "      box-shadow: 0px 1px 2px rgba(60, 64, 67, 0.3), 0px 1px 3px 1px rgba(60, 64, 67, 0.15);\n",
              "      fill: #174EA6;\n",
              "    }\n",
              "\n",
              "    [theme=dark] .colab-df-convert {\n",
              "      background-color: #3B4455;\n",
              "      fill: #D2E3FC;\n",
              "    }\n",
              "\n",
              "    [theme=dark] .colab-df-convert:hover {\n",
              "      background-color: #434B5C;\n",
              "      box-shadow: 0px 1px 3px 1px rgba(0, 0, 0, 0.15);\n",
              "      filter: drop-shadow(0px 1px 2px rgba(0, 0, 0, 0.3));\n",
              "      fill: #FFFFFF;\n",
              "    }\n",
              "  </style>\n",
              "\n",
              "      <script>\n",
              "        const buttonEl =\n",
              "          document.querySelector('#df-53b12837-8c39-4014-ba2d-3ba2e1e3608b button.colab-df-convert');\n",
              "        buttonEl.style.display =\n",
              "          google.colab.kernel.accessAllowed ? 'block' : 'none';\n",
              "\n",
              "        async function convertToInteractive(key) {\n",
              "          const element = document.querySelector('#df-53b12837-8c39-4014-ba2d-3ba2e1e3608b');\n",
              "          const dataTable =\n",
              "            await google.colab.kernel.invokeFunction('convertToInteractive',\n",
              "                                                     [key], {});\n",
              "          if (!dataTable) return;\n",
              "\n",
              "          const docLinkHtml = 'Like what you see? Visit the ' +\n",
              "            '<a target=\"_blank\" href=https://colab.research.google.com/notebooks/data_table.ipynb>data table notebook</a>'\n",
              "            + ' to learn more about interactive tables.';\n",
              "          element.innerHTML = '';\n",
              "          dataTable['output_type'] = 'display_data';\n",
              "          await google.colab.output.renderOutput(dataTable, element);\n",
              "          const docLink = document.createElement('div');\n",
              "          docLink.innerHTML = docLinkHtml;\n",
              "          element.appendChild(docLink);\n",
              "        }\n",
              "      </script>\n",
              "    </div>\n",
              "  </div>\n",
              "  "
            ]
          },
          "metadata": {},
          "execution_count": 16
        }
      ]
    },
    {
      "cell_type": "markdown",
      "source": [
        "NN classifier"
      ],
      "metadata": {
        "id": "XoqQ7NDTqflc"
      }
    },
    {
      "cell_type": "code",
      "source": [
        "from tensorflow import keras\n",
        "from tensorflow.keras import layers\n",
        "\n",
        "NN_imdb = keras.Sequential([\n",
        "    layers.Dense(40, activation=\"relu\"),\n",
        "    layers.Dense(40, activation=\"relu\"),\n",
        "    layers.Dense(1, activation=\"sigmoid\")\n",
        "])\n",
        "\n",
        "NN_imdb.compile(optimizer=\"rmsprop\",\n",
        "              loss=\"binary_crossentropy\",\n",
        "              metrics=[\"accuracy\"])"
      ],
      "metadata": {
        "id": "WQnro57xqhun"
      },
      "execution_count": null,
      "outputs": []
    },
    {
      "cell_type": "markdown",
      "metadata": {
        "id": "lL8OV_d-U80r"
      },
      "source": [
        "**Training your model**"
      ]
    },
    {
      "cell_type": "code",
      "execution_count": null,
      "metadata": {
        "id": "I5VycNgNU80s",
        "colab": {
          "base_uri": "https://localhost:8080/"
        },
        "outputId": "8fe95a81-b504-43ad-8d04-05d157c898ba"
      },
      "outputs": [
        {
          "output_type": "stream",
          "name": "stdout",
          "text": [
            "Epoch 1/10\n",
            "49/49 [==============================] - 1s 9ms/step - loss: 0.5866 - accuracy: 0.7096 - val_loss: 0.5027 - val_accuracy: 0.7817\n",
            "Epoch 2/10\n",
            "49/49 [==============================] - 0s 5ms/step - loss: 0.4632 - accuracy: 0.7928 - val_loss: 0.4330 - val_accuracy: 0.8087\n",
            "Epoch 3/10\n",
            "49/49 [==============================] - 0s 4ms/step - loss: 0.4171 - accuracy: 0.8134 - val_loss: 0.4236 - val_accuracy: 0.8057\n",
            "Epoch 4/10\n",
            "49/49 [==============================] - 0s 4ms/step - loss: 0.4015 - accuracy: 0.8222 - val_loss: 0.4204 - val_accuracy: 0.8036\n",
            "Epoch 5/10\n",
            "49/49 [==============================] - 0s 4ms/step - loss: 0.3948 - accuracy: 0.8256 - val_loss: 0.3964 - val_accuracy: 0.8196\n",
            "Epoch 6/10\n",
            "49/49 [==============================] - 0s 5ms/step - loss: 0.3881 - accuracy: 0.8286 - val_loss: 0.3828 - val_accuracy: 0.8313\n",
            "Epoch 7/10\n",
            "49/49 [==============================] - 0s 4ms/step - loss: 0.3855 - accuracy: 0.8300 - val_loss: 0.3889 - val_accuracy: 0.8242\n",
            "Epoch 8/10\n",
            "49/49 [==============================] - 0s 4ms/step - loss: 0.3815 - accuracy: 0.8310 - val_loss: 0.3768 - val_accuracy: 0.8354\n",
            "Epoch 9/10\n",
            "49/49 [==============================] - 0s 4ms/step - loss: 0.3781 - accuracy: 0.8339 - val_loss: 0.3755 - val_accuracy: 0.8350\n",
            "Epoch 10/10\n",
            "49/49 [==============================] - 0s 4ms/step - loss: 0.3762 - accuracy: 0.8350 - val_loss: 0.3772 - val_accuracy: 0.8349\n"
          ]
        }
      ],
      "source": [
        "history = NN_imdb.fit(corpus_w2v_avg_df,\n",
        "                    train_labels,\n",
        "                    epochs=10,\n",
        "                    batch_size=512,\n",
        "                    validation_data=(corpus_w2v_avg_df_test, test_labels))"
      ]
    },
    {
      "cell_type": "code",
      "execution_count": null,
      "metadata": {
        "id": "Q7p0Fk0bU80s",
        "colab": {
          "base_uri": "https://localhost:8080/"
        },
        "outputId": "f369f5b5-6677-4741-d25d-4ff6b99edd47"
      },
      "outputs": [
        {
          "output_type": "execute_result",
          "data": {
            "text/plain": [
              "dict_keys(['loss', 'accuracy', 'val_loss', 'val_accuracy'])"
            ]
          },
          "metadata": {},
          "execution_count": 19
        }
      ],
      "source": [
        "history_dict = history.history\n",
        "history_dict.keys()"
      ]
    },
    {
      "cell_type": "markdown",
      "metadata": {
        "id": "zhP2AyESU80s"
      },
      "source": [
        "**Plotting the training and validation loss**"
      ]
    },
    {
      "cell_type": "code",
      "execution_count": null,
      "metadata": {
        "id": "JRZyImMBU80s",
        "colab": {
          "base_uri": "https://localhost:8080/",
          "height": 295
        },
        "outputId": "8f127848-fc2c-44be-d4a1-b17237756e2a"
      },
      "outputs": [
        {
          "output_type": "display_data",
          "data": {
            "text/plain": [
              "<Figure size 432x288 with 1 Axes>"
            ],
            "image/png": "[encoded data removed]"
          },
          "metadata": {
            "needs_background": "light"
          }
        }
      ],
      "source": [
        "import matplotlib.pyplot as plt\n",
        "history_dict = history.history\n",
        "loss_values = history_dict[\"loss\"]\n",
        "val_loss_values = history_dict[\"val_loss\"]\n",
        "epochs = range(1, len(loss_values) + 1)\n",
        "plt.plot(epochs, loss_values, \"bo\", label=\"Training loss\")\n",
        "plt.plot(epochs, val_loss_values, \"b\", label=\"Validation loss\")\n",
        "plt.title(\"Training and validation loss\")\n",
        "plt.xlabel(\"Epochs\")\n",
        "plt.ylabel(\"Loss\")\n",
        "plt.legend()\n",
        "plt.show()"
      ]
    },
    {
      "cell_type": "markdown",
      "source": [
        "Sentiment dictionary"
      ],
      "metadata": {
        "id": "qJRkGPhksBm3"
      }
    },
    {
      "cell_type": "code",
      "source": [
        "bing = pd.read_csv(TWSM_path+\"data/bing.csv\")\n",
        "\n",
        "bing"
      ],
      "metadata": {
        "colab": {
          "base_uri": "https://localhost:8080/",
          "height": 423
        },
        "id": "hmrTH4rKr5Mc",
        "outputId": "3f2ed52b-a856-4e78-c927-7303a81137be"
      },
      "execution_count": null,
      "outputs": [
        {
          "output_type": "execute_result",
          "data": {
            "text/plain": [
              "      Unnamed: 0        word sentiment\n",
              "0              1     2-faces  negative\n",
              "1              2    abnormal  negative\n",
              "2              3     abolish  negative\n",
              "3              4  abominable  negative\n",
              "4              5  abominably  negative\n",
              "...          ...         ...       ...\n",
              "6781        6782   zealously  negative\n",
              "6782        6783      zenith  positive\n",
              "6783        6784        zest  positive\n",
              "6784        6785       zippy  positive\n",
              "6785        6786      zombie  negative\n",
              "\n",
              "[6786 rows x 3 columns]"
            ],
            "text/html": [
              "\n",
              "  <div id=\"df-620c8a87-1ffa-426a-bd57-08c5a485aa53\">\n",
              "    <div class=\"colab-df-container\">\n",
              "      <div>\n",
              "<style scoped>\n",
              "    .dataframe tbody tr th:only-of-type {\n",
              "        vertical-align: middle;\n",
              "    }\n",
              "\n",
              "    .dataframe tbody tr th {\n",
              "        vertical-align: top;\n",
              "    }\n",
              "\n",
              "    .dataframe thead th {\n",
              "        text-align: right;\n",
              "    }\n",
              "</style>\n",
              "<table border=\"1\" class=\"dataframe\">\n",
              "  <thead>\n",
              "    <tr style=\"text-align: right;\">\n",
              "      <th></th>\n",
              "      <th>Unnamed: 0</th>\n",
              "      <th>word</th>\n",
              "      <th>sentiment</th>\n",
              "    </tr>\n",
              "  </thead>\n",
              "  <tbody>\n",
              "    <tr>\n",
              "      <th>0</th>\n",
              "      <td>1</td>\n",
              "      <td>2-faces</td>\n",
              "      <td>negative</td>\n",
              "    </tr>\n",
              "    <tr>\n",
              "      <th>1</th>\n",
              "      <td>2</td>\n",
              "      <td>abnormal</td>\n",
              "      <td>negative</td>\n",
              "    </tr>\n",
              "    <tr>\n",
              "      <th>2</th>\n",
              "      <td>3</td>\n",
              "      <td>abolish</td>\n",
              "      <td>negative</td>\n",
              "    </tr>\n",
              "    <tr>\n",
              "      <th>3</th>\n",
              "      <td>4</td>\n",
              "      <td>abominable</td>\n",
              "      <td>negative</td>\n",
              "    </tr>\n",
              "    <tr>\n",
              "      <th>4</th>\n",
              "      <td>5</td>\n",
              "      <td>abominably</td>\n",
              "      <td>negative</td>\n",
              "    </tr>\n",
              "    <tr>\n",
              "      <th>...</th>\n",
              "      <td>...</td>\n",
              "      <td>...</td>\n",
              "      <td>...</td>\n",
              "    </tr>\n",
              "    <tr>\n",
              "      <th>6781</th>\n",
              "      <td>6782</td>\n",
              "      <td>zealously</td>\n",
              "      <td>negative</td>\n",
              "    </tr>\n",
              "    <tr>\n",
              "      <th>6782</th>\n",
              "      <td>6783</td>\n",
              "      <td>zenith</td>\n",
              "      <td>positive</td>\n",
              "    </tr>\n",
              "    <tr>\n",
              "      <th>6783</th>\n",
              "      <td>6784</td>\n",
              "      <td>zest</td>\n",
              "      <td>positive</td>\n",
              "    </tr>\n",
              "    <tr>\n",
              "      <th>6784</th>\n",
              "      <td>6785</td>\n",
              "      <td>zippy</td>\n",
              "      <td>positive</td>\n",
              "    </tr>\n",
              "    <tr>\n",
              "      <th>6785</th>\n",
              "      <td>6786</td>\n",
              "      <td>zombie</td>\n",
              "      <td>negative</td>\n",
              "    </tr>\n",
              "  </tbody>\n",
              "</table>\n",
              "<p>6786 rows × 3 columns</p>\n",
              "</div>\n",
              "      <button class=\"colab-df-convert\" onclick=\"convertToInteractive('df-620c8a87-1ffa-426a-bd57-08c5a485aa53')\"\n",
              "              title=\"Convert this dataframe to an interactive table.\"\n",
              "              style=\"display:none;\">\n",
              "        \n",
              "  <svg xmlns=\"http://www.w3.org/2000/svg\" height=\"24px\"viewBox=\"0 0 24 24\"\n",
              "       width=\"24px\">\n",
              "    <path d=\"M0 0h24v24H0V0z\" fill=\"none\"/>\n",
              "    <path d=\"M18.56 5.44l.94 2.06.94-2.06 2.06-.94-2.06-.94-.94-2.06-.94 2.06-2.06.94zm-11 1L8.5 8.5l.94-2.06 2.06-.94-2.06-.94L8.5 2.5l-.94 2.06-2.06.94zm10 10l.94 2.06.94-2.06 2.06-.94-2.06-.94-.94-2.06-.94 2.06-2.06.94z\"/><path d=\"M17.41 7.96l-1.37-1.37c-.4-.4-.92-.59-1.43-.59-.52 0-1.04.2-1.43.59L10.3 9.45l-7.72 7.72c-.78.78-.78 2.05 0 2.83L4 21.41c.39.39.9.59 1.41.59.51 0 1.02-.2 1.41-.59l7.78-7.78 2.81-2.81c.8-.78.8-2.07 0-2.86zM5.41 20L4 18.59l7.72-7.72 1.47 1.35L5.41 20z\"/>\n",
              "  </svg>\n",
              "      </button>\n",
              "      \n",
              "  <style>\n",
              "    .colab-df-container {\n",
              "      display:flex;\n",
              "      flex-wrap:wrap;\n",
              "      gap: 12px;\n",
              "    }\n",
              "\n",
              "    .colab-df-convert {\n",
              "      background-color: #E8F0FE;\n",
              "      border: none;\n",
              "      border-radius: 50%;\n",
              "      cursor: pointer;\n",
              "      display: none;\n",
              "      fill: #1967D2;\n",
              "      height: 32px;\n",
              "      padding: 0 0 0 0;\n",
              "      width: 32px;\n",
              "    }\n",
              "\n",
              "    .colab-df-convert:hover {\n",
              "      background-color: #E2EBFA;\n",
              "      box-shadow: 0px 1px 2px rgba(60, 64, 67, 0.3), 0px 1px 3px 1px rgba(60, 64, 67, 0.15);\n",
              "      fill: #174EA6;\n",
              "    }\n",
              "\n",
              "    [theme=dark] .colab-df-convert {\n",
              "      background-color: #3B4455;\n",
              "      fill: #D2E3FC;\n",
              "    }\n",
              "\n",
              "    [theme=dark] .colab-df-convert:hover {\n",
              "      background-color: #434B5C;\n",
              "      box-shadow: 0px 1px 3px 1px rgba(0, 0, 0, 0.15);\n",
              "      filter: drop-shadow(0px 1px 2px rgba(0, 0, 0, 0.3));\n",
              "      fill: #FFFFFF;\n",
              "    }\n",
              "  </style>\n",
              "\n",
              "      <script>\n",
              "        const buttonEl =\n",
              "          document.querySelector('#df-620c8a87-1ffa-426a-bd57-08c5a485aa53 button.colab-df-convert');\n",
              "        buttonEl.style.display =\n",
              "          google.colab.kernel.accessAllowed ? 'block' : 'none';\n",
              "\n",
              "        async function convertToInteractive(key) {\n",
              "          const element = document.querySelector('#df-620c8a87-1ffa-426a-bd57-08c5a485aa53');\n",
              "          const dataTable =\n",
              "            await google.colab.kernel.invokeFunction('convertToInteractive',\n",
              "                                                     [key], {});\n",
              "          if (!dataTable) return;\n",
              "\n",
              "          const docLinkHtml = 'Like what you see? Visit the ' +\n",
              "            '<a target=\"_blank\" href=https://colab.research.google.com/notebooks/data_table.ipynb>data table notebook</a>'\n",
              "            + ' to learn more about interactive tables.';\n",
              "          element.innerHTML = '';\n",
              "          dataTable['output_type'] = 'display_data';\n",
              "          await google.colab.output.renderOutput(dataTable, element);\n",
              "          const docLink = document.createElement('div');\n",
              "          docLink.innerHTML = docLinkHtml;\n",
              "          element.appendChild(docLink);\n",
              "        }\n",
              "      </script>\n",
              "    </div>\n",
              "  </div>\n",
              "  "
            ]
          },
          "metadata": {},
          "execution_count": 21
        }
      ]
    },
    {
      "cell_type": "markdown",
      "source": [
        "Load the bing sentiment dictionary. Compute two separate embeddings for the negative and positive sentiments.\n",
        "\n",
        "Compute the similarity between these two vectors and a few selected reviews. Does it agree with their label?"
      ],
      "metadata": {
        "id": "lnx6wCB-j1q4"
      }
    },
    {
      "cell_type": "code",
      "source": [
        "positiveWords = bing[bing[\"sentiment\"]==\"positive\"][\"word\"]\n",
        "positiveWords"
      ],
      "metadata": {
        "id": "O8fojCbLu-hm",
        "colab": {
          "base_uri": "https://localhost:8080/"
        },
        "outputId": "69df0281-c440-4bf5-d4b6-b6ad01124b40"
      },
      "execution_count": null,
      "outputs": [
        {
          "output_type": "execute_result",
          "data": {
            "text/plain": [
              "10          abound\n",
              "11         abounds\n",
              "24       abundance\n",
              "25        abundant\n",
              "33      accessable\n",
              "           ...    \n",
              "6774      youthful\n",
              "6778          zeal\n",
              "6782        zenith\n",
              "6783          zest\n",
              "6784         zippy\n",
              "Name: word, Length: 2005, dtype: object"
            ]
          },
          "metadata": {},
          "execution_count": 22
        }
      ]
    },
    {
      "cell_type": "code",
      "source": [
        "negativeWords = bing[bing[\"sentiment\"]==\"negative\"][\"word\"]\n",
        "negativeWords"
      ],
      "metadata": {
        "id": "zDERUrB7vgqA",
        "colab": {
          "base_uri": "https://localhost:8080/"
        },
        "outputId": "59c8b649-6564-41ab-977e-383cef6d0f04"
      },
      "execution_count": null,
      "outputs": [
        {
          "output_type": "execute_result",
          "data": {
            "text/plain": [
              "0          2-faces\n",
              "1         abnormal\n",
              "2          abolish\n",
              "3       abominable\n",
              "4       abominably\n",
              "           ...    \n",
              "6777          zaps\n",
              "6779        zealot\n",
              "6780       zealous\n",
              "6781     zealously\n",
              "6785        zombie\n",
              "Name: word, Length: 4781, dtype: object"
            ]
          },
          "metadata": {},
          "execution_count": 23
        }
      ]
    },
    {
      "cell_type": "code",
      "source": [
        "# Document representation for the positive\n",
        "corpus_w2v=[[model.wv[word] for word in doc if word in model.wv.vocab.keys()] for doc in positiveWords]\n",
        "positive=[i for i in range(len(positiveWords)) if len(corpus_w2v[i])>0]\n",
        "\n",
        "corpus_w2v2=[corpus_w2v[i] for i in positive]\n",
        "#data_lemma2=[data_lemma[i] for i in positive]\n",
        "\n",
        "# Document average representation\n",
        "corpus_w2v_avg_clean=[sum(words)/len(words) for words in corpus_w2v2]\n"
      ],
      "metadata": {
        "id": "JFubh3N7xvg4"
      },
      "execution_count": null,
      "outputs": []
    },
    {
      "cell_type": "code",
      "source": [
        "# cosine similarity to other documents\n",
        "from scipy.spatial.distance import cosine\n",
        "\n",
        "result=[(1 - cosine(corpus_w2v_avg_clean[0],corpus_w2v_avg_clean[i])) for i in range(1,len(corpus_w2v_avg_clean))]\n",
        "#most_similar=data_lemma2[result.index(max(result))+1]\n",
        "#print(data_lemma2[0])\n",
        "#print('')\n",
        "#print(most_similar)\n",
        "result.index(max(result))"
      ],
      "metadata": {
        "id": "0JPuvs4Vxwcn",
        "colab": {
          "base_uri": "https://localhost:8080/"
        },
        "outputId": "d8f98a0e-7787-4841-d026-3b385e78db89"
      },
      "execution_count": null,
      "outputs": [
        {
          "output_type": "execute_result",
          "data": {
            "text/plain": [
              "0"
            ]
          },
          "metadata": {},
          "execution_count": 28
        }
      ]
    }
  ],
  "metadata": {
    "colab": {
      "name": "Class5_solution.ipynb",
      "provenance": [],
      "collapsed_sections": [],
      "include_colab_link": true
    },
    "kernelspec": {
      "display_name": "Python 3",
      "language": "python",
      "name": "python3"
    },
    "language_info": {
      "codemirror_mode": {
        "name": "ipython",
        "version": 3
      },
      "file_extension": ".py",
      "mimetype": "text/x-python",
      "name": "python",
      "nbconvert_exporter": "python",
      "pygments_lexer": "ipython3",
      "version": "3.8.3"
    }
  },
  "nbformat": 4,
  "nbformat_minor": 0
}