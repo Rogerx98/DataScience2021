{
  "cells": [
    {
      "cell_type": "markdown",
      "metadata": {
        "id": "view-in-github",
        "colab_type": "text"
      },
      "source": [
        "<a href=\"https://colab.research.google.com/github/markusloecher/DataScience2021/blob/main/TWSM/Class4.ipynb\" target=\"_parent\"><img src=\"https://colab.research.google.com/assets/colab-badge.svg\" alt=\"Open In Colab\"/></a>"
      ]
    },
    {
      "cell_type": "markdown",
      "source": [
        "### Libraries"
      ],
      "metadata": {
        "id": "L0HoGesYBC1E"
      }
    },
    {
      "cell_type": "code",
      "source": [
        "from google.colab import drive\n",
        "#drive.mount('/content/drive')\n",
        "TWSM_path = \"/content/drive/MyDrive/teaching/TWSM/WorkInClass/\"\n",
        "\n",
        "#from TWSM import *\n",
        "from tensorflow import keras\n",
        "#from tensorflow.keras import layers\n"
      ],
      "metadata": {
        "id": "4k1Km8WrvyWM"
      },
      "execution_count": null,
      "outputs": []
    },
    {
      "cell_type": "code",
      "execution_count": null,
      "metadata": {
        "colab": {
          "base_uri": "https://localhost:8080/"
        },
        "id": "9AczlUWfwpd6",
        "outputId": "7bc8b3ab-5e1a-4373-e845-2e22fb27c583"
      },
      "outputs": [
        {
          "output_type": "stream",
          "name": "stdout",
          "text": [
            "Mounted at /content/drive\n"
          ]
        }
      ],
      "source": [
        "from google.colab import drive\n",
        "drive.mount('/content/drive')"
      ]
    },
    {
      "cell_type": "markdown",
      "source": [
        "### SVD\n",
        "\n",
        "#### Tasks\n",
        "\n",
        "1. Compute the SVD for our movie rankings and find the first two eigenvectors for movies and users.\n",
        "2. Compute the SVD for the MNIST data\n",
        "3. Reconstruct the digits with a \"truncated SVD that captures 80% of the variance\"\n"
      ],
      "metadata": {
        "id": "36qQQ1GgBc5b"
      }
    },
    {
      "cell_type": "markdown",
      "source": [
        "**Minimal Example for the SVD**\n",
        "\n",
        "Running this example first prints the defined 3×2 matrix, then the 3×3 U matrix, 2 element Sigma vector, and 2×2 V^T matrix elements calculated from the decomposition."
      ],
      "metadata": {
        "id": "_Xp-PjqRB1x9"
      }
    },
    {
      "cell_type": "code",
      "source": [
        "# Singular-value decomposition\n",
        "import numpy as np\n",
        "from scipy.linalg import svd\n",
        "# define a matrix\n",
        "A = np.array([[1, 2], [3, 4], [5, 6]])\n",
        "print(A)\n",
        "# SVD\n",
        "U, s, VT = svd(A)\n",
        "print(U)\n",
        "print(s)\n",
        "print(VT)"
      ],
      "metadata": {
        "colab": {
          "base_uri": "https://localhost:8080/"
        },
        "id": "SE2u01F8BvuS",
        "outputId": "7d46fa5c-e08e-4b8f-a334-807854035c2f"
      },
      "execution_count": null,
      "outputs": [
        {
          "output_type": "stream",
          "name": "stdout",
          "text": [
            "[[1 2]\n",
            " [3 4]\n",
            " [5 6]]\n",
            "[[-0.2298477   0.88346102  0.40824829]\n",
            " [-0.52474482  0.24078249 -0.81649658]\n",
            " [-0.81964194 -0.40189603  0.40824829]]\n",
            "[9.52551809 0.51430058]\n",
            "[[-0.61962948 -0.78489445]\n",
            " [-0.78489445  0.61962948]]\n"
          ]
        }
      ]
    },
    {
      "cell_type": "markdown",
      "source": [
        "**Reconstruct Matrix from SVD**\n",
        "\n",
        "The U, s, and V elements returned from the svd() cannot be multiplied directly.\n",
        "\n",
        "The s vector must be converted into a diagonal matrix using the diag() function. By default, this function will create a square matrix that is n x n, relative to our original matrix. This causes a problem as the size of the matrices do not fit the rules of matrix multiplication, where the number of columns in a matrix must match the number of rows in the subsequent matrix.\n",
        "\n",
        "After creating the square Sigma diagonal matrix, the sizes of the matrices are relative to the original m x n matrix that we are decomposing, as follows:\n",
        "\n",
        "$U (m x m) . Sigma (n x n) . V^T (n x n)$\n",
        "\n",
        "Where, in fact, we require:\n",
        "\n",
        "$U (m x m) . Sigma (m x n) . V^T (n x n)$\n",
        "\n",
        "We can achieve this by creating a new Sigma matrix of all zero values that is m x n (e.g. more rows) and populate the first n x n part of the matrix with the square diagonal matrix calculated via diag().\n",
        "\n"
      ],
      "metadata": {
        "id": "XLLfaHjrCMtY"
      }
    },
    {
      "cell_type": "code",
      "source": [
        "# Reconstruct SVD\n",
        "\n",
        "# create m x n Sigma matrix\n",
        "Sigma = np.zeros((A.shape[0], A.shape[1]))\n",
        "# populate Sigma with n x n diagonal matrix\n",
        "Sigma[:A.shape[1], :A.shape[1]] = np.diag(s)\n",
        "# reconstruct matrix\n",
        "B = U.dot(Sigma.dot(VT))\n",
        "print(B)"
      ],
      "metadata": {
        "colab": {
          "base_uri": "https://localhost:8080/"
        },
        "id": "dwy_PbDsCNaP",
        "outputId": "db5a832f-862c-4971-da20-8f3665ee4dba"
      },
      "execution_count": null,
      "outputs": [
        {
          "output_type": "stream",
          "name": "stdout",
          "text": [
            "[[1. 2.]\n",
            " [3. 4.]\n",
            " [5. 6.]]\n"
          ]
        }
      ]
    },
    {
      "cell_type": "markdown",
      "source": [
        "The above complication with the Sigma diagonal only exists with the case where m and n are not equal. The diagonal matrix can be used directly when reconstructing a square matrix, as follows.\n",
        "\n",
        "### Truncated SVD\n",
        "\n",
        "Data with a large number of features, such as more features (columns) than observations (rows) may be reduced to a smaller subset of features that are most relevant to the prediction problem.\n",
        "\n",
        "The result is a matrix with a lower rank that is said to approximate the original matrix.\n",
        "\n",
        "To do this we can perform an SVD operation on the original data and select the top k largest singular values in Sigma. These columns can be selected from Sigma and the rows selected from $V^T$.\n",
        "\n",
        "An approximate B of the original vector A can then be reconstructed.\n",
        "\n",
        "$$B = U . Sigma_k . V^T_k$$\n",
        "\n",
        "In natural language processing, this approach can be used on matrices of word occurrences or word frequencies in documents and is called **Latent Semantic Analysis** or **Latent Semantic Indexing**.\n",
        "\n"
      ],
      "metadata": {
        "id": "ZqaXAMPVDmrL"
      }
    },
    {
      "cell_type": "code",
      "source": [
        ""
      ],
      "metadata": {
        "id": "Ul4lw5qaFB2v"
      },
      "execution_count": null,
      "outputs": []
    },
    {
      "cell_type": "markdown",
      "source": [
        "## Data"
      ],
      "metadata": {
        "id": "YhEZsOc7BVqY"
      }
    },
    {
      "cell_type": "markdown",
      "source": [
        "#### MNIST\n"
      ],
      "metadata": {
        "id": "U8UfjdbKBX51"
      }
    },
    {
      "cell_type": "code",
      "source": [
        "(x_train, y_train), (x_test, y_test) = keras.datasets.mnist.load_data()"
      ],
      "metadata": {
        "id": "ttuqcxffBZ9M"
      },
      "execution_count": null,
      "outputs": []
    },
    {
      "cell_type": "code",
      "source": [
        "assert x_train.shape == (60000, 28, 28)\n",
        "assert x_test.shape == (10000, 28, 28)\n",
        "assert y_train.shape == (60000,)\n",
        "assert y_test.shape == (10000,)"
      ],
      "metadata": {
        "id": "V_BXXkX3EVbY"
      },
      "execution_count": null,
      "outputs": []
    },
    {
      "cell_type": "markdown",
      "source": [
        ""
      ],
      "metadata": {
        "id": "e3ofzmU3fbUH"
      }
    }
  ],
  "metadata": {
    "colab": {
      "name": "Class4.ipynb",
      "provenance": [],
      "collapsed_sections": [],
      "include_colab_link": true
    },
    "kernelspec": {
      "display_name": "Python 3",
      "language": "python",
      "name": "python3"
    },
    "language_info": {
      "codemirror_mode": {
        "name": "ipython",
        "version": 3
      },
      "file_extension": ".py",
      "mimetype": "text/x-python",
      "name": "python",
      "nbconvert_exporter": "python",
      "pygments_lexer": "ipython3",
      "version": "3.8.3"
    }
  },
  "nbformat": 4,
  "nbformat_minor": 0
}