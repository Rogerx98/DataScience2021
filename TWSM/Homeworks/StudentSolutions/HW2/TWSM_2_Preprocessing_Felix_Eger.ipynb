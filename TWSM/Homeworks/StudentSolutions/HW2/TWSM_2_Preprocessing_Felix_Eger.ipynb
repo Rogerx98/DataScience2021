{
 "cells": [
  {
   "cell_type": "markdown",
   "id": "6316bd59-fc81-4756-a952-71bc54c22b9b",
   "metadata": {
    "tags": []
   },
   "source": [
    "# Exercise 2. Preprocessing"
   ]
  },
  {
   "cell_type": "markdown",
   "id": "7485c0c5-956f-4d3e-a66b-d255528e89fb",
   "metadata": {
    "tags": []
   },
   "source": [
    "## Import and Installation of necessary modules"
   ]
  },
  {
   "cell_type": "code",
   "execution_count": 122,
   "id": "b0a8913d-36e3-4aea-b4f4-faffe351efbc",
   "metadata": {},
   "outputs": [],
   "source": [
    "#only first time to install spacy\n",
    "import sys\n",
    "#!{sys.executable} -m pip install spacy\n",
    "#!{sys.executable} -m spacy download en"
   ]
  },
  {
   "cell_type": "code",
   "execution_count": 123,
   "id": "6c892529-1851-4491-91d7-9a3d2338b8f2",
   "metadata": {},
   "outputs": [],
   "source": [
    "import pandas as pd\n",
    "import re\n",
    "from gensim.parsing.preprocessing import STOPWORDS, strip_tags, strip_numeric, strip_punctuation, strip_multiple_whitespaces, remove_stopwords, strip_short, stem_text\n",
    "import pickle\n",
    "import en_core_web_sm\n",
    "import nltk"
   ]
  },
  {
   "cell_type": "code",
   "execution_count": 124,
   "id": "d2fb00e3-7c77-4ee1-b7b7-52354cb8cf4b",
   "metadata": {},
   "outputs": [
    {
     "name": "stderr",
     "output_type": "stream",
     "text": [
      "[nltk_data] Downloading package stopwords to\n",
      "[nltk_data]     C:\\Users\\felix\\AppData\\Roaming\\nltk_data...\n",
      "[nltk_data]   Package stopwords is already up-to-date!\n"
     ]
    },
    {
     "data": {
      "text/plain": [
       "True"
      ]
     },
     "execution_count": 124,
     "metadata": {},
     "output_type": "execute_result"
    }
   ],
   "source": [
    "nltk.download('stopwords')"
   ]
  },
  {
   "cell_type": "code",
   "execution_count": 125,
   "id": "52e627e7-01d1-41ff-b6ad-4de60725eef3",
   "metadata": {},
   "outputs": [],
   "source": [
    "from nltk.corpus import stopwords"
   ]
  },
  {
   "cell_type": "markdown",
   "id": "80a65925-b5ad-418a-894e-e7de35deef3b",
   "metadata": {
    "tags": []
   },
   "source": [
    "## Part A"
   ]
  },
  {
   "cell_type": "code",
   "execution_count": 126,
   "id": "47c62754-8b5f-4372-ac41-1426d2fa9b80",
   "metadata": {},
   "outputs": [],
   "source": [
    "# importing json\n",
    "\n",
    "path = r\"https://raw.githubusercontent.com/selva86/datasets/master/newsgroups.json\"\n",
    "\n",
    "df = pd.read_json(path)"
   ]
  },
  {
   "cell_type": "code",
   "execution_count": 127,
   "id": "cfe2d613-d087-41b1-b5c7-7bbcb84ca8af",
   "metadata": {},
   "outputs": [
    {
     "data": {
      "text/html": [
       "<div>\n",
       "<style scoped>\n",
       "    .dataframe tbody tr th:only-of-type {\n",
       "        vertical-align: middle;\n",
       "    }\n",
       "\n",
       "    .dataframe tbody tr th {\n",
       "        vertical-align: top;\n",
       "    }\n",
       "\n",
       "    .dataframe thead th {\n",
       "        text-align: right;\n",
       "    }\n",
       "</style>\n",
       "<table border=\"1\" class=\"dataframe\">\n",
       "  <thead>\n",
       "    <tr style=\"text-align: right;\">\n",
       "      <th></th>\n",
       "      <th>content</th>\n",
       "      <th>target</th>\n",
       "      <th>target_names</th>\n",
       "    </tr>\n",
       "  </thead>\n",
       "  <tbody>\n",
       "    <tr>\n",
       "      <th>0</th>\n",
       "      <td>From: lerxst@wam.umd.edu (where's my thing)\\nS...</td>\n",
       "      <td>7</td>\n",
       "      <td>rec.autos</td>\n",
       "    </tr>\n",
       "    <tr>\n",
       "      <th>1</th>\n",
       "      <td>From: guykuo@carson.u.washington.edu (Guy Kuo)...</td>\n",
       "      <td>4</td>\n",
       "      <td>comp.sys.mac.hardware</td>\n",
       "    </tr>\n",
       "    <tr>\n",
       "      <th>2</th>\n",
       "      <td>From: twillis@ec.ecn.purdue.edu (Thomas E Will...</td>\n",
       "      <td>4</td>\n",
       "      <td>comp.sys.mac.hardware</td>\n",
       "    </tr>\n",
       "    <tr>\n",
       "      <th>3</th>\n",
       "      <td>From: jgreen@amber (Joe Green)\\nSubject: Re: W...</td>\n",
       "      <td>1</td>\n",
       "      <td>comp.graphics</td>\n",
       "    </tr>\n",
       "    <tr>\n",
       "      <th>4</th>\n",
       "      <td>From: jcm@head-cfa.harvard.edu (Jonathan McDow...</td>\n",
       "      <td>14</td>\n",
       "      <td>sci.space</td>\n",
       "    </tr>\n",
       "  </tbody>\n",
       "</table>\n",
       "</div>"
      ],
      "text/plain": [
       "                                             content  target  \\\n",
       "0  From: lerxst@wam.umd.edu (where's my thing)\\nS...       7   \n",
       "1  From: guykuo@carson.u.washington.edu (Guy Kuo)...       4   \n",
       "2  From: twillis@ec.ecn.purdue.edu (Thomas E Will...       4   \n",
       "3  From: jgreen@amber (Joe Green)\\nSubject: Re: W...       1   \n",
       "4  From: jcm@head-cfa.harvard.edu (Jonathan McDow...      14   \n",
       "\n",
       "            target_names  \n",
       "0              rec.autos  \n",
       "1  comp.sys.mac.hardware  \n",
       "2  comp.sys.mac.hardware  \n",
       "3          comp.graphics  \n",
       "4              sci.space  "
      ]
     },
     "execution_count": 127,
     "metadata": {},
     "output_type": "execute_result"
    }
   ],
   "source": [
    "df.head()"
   ]
  },
  {
   "cell_type": "markdown",
   "id": "6069e7be-2bf9-455a-aab8-627b6c6e1e3d",
   "metadata": {
    "tags": []
   },
   "source": [
    "#### **What kind of data does it contain?**"
   ]
  },
  {
   "cell_type": "code",
   "execution_count": 128,
   "id": "a7cd05de-925a-4f76-a667-f6de0e8d8093",
   "metadata": {},
   "outputs": [
    {
     "name": "stdout",
     "output_type": "stream",
     "text": [
      "<class 'str'>\n",
      "content\n",
      "<class 'str'>\n",
      "target\n",
      "<class 'str'>\n",
      "target_names\n"
     ]
    }
   ],
   "source": [
    "for feature in df.columns:\n",
    "    print(type(feature))\n",
    "    print(feature)"
   ]
  },
  {
   "cell_type": "code",
   "execution_count": 129,
   "id": "12f94924-489d-477c-af25-b0c17f955ea1",
   "metadata": {},
   "outputs": [
    {
     "data": {
      "text/plain": [
       "array([ 7,  4,  1, 14, 16, 13,  3,  2,  8, 19,  6,  0, 12,  5, 10,  9, 15,\n",
       "       17, 18, 11], dtype=int64)"
      ]
     },
     "execution_count": 129,
     "metadata": {},
     "output_type": "execute_result"
    }
   ],
   "source": [
    "df[\"target\"].unique()"
   ]
  },
  {
   "cell_type": "code",
   "execution_count": 130,
   "id": "70978c03-95e6-4236-aa31-47d8fac57bd1",
   "metadata": {},
   "outputs": [
    {
     "name": "stdout",
     "output_type": "stream",
     "text": [
      "From: lerxst@wam.umd.edu (where's my thing)\n",
      "Subject: WHAT car is this!?\n",
      "Nntp-Posting-Host: rac3.wam.umd.edu\n",
      "Organization: University of Maryland, College Park\n",
      "Lines: 15\n",
      "\n",
      " I was wondering if anyone out there could enlighten me on this car I saw\n",
      "the other day. It was a 2-door sports car, looked to be from the late 60s/\n",
      "early 70s. It was called a Bricklin. The doors were really small. In addition,\n",
      "the front bumper was separate from the rest of the body. This is \n",
      "all I know. If anyone can tellme a model name, engine specs, years\n",
      "of production, where this car is made, history, or whatever info you\n",
      "have on this funky looking car, please e-mail.\n",
      "\n",
      "Thanks,\n",
      "- IL\n",
      "   ---- brought to you by your neighborhood Lerxst ----\n",
      "\n",
      "\n",
      "\n",
      "\n",
      "\n"
     ]
    }
   ],
   "source": [
    "print(df[\"content\"][0])"
   ]
  },
  {
   "cell_type": "code",
   "execution_count": 131,
   "id": "9f1b30f2-3b58-49ac-8e82-d224f4bd16c5",
   "metadata": {},
   "outputs": [
    {
     "data": {
      "text/plain": [
       "array(['rec.autos', 'comp.sys.mac.hardware', 'comp.graphics', 'sci.space',\n",
       "       'talk.politics.guns', 'sci.med', 'comp.sys.ibm.pc.hardware',\n",
       "       'comp.os.ms-windows.misc', 'rec.motorcycles', 'talk.religion.misc',\n",
       "       'misc.forsale', 'alt.atheism', 'sci.electronics', 'comp.windows.x',\n",
       "       'rec.sport.hockey', 'rec.sport.baseball', 'soc.religion.christian',\n",
       "       'talk.politics.mideast', 'talk.politics.misc', 'sci.crypt'],\n",
       "      dtype=object)"
      ]
     },
     "execution_count": 131,
     "metadata": {},
     "output_type": "execute_result"
    }
   ],
   "source": [
    "df[\"target_names\"].unique()"
   ]
  },
  {
   "cell_type": "markdown",
   "id": "d3c4ef50-d807-4d8a-8067-7c76d082ec3a",
   "metadata": {},
   "source": [
    "Judging from the initial results of the types of each feature, the dataframe only consists of strings. <br>\n",
    "Assessing 'target', however, it seems as if the data should be coerced to integer values. <br>\n",
    "To assess the content of each feature, it seems as if 'content' contains emails written by people. <br>\n",
    "The email can, based on the content, be categorised into one of the catogories in target_names, which is encrypted in a numerical value in 'target'. "
   ]
  },
  {
   "cell_type": "markdown",
   "id": "36476cc8-6cc3-4d59-ac6a-ed84076e20d0",
   "metadata": {
    "tags": []
   },
   "source": [
    "#### **How many entries does it have?**"
   ]
  },
  {
   "cell_type": "code",
   "execution_count": 132,
   "id": "cfc34d69-6ca6-4cac-b9cf-3a01132470bb",
   "metadata": {},
   "outputs": [
    {
     "data": {
      "text/plain": [
       "(11314, 3)"
      ]
     },
     "execution_count": 132,
     "metadata": {},
     "output_type": "execute_result"
    }
   ],
   "source": [
    "df.shape"
   ]
  },
  {
   "cell_type": "markdown",
   "id": "c4ca0b11-413a-4a15-8096-92525a737ffe",
   "metadata": {},
   "source": [
    "As given by the results, we can see that the dataframe contains 11314 emails and corresponding targets."
   ]
  },
  {
   "cell_type": "markdown",
   "id": "e8d47e62-f237-478d-9fbb-37938da89512",
   "metadata": {
    "tags": []
   },
   "source": [
    "#### **What is their distribution (e.g. with value_counts())?**"
   ]
  },
  {
   "cell_type": "code",
   "execution_count": 133,
   "id": "e2bd6c41-6d50-4291-90f1-5bdef9a1cacc",
   "metadata": {},
   "outputs": [],
   "source": [
    "import seaborn as sns"
   ]
  },
  {
   "cell_type": "code",
   "execution_count": 134,
   "id": "eef3b163-fc8b-4a3e-8cd9-7a7f25c29ce9",
   "metadata": {},
   "outputs": [
    {
     "data": {
      "text/plain": [
       "<AxesSubplot:xlabel='target', ylabel='Count'>"
      ]
     },
     "execution_count": 134,
     "metadata": {},
     "output_type": "execute_result"
    },
    {
     "data": {
      "image/png": "[encoded data removed]",
      "text/plain": [
       "<Figure size 432x288 with 1 Axes>"
      ]
     },
     "metadata": {
      "needs_background": "light"
     },
     "output_type": "display_data"
    }
   ],
   "source": [
    "sns.histplot(df[\"target\"], bins=df[\"target\"].unique().max())"
   ]
  },
  {
   "cell_type": "markdown",
   "id": "6b3a1062-db88-4f11-a234-6e354da89b33",
   "metadata": {},
   "source": [
    "At first glance it seems as if the targets almost follow a uniform distribution, with a higher representation of emails related to cryptography."
   ]
  },
  {
   "cell_type": "markdown",
   "id": "eb43d5bf-ce41-4b21-a689-604c18d2f28c",
   "metadata": {},
   "source": [
    "#### **Print the first content value. <br> Does it match the target name? Which business question can this dataset address?**\n"
   ]
  },
  {
   "cell_type": "code",
   "execution_count": 135,
   "id": "a90598a3-81eb-4f01-88a3-33832559b33a",
   "metadata": {},
   "outputs": [
    {
     "name": "stdout",
     "output_type": "stream",
     "text": [
      "From: lerxst@wam.umd.edu (where's my thing)\n",
      "Subject: WHAT car is this!?\n",
      "Nntp-Posting-Host: rac3.wam.umd.edu\n",
      "Organization: University of Maryland, College Park\n",
      "Lines: 15\n",
      "\n",
      " I was wondering if anyone out there could enlighten me on this car I saw\n",
      "the other day. It was a 2-door sports car, looked to be from the late 60s/\n",
      "early 70s. It was called a Bricklin. The doors were really small. In addition,\n",
      "the front bumper was separate from the rest of the body. This is \n",
      "all I know. If anyone can tellme a model name, engine specs, years\n",
      "of production, where this car is made, history, or whatever info you\n",
      "have on this funky looking car, please e-mail.\n",
      "\n",
      "Thanks,\n",
      "- IL\n",
      "   ---- brought to you by your neighborhood Lerxst ----\n",
      "\n",
      "\n",
      "\n",
      "\n",
      "\n"
     ]
    }
   ],
   "source": [
    "print(df[\"content\"][0])"
   ]
  },
  {
   "cell_type": "code",
   "execution_count": 136,
   "id": "d076eaea-015a-4c7b-a106-76ef2a640c85",
   "metadata": {},
   "outputs": [
    {
     "name": "stdout",
     "output_type": "stream",
     "text": [
      "rec.autos\n"
     ]
    }
   ],
   "source": [
    "print(df[\"target_names\"][0])"
   ]
  },
  {
   "cell_type": "markdown",
   "id": "4f2127d6-0a36-4ac0-88f9-cfdabfd88d32",
   "metadata": {},
   "source": [
    "The email contains a person asking his friend about a car he saw the other day and if he could provide more insights. Judging from the description of the target being rec.autos, I would assume the target name is correct. <br>\n"
   ]
  },
  {
   "cell_type": "markdown",
   "id": "fed6ea8e-b1cb-4e2e-9f07-0cedc8171dcd",
   "metadata": {},
   "source": [
    "A business question that could be addressed: \n",
    "Can we determine the user interests based on the content of the email and direct relevant advertisements?"
   ]
  },
  {
   "cell_type": "markdown",
   "id": "72712111-6efd-4519-9bbd-5161151d505d",
   "metadata": {
    "tags": []
   },
   "source": [
    "## Part B"
   ]
  },
  {
   "cell_type": "markdown",
   "id": "1fdce499-8500-421c-b2f3-d9c7aa78c080",
   "metadata": {},
   "source": [
    "#### **Remove the lines beginning with any of the following:<br> ‘From:’, ‘Article-I.D.:’, ‘Organization:’, ‘Lines:’, ‘NNTP-Posting-Host:’, ‘Distribution:’, ‘Reply-To:’, ‘XNewsreader:’, ‘Expires:’, multiples (also one) of ‘-‘ preceded by space using the 2 package re. <br> Remove additionally any of the words ‘Subject:’, ‘Summary:’ or‘Keywords:’. <br> Both removals should be case insensitive. Call the new object data which is your corpus and display the first entry. <br> Why are we doing this?**\n"
   ]
  },
  {
   "cell_type": "code",
   "execution_count": 137,
   "id": "d366a8d0-55f5-4f88-9f33-1bbde4c08489",
   "metadata": {},
   "outputs": [],
   "source": [
    "import re"
   ]
  },
  {
   "cell_type": "code",
   "execution_count": 138,
   "id": "47786c77-9c10-4072-b9b3-89f3c194385c",
   "metadata": {},
   "outputs": [
    {
     "data": {
      "text/plain": [
       "\"From: lerxst@wam.umd.edu (where's my thing)\\nSubject: WHAT car is this!?\\nNntp-Posting-Host: rac3.wam.umd.edu\\nOrganization: University of Maryland, College Park\\nLines: 15\\n\\n I was wondering if anyone out there could enlighten me on this car I saw\\nthe other day. It was a 2-door sports car, looked to be from the late 60s/\\nearly 70s. It was called a Bricklin. The doors were really small. In addition,\\nthe front bumper was separate from the rest of the body. This is \\nall I know. If anyone can tellme a model name, engine specs, years\\nof production, where this car is made, history, or whatever info you\\nhave on this funky looking car, please e-mail.\\n\\nThanks,\\n- IL\\n   ---- brought to you by your neighborhood Lerxst ----\\n\\n\\n\\n\\n\""
      ]
     },
     "execution_count": 138,
     "metadata": {},
     "output_type": "execute_result"
    }
   ],
   "source": [
    "df[\"content\"][0]"
   ]
  },
  {
   "cell_type": "markdown",
   "id": "d75d29ec-0580-4594-a261-caf2d70a623a",
   "metadata": {},
   "source": [
    "Regex Explanation: <br>\n",
    "(?m) -> multiline mode (needed at the beginning) <br>\n",
    "^ -> beginning of the line <br>\n",
    "| -> or <br>\n",
    "[] -> searches for anything within brackets "
   ]
  },
  {
   "cell_type": "code",
   "execution_count": 139,
   "id": "d76ef0a7-2ecd-4db9-8723-a52590315559",
   "metadata": {},
   "outputs": [
    {
     "data": {
      "text/plain": [
       "['From: guykuo@carson.u.washington.edu (Guy Kuo)',\n",
       " 'Subject: SI Clock Poll - Final Call',\n",
       " 'Summary: Final call for SI clock reports',\n",
       " 'Keywords: SI,acceleration,clock,upgrade',\n",
       " 'Article-I.D.: shelley.1qvfo9INNc3s',\n",
       " 'Organization: University of Washington',\n",
       " 'Lines: 11',\n",
       " 'NNTP-Posting-Host: carson.u.washington.edu']"
      ]
     },
     "execution_count": 139,
     "metadata": {},
     "output_type": "execute_result"
    }
   ],
   "source": [
    "#re.findall(\"(?m)^(From+|Article-I.D.:+|Organization:+|Lines:+|NNTP-Posting-Host:+|Distribution:+|Reply-To:+|XNewsreader:+|Expires:|)\", df[\"content\"][0])\n",
    "re.findall('(?m)^(From:.*|Article-I.D.:.*|Organization:.*|Lines:.*|Nntp-Posting-Host:.*|Distribution:.*|Reply-To:.*|X-Newsreader:.*|Expires:.*|\\s*-+.*|Subject:.*|Summary:.*|Keywords:.*)', df[\"content\"][1], flags = re.IGNORECASE)"
   ]
  },
  {
   "cell_type": "code",
   "execution_count": 140,
   "id": "49435cc5-a33b-4715-a304-14a54fa22417",
   "metadata": {},
   "outputs": [],
   "source": [
    "# replacement of emails\n",
    "\n",
    "df[\"data\"] = df.apply(lambda x: re.sub('(?m)^(From:.*|Article-I.D.:.*|Organization:.*|Lines:.*|Nntp-Posting-Host:.*|Distribution:.*|Reply-To:.*|X-Newsreader:.*|Expires:.*|\\s*-+.*|Subject:.*|Summary:.*|Keywords:.*)', \n",
    "                                       \"\" , \n",
    "                                       x[\"content\"],\n",
    "                                      flags = re.IGNORECASE), \n",
    "                      axis = 1)"
   ]
  },
  {
   "cell_type": "code",
   "execution_count": 141,
   "id": "8f0e49ec-d9ab-4b38-86cd-8c56dd90433b",
   "metadata": {},
   "outputs": [
    {
     "data": {
      "text/plain": [
       "0    \\n\\n\\n\\n\\n\\n I was wondering if anyone out the...\n",
       "1    \\n\\n\\n\\n\\n\\n\\n\\n\\nA fair number of brave souls...\n",
       "2    \\n\\n\\n\\n\\n\\nwell folks, my mac plus finally ga...\n",
       "3    \\n\\n\\n\\n\\n\\n\\n\\nRobert J.C. Kyanko (rob@rjck.U...\n",
       "4    \\n\\n\\n\\n\\n\\nFrom article <C5owCB.n3p@world.std...\n",
       "Name: data, dtype: object"
      ]
     },
     "execution_count": 141,
     "metadata": {},
     "output_type": "execute_result"
    }
   ],
   "source": [
    "df[\"data\"].head()"
   ]
  },
  {
   "cell_type": "markdown",
   "id": "b3dc9fe1-bc63-409f-8a7b-9e0c0a8db8a3",
   "metadata": {},
   "source": [
    "It is honestly hard to test whether the regex statement above succesfully removed all non-content words, we have to assume it did. "
   ]
  },
  {
   "cell_type": "code",
   "execution_count": 142,
   "id": "bf52c8c9-2790-4a29-8c2a-48c91680dc7d",
   "metadata": {},
   "outputs": [
    {
     "name": "stdout",
     "output_type": "stream",
     "text": [
      "\n",
      "\n",
      "\n",
      "\n",
      "\n",
      "\n",
      " I was wondering if anyone out there could enlighten me on this car I saw\n",
      "the other day. It was a 2-door sports car, looked to be from the late 60s/\n",
      "early 70s. It was called a Bricklin. The doors were really small. In addition,\n",
      "the front bumper was separate from the rest of the body. This is \n",
      "all I know. If anyone can tellme a model name, engine specs, years\n",
      "of production, where this car is made, history, or whatever info you\n",
      "have on this funky looking car, please e-mail.\n",
      "\n",
      "Thanks,\n",
      "\n",
      "\n",
      "\n",
      "\n",
      "\n",
      "\n",
      "\n"
     ]
    }
   ],
   "source": [
    "print(df[\"data\"][0])"
   ]
  },
  {
   "cell_type": "markdown",
   "id": "11d11eeb-0d11-43ae-9e1a-e90a6a547525",
   "metadata": {},
   "source": [
    "The reason we are removing the non-content related words is to be left with purely content related words for further analysis."
   ]
  },
  {
   "cell_type": "markdown",
   "id": "a4287f6b-fb17-42d9-8ff7-b5a0ad592768",
   "metadata": {},
   "source": [
    "## Part C"
   ]
  },
  {
   "cell_type": "markdown",
   "id": "c98183f1-bf22-4a5f-91e0-8465940f2fc2",
   "metadata": {},
   "source": [
    "#### **Apply strip_numeric, strip_punctuation and strip_multiple_whitespaces to data and override it. <br> What are those functions doing and why?**"
   ]
  },
  {
   "cell_type": "code",
   "execution_count": 143,
   "id": "a648ee47-4095-4b8b-b2dd-dedace292063",
   "metadata": {},
   "outputs": [],
   "source": [
    "from gensim.parsing.preprocessing import strip_numeric, strip_punctuation, strip_multiple_whitespaces, STOPWORDS"
   ]
  },
  {
   "cell_type": "code",
   "execution_count": 144,
   "id": "d608288a-2521-4ff2-8afb-5ca1e14b4adc",
   "metadata": {},
   "outputs": [],
   "source": [
    "def strip(some_string):\n",
    "    '''A function that takes a string as an input and stripes the numbers, punctuations and multiple whitespaces'''\n",
    "    \n",
    "    str_no_num = strip_numeric(some_string)\n",
    "    \n",
    "    str_no_punc = strip_punctuation(str_no_num)\n",
    "    \n",
    "    str_no_white = strip_multiple_whitespaces(str_no_punc)\n",
    "    \n",
    "    return str_no_white"
   ]
  },
  {
   "cell_type": "code",
   "execution_count": 145,
   "id": "2866b3dd-f537-4747-a3b9-34874f74244b",
   "metadata": {},
   "outputs": [],
   "source": [
    "df[\"data\"] = df.apply(lambda x: strip(x[\"data\"]), axis=1)"
   ]
  },
  {
   "cell_type": "code",
   "execution_count": 146,
   "id": "8a3a7af2-ec8f-4c41-b8cf-01816f2a133f",
   "metadata": {},
   "outputs": [
    {
     "name": "stdout",
     "output_type": "stream",
     "text": [
      " I was wondering if anyone out there could enlighten me on this car I saw the other day It was a door sports car looked to be from the late s early s It was called a Bricklin The doors were really small In addition the front bumper was separate from the rest of the body This is all I know If anyone can tellme a model name engine specs years of production where this car is made history or whatever info you have on this funky looking car please e mail Thanks \n"
     ]
    }
   ],
   "source": [
    "print(df[\"data\"][0])"
   ]
  },
  {
   "cell_type": "markdown",
   "id": "2cc326eb-a017-453e-ab2f-f19d43bd5f95",
   "metadata": {},
   "source": [
    "Assessing the results it seems that our own function was succesful.<br> \n",
    "The reason we used this function is to be able to seperate the words so that words containing a punctuation or numbers won't be recognised as an individual word. "
   ]
  },
  {
   "cell_type": "markdown",
   "id": "46c9efef-337c-4bc2-9667-493847ec11c0",
   "metadata": {},
   "source": [
    "#### **Transform all letters to lower case ones and override data with the result (Hint: Use string.lower()).**"
   ]
  },
  {
   "cell_type": "code",
   "execution_count": 147,
   "id": "03a9c31d-f8c7-43f8-8ae4-047cf68fff3a",
   "metadata": {},
   "outputs": [],
   "source": [
    "df[\"data\"] = df.apply(lambda x: x[\"data\"].lower(), axis = 1)"
   ]
  },
  {
   "cell_type": "code",
   "execution_count": 148,
   "id": "a4b99b29-4fe5-4972-ba56-41708986a130",
   "metadata": {},
   "outputs": [
    {
     "name": "stdout",
     "output_type": "stream",
     "text": [
      " i was wondering if anyone out there could enlighten me on this car i saw the other day it was a door sports car looked to be from the late s early s it was called a bricklin the doors were really small in addition the front bumper was separate from the rest of the body this is all i know if anyone can tellme a model name engine specs years of production where this car is made history or whatever info you have on this funky looking car please e mail thanks \n"
     ]
    }
   ],
   "source": [
    "print(df[\"data\"][0])"
   ]
  },
  {
   "cell_type": "markdown",
   "id": "85c3f75e-3c98-4c1c-8c89-96d4901d3ff5",
   "metadata": {},
   "source": [
    "It seems as if coercing all strings to lowercase was succesful."
   ]
  },
  {
   "cell_type": "markdown",
   "id": "c9d8d2b8-ba34-4c9c-aeef-8230e91b2f70",
   "metadata": {},
   "source": [
    "## Part D "
   ]
  },
  {
   "cell_type": "markdown",
   "id": "5f735758-f9d3-4945-b259-7372439ccf5a",
   "metadata": {},
   "source": [
    "#### Print both the stopwords in gensim and those in nltk. Do you see a difference? Hint: it may make sense to sort the objects beforehand."
   ]
  },
  {
   "cell_type": "code",
   "execution_count": 149,
   "id": "893d1eed-f557-468a-8f74-d858f408405f",
   "metadata": {},
   "outputs": [
    {
     "name": "stdout",
     "output_type": "stream",
     "text": [
      "['a', 'about', 'above', 'across', 'after', 'afterwards', 'again', 'against', 'all', 'almost', 'alone', 'along', 'already', 'also', 'although', 'always', 'am', 'among', 'amongst', 'amoungst', 'amount', 'an', 'and', 'another', 'any', 'anyhow', 'anyone', 'anything', 'anyway', 'anywhere', 'are', 'around', 'as', 'at', 'back', 'be', 'became', 'because', 'become', 'becomes', 'becoming', 'been', 'before', 'beforehand', 'behind', 'being', 'below', 'beside', 'besides', 'between', 'beyond', 'bill', 'both', 'bottom', 'but', 'by', 'call', 'can', 'cannot', 'cant', 'co', 'computer', 'con', 'could', 'couldnt', 'cry', 'de', 'describe', 'detail', 'did', 'didn', 'do', 'does', 'doesn', 'doing', 'don', 'done', 'down', 'due', 'during', 'each', 'eg', 'eight', 'either', 'eleven', 'else', 'elsewhere', 'empty', 'enough', 'etc', 'even', 'ever', 'every', 'everyone', 'everything', 'everywhere', 'except', 'few', 'fifteen', 'fifty', 'fill', 'find', 'fire', 'first', 'five', 'for', 'former', 'formerly', 'forty', 'found', 'four', 'from', 'front', 'full', 'further', 'get', 'give', 'go', 'had', 'has', 'hasnt', 'have', 'he', 'hence', 'her', 'here', 'hereafter', 'hereby', 'herein', 'hereupon', 'hers', 'herself', 'him', 'himself', 'his', 'how', 'however', 'hundred', 'i', 'ie', 'if', 'in', 'inc', 'indeed', 'interest', 'into', 'is', 'it', 'its', 'itself', 'just', 'keep', 'kg', 'km', 'last', 'latter', 'latterly', 'least', 'less', 'ltd', 'made', 'make', 'many', 'may', 'me', 'meanwhile', 'might', 'mill', 'mine', 'more', 'moreover', 'most', 'mostly', 'move', 'much', 'must', 'my', 'myself', 'name', 'namely', 'neither', 'never', 'nevertheless', 'next', 'nine', 'no', 'nobody', 'none', 'noone', 'nor', 'not', 'nothing', 'now', 'nowhere', 'of', 'off', 'often', 'on', 'once', 'one', 'only', 'onto', 'or', 'other', 'others', 'otherwise', 'our', 'ours', 'ourselves', 'out', 'over', 'own', 'part', 'per', 'perhaps', 'please', 'put', 'quite', 'rather', 're', 'really', 'regarding', 'same', 'say', 'see', 'seem', 'seemed', 'seeming', 'seems', 'serious', 'several', 'she', 'should', 'show', 'side', 'since', 'sincere', 'six', 'sixty', 'so', 'some', 'somehow', 'someone', 'something', 'sometime', 'sometimes', 'somewhere', 'still', 'such', 'system', 'take', 'ten', 'than', 'that', 'the', 'their', 'them', 'themselves', 'then', 'thence', 'there', 'thereafter', 'thereby', 'therefore', 'therein', 'thereupon', 'these', 'they', 'thick', 'thin', 'third', 'this', 'those', 'though', 'three', 'through', 'throughout', 'thru', 'thus', 'to', 'together', 'too', 'top', 'toward', 'towards', 'twelve', 'twenty', 'two', 'un', 'under', 'unless', 'until', 'up', 'upon', 'us', 'used', 'using', 'various', 'very', 'via', 'was', 'we', 'well', 'were', 'what', 'whatever', 'when', 'whence', 'whenever', 'where', 'whereafter', 'whereas', 'whereby', 'wherein', 'whereupon', 'wherever', 'whether', 'which', 'while', 'whither', 'who', 'whoever', 'whole', 'whom', 'whose', 'why', 'will', 'with', 'within', 'without', 'would', 'yet', 'you', 'your', 'yours', 'yourself', 'yourselves']\n"
     ]
    }
   ],
   "source": [
    "gensim_stopwords = list(STOPWORDS)\n",
    "print(sorted(gensim_stopwords))"
   ]
  },
  {
   "cell_type": "code",
   "execution_count": 150,
   "id": "64cf4a79-4d5a-4c5f-b16b-d4d061e6b702",
   "metadata": {},
   "outputs": [
    {
     "name": "stdout",
     "output_type": "stream",
     "text": [
      "['a', 'about', 'above', 'after', 'again', 'against', 'ain', 'all', 'am', 'an', 'and', 'any', 'are', 'aren', \"aren't\", 'as', 'at', 'be', 'because', 'been', 'before', 'being', 'below', 'between', 'both', 'but', 'by', 'can', 'couldn', \"couldn't\", 'd', 'did', 'didn', \"didn't\", 'do', 'does', 'doesn', \"doesn't\", 'doing', 'don', \"don't\", 'down', 'during', 'each', 'few', 'for', 'from', 'further', 'had', 'hadn', \"hadn't\", 'has', 'hasn', \"hasn't\", 'have', 'haven', \"haven't\", 'having', 'he', 'her', 'here', 'hers', 'herself', 'him', 'himself', 'his', 'how', 'i', 'if', 'in', 'into', 'is', 'isn', \"isn't\", 'it', \"it's\", 'its', 'itself', 'just', 'll', 'm', 'ma', 'me', 'mightn', \"mightn't\", 'more', 'most', 'mustn', \"mustn't\", 'my', 'myself', 'needn', \"needn't\", 'no', 'nor', 'not', 'now', 'o', 'of', 'off', 'on', 'once', 'only', 'or', 'other', 'our', 'ours', 'ourselves', 'out', 'over', 'own', 're', 's', 'same', 'shan', \"shan't\", 'she', \"she's\", 'should', \"should've\", 'shouldn', \"shouldn't\", 'so', 'some', 'such', 't', 'than', 'that', \"that'll\", 'the', 'their', 'theirs', 'them', 'themselves', 'then', 'there', 'these', 'they', 'this', 'those', 'through', 'to', 'too', 'under', 'until', 'up', 've', 'very', 'was', 'wasn', \"wasn't\", 'we', 'were', 'weren', \"weren't\", 'what', 'when', 'where', 'which', 'while', 'who', 'whom', 'why', 'will', 'with', 'won', \"won't\", 'wouldn', \"wouldn't\", 'y', 'you', \"you'd\", \"you'll\", \"you're\", \"you've\", 'your', 'yours', 'yourself', 'yourselves']\n"
     ]
    }
   ],
   "source": [
    "nltk_stopwords = list(set(stopwords.words('english')))\n",
    "print(sorted(nltk_stopwords))"
   ]
  },
  {
   "cell_type": "markdown",
   "id": "681d01d0-0646-42f0-ad64-c94ed4d66860",
   "metadata": {},
   "source": [
    "The first difference is that the gensim stopwords contain numbers written out. In addition, they also cover different types of spellings of words and adverbs."
   ]
  },
  {
   "cell_type": "markdown",
   "id": "790c29e3-5c92-430e-b513-64abb1b6cc50",
   "metadata": {},
   "source": [
    "#### Remove the stopwords using gensim’s remove_stopwords and override data."
   ]
  },
  {
   "cell_type": "code",
   "execution_count": 151,
   "id": "49c70b6d-616e-4057-8f90-bfeac767a0dc",
   "metadata": {},
   "outputs": [],
   "source": [
    "#Transforming the dataframe into a string\n",
    "#data = str(df[\"data\"])"
   ]
  },
  {
   "cell_type": "code",
   "execution_count": 152,
   "id": "e8adb1b9-21c6-47c2-b82f-82c32ef214f1",
   "metadata": {},
   "outputs": [],
   "source": [
    "#data = remove_stopwords(data, gensim_stopwords)\n",
    "#print(data)"
   ]
  },
  {
   "cell_type": "code",
   "execution_count": 153,
   "id": "c5c6d9fd-0f14-4fb6-8caa-3a40d354d9d9",
   "metadata": {},
   "outputs": [],
   "source": [
    "df[\"data\"] = df.apply(lambda x: remove_stopwords(x[\"data\"], stopwords = gensim_stopwords), axis = 1)"
   ]
  },
  {
   "cell_type": "code",
   "execution_count": 154,
   "id": "bdc135b1-a902-4b0e-ac52-acb4b1660bc8",
   "metadata": {},
   "outputs": [
    {
     "data": {
      "text/plain": [
       "'wondering enlighten car saw day door sports car looked late s early s called bricklin doors small addition bumper separate rest body know tellme model engine specs years production car history info funky looking car e mail thanks'"
      ]
     },
     "execution_count": 154,
     "metadata": {},
     "output_type": "execute_result"
    }
   ],
   "source": [
    "df[\"data\"][0]"
   ]
  },
  {
   "cell_type": "markdown",
   "id": "68c127fb-0875-49f2-a7d8-7dda5b00c3b9",
   "metadata": {},
   "source": [
    "It looks as if all stopwords were removed successfully"
   ]
  },
  {
   "cell_type": "markdown",
   "id": "3127dbac-3a96-4912-98dc-a0f2c53dac00",
   "metadata": {},
   "source": [
    "#### Apply strip_short to data. What is this function doing and why?"
   ]
  },
  {
   "cell_type": "code",
   "execution_count": 155,
   "id": "c66656e4-0408-4c5f-94bc-0d6aeb7ea22d",
   "metadata": {},
   "outputs": [],
   "source": [
    "df[\"data\"] = df.apply(lambda x: strip_short(x[\"data\"]), axis = 1)"
   ]
  },
  {
   "cell_type": "code",
   "execution_count": 156,
   "id": "b248039a-02e3-4e12-ad3e-9d5d5d797256",
   "metadata": {},
   "outputs": [
    {
     "data": {
      "text/plain": [
       "'wondering enlighten car saw day door sports car looked late early called bricklin doors small addition bumper separate rest body know tellme model engine specs years production car history info funky looking car mail thanks'"
      ]
     },
     "execution_count": 156,
     "metadata": {},
     "output_type": "execute_result"
    }
   ],
   "source": [
    "df[\"data\"][0]"
   ]
  },
  {
   "cell_type": "markdown",
   "id": "388bfc14-b58d-4be8-9991-afb4e0072f2f",
   "metadata": {},
   "source": [
    "The function strip_short removes all short words such as abbreviated s. "
   ]
  },
  {
   "cell_type": "markdown",
   "id": "3231e184-abb5-41bd-865c-65e6067a4a3e",
   "metadata": {},
   "source": [
    "##### Strip_short removes all the words that have a length lesser than the `minsize`. Default `minsize` is 3"
   ]
  },
  {
   "cell_type": "markdown",
   "id": "acf911bb-5486-4f0c-8484-8788177bc232",
   "metadata": {},
   "source": [
    "## Part E"
   ]
  },
  {
   "cell_type": "markdown",
   "id": "7a9c6333-14ca-45b1-b1cc-f852f7d3c89f",
   "metadata": {},
   "source": [
    "#### Apply stem_text to data. What is this function doing and why?"
   ]
  },
  {
   "cell_type": "code",
   "execution_count": 157,
   "id": "a478d162-c076-4dc4-a075-d334f8a198c8",
   "metadata": {},
   "outputs": [],
   "source": [
    "df[\"data\"] = df.apply(lambda x: stem_text(x[\"data\"]), axis = 1)"
   ]
  },
  {
   "cell_type": "code",
   "execution_count": 158,
   "id": "677e3dc2-1935-42da-afc1-db184d9a622d",
   "metadata": {},
   "outputs": [
    {
     "data": {
      "text/plain": [
       "'wonder enlighten car saw dai door sport car look late earli call bricklin door small addit bumper separ rest bodi know tellm model engin spec year product car histori info funki look car mail thank'"
      ]
     },
     "execution_count": 158,
     "metadata": {},
     "output_type": "execute_result"
    }
   ],
   "source": [
    "df[\"data\"][0]"
   ]
  },
  {
   "cell_type": "code",
   "execution_count": 159,
   "id": "0d0e3589-e548-435f-b99b-83b7cb0aebcb",
   "metadata": {},
   "outputs": [],
   "source": [
    "# saving the stemmatized emails in a seperate list \n",
    "\n",
    "data_stemmed = list(df[\"data\"])"
   ]
  },
  {
   "cell_type": "markdown",
   "id": "677bd413-bdfe-4381-a2e1-722b0bc469be",
   "metadata": {},
   "source": [
    "##### stem_text transform all letter \"s\" into lowercase and removes them if they are at the end of a word"
   ]
  },
  {
   "cell_type": "markdown",
   "id": "1c26aa86-201e-41c8-be02-25bca57d72a1",
   "metadata": {
    "tags": []
   },
   "source": [
    "#### Apply lemmatization with Spacy by:\n",
    "##### a. Initializing spacy’s 'en' model with en_core_web_sm.load()"
   ]
  },
  {
   "cell_type": "code",
   "execution_count": 161,
   "id": "5bd84045-7992-4c82-9942-29fc3d248241",
   "metadata": {},
   "outputs": [],
   "source": [
    "spacy_en = en_core_web_sm.load()"
   ]
  },
  {
   "cell_type": "markdown",
   "id": "13d72082-f260-4f3e-ac90-f6d6d06bf480",
   "metadata": {},
   "source": [
    "##### b. Applying the model to the documents in data"
   ]
  },
  {
   "cell_type": "code",
   "execution_count": 168,
   "id": "f66f8a7f-393a-4ca2-a8ac-87af1127d4a4",
   "metadata": {},
   "outputs": [],
   "source": [
    "def lemmatization(some_string):\n",
    "    \n",
    "    string_lemma = spacy_en(some_string)\n",
    "    \n",
    "    string_final = \" \".join([word.lemma_ for word in string_lemma])\n",
    "    \n",
    "    return string_final"
   ]
  },
  {
   "cell_type": "code",
   "execution_count": 169,
   "id": "5bd44e89-317f-4592-8b5b-4c0c42c85b93",
   "metadata": {},
   "outputs": [],
   "source": [
    "df[\"data\"] = df.apply(lambda x: lemmatization(x[\"data\"]), axis = 1)"
   ]
  },
  {
   "cell_type": "code",
   "execution_count": 170,
   "id": "9784b587-95a4-4934-8fe8-3faf8dd12208",
   "metadata": {},
   "outputs": [],
   "source": [
    "data_lemmatized = list(df[\"data\"])"
   ]
  },
  {
   "cell_type": "markdown",
   "id": "bf7b7401-4fc3-479d-9c05-c283069f4370",
   "metadata": {},
   "source": [
    "#### Mounting the results to csv"
   ]
  },
  {
   "cell_type": "code",
   "execution_count": 179,
   "id": "2cef5c22-ded6-4873-b46a-aaf9f36f73db",
   "metadata": {},
   "outputs": [],
   "source": [
    "import csv"
   ]
  },
  {
   "cell_type": "code",
   "execution_count": 181,
   "id": "d7d48177-7c9f-4079-93f8-56b409223b32",
   "metadata": {},
   "outputs": [],
   "source": [
    "with open('data_stemmed.csv', 'w') as f: \n",
    "    write = csv.writer(f) \n",
    "    write.writerow([\"data stemmed\"]) \n",
    "    write.writerows(data_stemmed)"
   ]
  },
  {
   "cell_type": "code",
   "execution_count": 182,
   "id": "e597af45-9eec-45f0-a4e2-27ea177a2ccc",
   "metadata": {},
   "outputs": [],
   "source": [
    "with open('data_lemmatized.csv', 'w') as f: \n",
    "    write = csv.writer(f) \n",
    "    write.writerow([\"data lemmatized\"]) \n",
    "    write.writerows(data_lemmatized)"
   ]
  },
  {
   "cell_type": "markdown",
   "id": "4d29cf77-e7a4-4fb6-bef7-a9acf6b11511",
   "metadata": {},
   "source": [
    "## Extra Credits"
   ]
  },
  {
   "cell_type": "markdown",
   "id": "07d5cda0-06f3-492b-acdd-5218ac9c1dbf",
   "metadata": {},
   "source": [
    "#### Compute the Sentiment Score by chapter of each Jane Austen book"
   ]
  },
  {
   "cell_type": "code",
   "execution_count": 648,
   "id": "6ad96151-8098-41bd-8444-bbabe780ec22",
   "metadata": {},
   "outputs": [],
   "source": [
    "from gutenberg.cleanup import strip_headers\n",
    "from gutenberg.acquire import load_etext\n",
    "import copy\n",
    "from nltk import flatten\n",
    "import numpy as np"
   ]
  },
  {
   "cell_type": "code",
   "execution_count": 649,
   "id": "8368d1e0-dce9-42a4-9f30-055b51664fc3",
   "metadata": {},
   "outputs": [],
   "source": [
    "list_jane_austen = [1342, 158, 105, 121, 141, 946, 42078]"
   ]
  },
  {
   "cell_type": "code",
   "execution_count": 650,
   "id": "5145ed83-5534-434a-ba49-0c028066f0b3",
   "metadata": {},
   "outputs": [
    {
     "name": "stdout",
     "output_type": "stream",
     "text": [
      "1342 not available\n",
      "158 not available\n",
      "121 not available\n",
      "141 not available\n"
     ]
    }
   ],
   "source": [
    "na_books = []\n",
    "\n",
    "for book_id in list_jane_austen:\n",
    "    try:\n",
    "        text = strip_headers(load_etext(book_id)).strip()\n",
    "    except:\n",
    "        print(f\"{book_id} not available\")\n",
    "        na_books.append(book_id)"
   ]
  },
  {
   "cell_type": "code",
   "execution_count": 651,
   "id": "9f4307e3-646f-416b-942e-75d68dc8f507",
   "metadata": {},
   "outputs": [
    {
     "data": {
      "text/plain": [
       "[105, 946, 42078]"
      ]
     },
     "execution_count": 651,
     "metadata": {},
     "output_type": "execute_result"
    }
   ],
   "source": [
    "list_jane_austen_final = [book_id for book_id in list_jane_austen if book_id not in na_books]\n",
    "\n",
    "list_jane_austen_final"
   ]
  },
  {
   "cell_type": "code",
   "execution_count": 652,
   "id": "e3e7136c-7179-48fe-a4d0-b6a32ba859e8",
   "metadata": {},
   "outputs": [],
   "source": [
    "text = strip_headers(load_etext(list_jane_austen_final[1])).strip()"
   ]
  },
  {
   "cell_type": "code",
   "execution_count": 653,
   "id": "77707085-bc7a-48ed-acce-45a9153c11ef",
   "metadata": {},
   "outputs": [],
   "source": [
    "def chapter_search(text):\n",
    "    \n",
    "    # check enumeration of chapters\n",
    "    if re.findall(\"(?m)^Chapter\\s\\d*\", text) != []: \n",
    "        # if named chapters\n",
    "        chapters = re.findall(\"(?m)^Chapter\\s\\d*\", text)\n",
    "    else:\n",
    "        # if enumerated with roman letters\n",
    "        chapters = [chapter for chapter in re.findall(\"(?m)^(IX|IV|V?I{0,3})\\.?\\r\\n\\r\\n\\r\\n\", text) if chapter != \"\"]\n",
    "        \n",
    "    # searches for individual content between two chapters\n",
    "\n",
    "    chapter_content = []\n",
    "\n",
    "    for chapter in range(len(chapters)-1):\n",
    "        if chapter != len(chapters) -1:\n",
    "            chapter_content.append(re.findall(f\"(?<={chapters[chapter]})(.*?)(?={chapters[chapter+1]})\", text, re.DOTALL)[0])\n",
    "        else:\n",
    "            chapter_content.append(re.findall(f\"(?<={chapters[chapter]}).*\", text, re.DOTALL)[0])\n",
    "    \n",
    "    return chapter_content"
   ]
  },
  {
   "cell_type": "code",
   "execution_count": 654,
   "id": "2bd11646-2a1d-422d-aca2-5eb16e91a8ab",
   "metadata": {},
   "outputs": [],
   "source": [
    "book_contents = []\n",
    "\n",
    "book_ids = []\n",
    "\n",
    "for index, book_id in enumerate(list_jane_austen_final):\n",
    "    \n",
    "    # get book\n",
    "    text = strip_headers(load_etext(book_id)).strip()\n",
    "    \n",
    "    # get chapter_contents\n",
    "    book_contents.append(chapter_search(text))\n",
    "    \n",
    "    # generate ids \n",
    "    book_ids.append([book_id for char in range(len(book_contents[index]))])"
   ]
  },
  {
   "cell_type": "code",
   "execution_count": 655,
   "id": "ddb29009-32f2-40c6-8a16-ad9dbb20b7ce",
   "metadata": {},
   "outputs": [],
   "source": [
    "# flattening both listed lists\n",
    "\n",
    "book_contents = flatten(book_contents)"
   ]
  },
  {
   "cell_type": "code",
   "execution_count": 656,
   "id": "9261135c-2543-4595-ab11-afea1a3202a5",
   "metadata": {},
   "outputs": [],
   "source": [
    "book_ids = flatten(book_ids)"
   ]
  },
  {
   "cell_type": "code",
   "execution_count": 657,
   "id": "f34d3466-2439-4ba7-9c64-e674e2609ac8",
   "metadata": {},
   "outputs": [],
   "source": [
    "df = pd.DataFrame(book_contents, book_ids).reset_index().rename(columns = {\"index\":\"ID\", 0:\"Book_Content\"})"
   ]
  },
  {
   "cell_type": "code",
   "execution_count": 658,
   "id": "56900878-7348-4192-8ecf-dba4de905bbf",
   "metadata": {},
   "outputs": [
    {
     "data": {
      "text/html": [
       "<div>\n",
       "<style scoped>\n",
       "    .dataframe tbody tr th:only-of-type {\n",
       "        vertical-align: middle;\n",
       "    }\n",
       "\n",
       "    .dataframe tbody tr th {\n",
       "        vertical-align: top;\n",
       "    }\n",
       "\n",
       "    .dataframe thead th {\n",
       "        text-align: right;\n",
       "    }\n",
       "</style>\n",
       "<table border=\"1\" class=\"dataframe\">\n",
       "  <thead>\n",
       "    <tr style=\"text-align: right;\">\n",
       "      <th></th>\n",
       "      <th>ID</th>\n",
       "      <th>Book_Content</th>\n",
       "    </tr>\n",
       "  </thead>\n",
       "  <tbody>\n",
       "    <tr>\n",
       "      <th>0</th>\n",
       "      <td>105</td>\n",
       "      <td>\\r\\n\\r\\n\\r\\nSir Walter Elliot, of Kellynch Hal...</td>\n",
       "    </tr>\n",
       "    <tr>\n",
       "      <th>1</th>\n",
       "      <td>105</td>\n",
       "      <td>\\r\\n\\r\\n\\r\\nMr Shepherd, a civil, cautious law...</td>\n",
       "    </tr>\n",
       "    <tr>\n",
       "      <th>2</th>\n",
       "      <td>105</td>\n",
       "      <td>\\r\\n\\r\\n\\r\\n\"I must take leave to observe, Sir...</td>\n",
       "    </tr>\n",
       "    <tr>\n",
       "      <th>3</th>\n",
       "      <td>105</td>\n",
       "      <td>\\r\\n\\r\\n\\r\\nHe was not Mr Wentworth, the forme...</td>\n",
       "    </tr>\n",
       "    <tr>\n",
       "      <th>4</th>\n",
       "      <td>105</td>\n",
       "      <td>\\r\\n\\r\\n\\r\\nOn the morning appointed for Admir...</td>\n",
       "    </tr>\n",
       "  </tbody>\n",
       "</table>\n",
       "</div>"
      ],
      "text/plain": [
       "    ID                                       Book_Content\n",
       "0  105  \\r\\n\\r\\n\\r\\nSir Walter Elliot, of Kellynch Hal...\n",
       "1  105  \\r\\n\\r\\n\\r\\nMr Shepherd, a civil, cautious law...\n",
       "2  105  \\r\\n\\r\\n\\r\\n\"I must take leave to observe, Sir...\n",
       "3  105  \\r\\n\\r\\n\\r\\nHe was not Mr Wentworth, the forme...\n",
       "4  105  \\r\\n\\r\\n\\r\\nOn the morning appointed for Admir..."
      ]
     },
     "execution_count": 658,
     "metadata": {},
     "output_type": "execute_result"
    }
   ],
   "source": [
    "df.head()"
   ]
  },
  {
   "cell_type": "markdown",
   "id": "c56f9825-a455-4eef-8150-6edea0f42ff8",
   "metadata": {},
   "source": [
    "Now that all data is coerced into a dataframe, we will continue with preprocessing it"
   ]
  },
  {
   "cell_type": "code",
   "execution_count": 659,
   "id": "0e5ca395-94bc-4194-a5d9-3f3c6ec98b7d",
   "metadata": {},
   "outputs": [],
   "source": [
    "from gensim.parsing.preprocessing import STOPWORDS, strip_tags, strip_numeric, strip_punctuation, strip_multiple_whitespaces, remove_stopwords, strip_short, stem_text, lower_to_unicode"
   ]
  },
  {
   "cell_type": "code",
   "execution_count": 660,
   "id": "bde83574-9c94-43f5-a54f-c3311efaacd5",
   "metadata": {},
   "outputs": [],
   "source": [
    "def preprocessing(text):\n",
    "    \n",
    "    # removing stopwords\n",
    "    text_nostop = remove_stopwords(text, stopwords = gensim_stopwords)\n",
    "    \n",
    "    # removing numbers\n",
    "    text_no_num = strip_numeric(text_nostop)\n",
    "    \n",
    "    # removing punctuation\n",
    "    text_numeric = strip_punctuation(text_no_num)\n",
    "    \n",
    "    # removing multiple white spaces\n",
    "    text_no_white = strip_multiple_whitespaces(text_numeric)\n",
    "    \n",
    "    # removing short words\n",
    "    text_no_short = strip_short(text_no_white)\n",
    "    \n",
    "    # making all text lowercase\n",
    "    text_final = lower_to_unicode(text_no_short)\n",
    "\n",
    "    return text_final"
   ]
  },
  {
   "cell_type": "code",
   "execution_count": 661,
   "id": "4f7e6ed8-7988-4a85-b7b9-30d27d6a0708",
   "metadata": {},
   "outputs": [],
   "source": [
    "df[\"Book_Content_Processed\"] = df.apply(lambda x: preprocessing(x[\"Book_Content\"]), axis = 1)"
   ]
  },
  {
   "cell_type": "code",
   "execution_count": 662,
   "id": "85713754-75e3-44bc-9a0a-b16a0e917f03",
   "metadata": {},
   "outputs": [
    {
     "data": {
      "text/plain": [
       "'sir walter elliot kellynch hall somersetshire man who amusement took book baronetage occupation idle hour consolation distressed one faculties roused admiration respect contemplating limited remnant earliest patents unwelcome sensations arising domestic affairs changed naturally pity contempt turned endless creations century there leaf powerless read history failed this page favourite volume opened elliot kellynch hall walter elliot born march married july elizabeth daughter james stevenson esq south park county gloucester lady who died issue elizabeth born june anne born august still born son november mary born november precisely paragraph originally stood printer hands sir walter improved adding information family words date mary birth married december charles son heir charles musgrove esq uppercross county somerset inserting accurately day month lost wife then followed history rise ancient respectable family usual terms settled cheshire mentioned dugdale serving office high sheriff representing borough successive parliaments exertions loyalty dignity baronet year charles marys elizabeths married forming altogether handsome duodecimo pages concluding arms motto principal seat kellynch hall county somerset sir walter handwriting finale heir presumptive william walter elliot esq great grandson second sir walter vanity beginning end sir walter elliot character vanity person situation remarkably handsome youth and fifty four fine man few women think personal appearance did valet new lord delighted place held society considered blessing beauty inferior blessing baronetcy sir walter elliot united gifts constant object warmest respect devotion his good looks rank fair claim attachment owed wife superior character thing deserved own lady elliot excellent woman sensible amiable judgement conduct pardoned youthful infatuation lady elliot required indulgence afterwards she humoured softened concealed failings promoted real respectability seventeen years happiest world herself duties friends children attach life matter indifference called quit them three girls eldest sixteen fourteen awful legacy mother bequeath awful charge rather confide authority guidance conceited silly father she had however intimate friend sensible deserving woman brought strong attachment herself settle close her village kellynch kindness advice lady elliot mainly relied best help maintenance good principles instruction anxiously giving daughters this friend sir walter marry anticipated head acquaintance thirteen years passed away lady elliot death near neighbours intimate friends remained widower widow that lady russell steady age character extremely provided for thought second marriage needs apology public apt unreasonably discontented woman marry again not sir walter continuing singleness requires explanation known then sir walter like good father having met private disappointments unreasonable applications prided remaining single dear daughters sake for daughter eldest given thing tempted elizabeth succeeded sixteen possible mother rights consequence handsome like himself influence great gone happily his children inferior value mary acquired little artificial importance mrs charles musgrove anne elegance mind sweetness character placed high people real understanding father sister word weight convenience way she anne lady russell indeed dear highly valued god daughter favourite friend lady russell loved all anne fancy mother revive again years before anne elliot pretty girl bloom vanished early height father little admire her totally different delicate features mild dark eyes own them faded thin excite esteem indulged hope none reading page favourite work all equality alliance rest elizabeth mary merely connected old country family respectability large fortune given honour received none elizabeth would day other marry suitably happens woman handsomer twenty nine years before and generally speaking ill health anxiety time life scarcely charm lost elizabeth handsome miss elliot begun thirteen years ago sir walter excused therefore forgetting age least deemed half fool thinking elizabeth blooming ever amidst wreck good looks everybody else plainly old rest family acquaintance growing anne haggard mary coarse face neighbourhood worsting rapid increase crow foot lady russell temples long distress him elizabeth equal father personal contentment thirteen years seen mistress kellynch hall presiding directing self possession decision given idea younger was for thirteen years honours laying domestic law home leading way chaise four walking immediately lady russell drawing rooms dining rooms country thirteen winters revolving frosts seen opening ball credit scanty neighbourhood afforded thirteen springs shewn blossoms travelled london father weeks annual enjoyment great world she remembrance this consciousness nine and twenty regrets apprehensions fully satisfied handsome ever felt approach years danger rejoiced certain properly solicited baronet blood twelvemonth two then book books enjoyment early youth liked not always presented date birth marriage follow youngest sister book evil once father left open table near her closed averted eyes pushed away she disappointment moreover book especially history family present remembrance the heir presumptive william walter elliot esq rights generously supported father disappointed her she had young girl soon known event having brother future baronet meant marry him father meant should known boy soon lady elliot death sir walter sought acquaintance overtures met warmth persevered seeking making allowance modest drawing back youth and spring excursions london elizabeth bloom elliot forced introduction time young man engaged study law elizabeth extremely agreeable plan favour confirmed invited kellynch hall talked expected rest year came the following spring seen town equally agreeable encouraged invited expected come tidings married instead pushing fortune line marked heir house elliot purchased independence uniting rich woman inferior birth sir walter resented head house felt ought consulted especially taking young man publicly hand for seen together observed once tattersall twice lobby house commons his disapprobation expressed apparently little regarded elliot attempted apology shewn unsolicitous longer noticed family sir walter considered unworthy acquaintance ceased this awkward history elliot still interval years felt anger elizabeth liked man himself father heir strong family pride proper match sir walter elliot eldest daughter there baronet feelings willingly acknowledged equal yet miserably conducted himself present time the summer wearing black ribbons wife admit worth thinking again the disgrace marriage might perhaps reason suppose perpetuated offspring got over worse had accustomary intervention kind friends informed spoken disrespectfully all slightingly contemptuously blood belonged honours own this pardoned such elizabeth elliot sentiments sensations cares alloy agitations vary sameness elegance prosperity nothingness scene life feelings long uneventful residence country circle vacancies habits utility abroad talents accomplishments home occupy but now occupation solicitude mind beginning added these her father growing distressed money she knew took baronetage drive heavy bills tradespeople unwelcome hints shepherd agent thoughts the kellynch property good equal sir walter apprehension state required possessor while lady elliot lived method moderation economy kept income died right mindedness period constantly exceeding possible spend less sir walter elliot imperiously called blameless was growing dreadfully debt hearing often vain attempt concealing longer partially daughter given hints spring town gone far say can retrench does occur article retrench elizabeth justice had ardour female alarm set seriously think done finally proposed branches economy cut unnecessary charities refrain new furnishing drawing room expedients added happy thought taking present anne usual yearly custom but measures good themselves insufficient real extent evil sir walter obliged confess soon afterwards elizabeth propose deeper efficacy she felt ill used unfortunate father able devise means lessening expenses compromising dignity relinquishing comforts way borne there small estate sir walter dispose acre alienable difference condescended mortgage far power condescend sell disgrace far the kellynch estate transmitted entire received their confidential friends shepherd lived neighbouring market town lady russell called advise them father daughter expect struck remove embarrassments reduce expenditure involving loss indulgence taste pride'"
      ]
     },
     "execution_count": 662,
     "metadata": {},
     "output_type": "execute_result"
    }
   ],
   "source": [
    "df[\"Book_Content_Processed\"][0]"
   ]
  },
  {
   "cell_type": "markdown",
   "id": "e4857960-6121-4528-ad25-143a7853bb2e",
   "metadata": {},
   "source": [
    "It seems as if the preprocessing was succesful! <br>\n",
    "We now split the dataframe per book"
   ]
  },
  {
   "cell_type": "code",
   "execution_count": 663,
   "id": "3b5cf4d8-d032-43b6-b788-d6de3353e34b",
   "metadata": {},
   "outputs": [],
   "source": [
    "book_groups = df.groupby('ID')    \n",
    "books = [book_groups.get_group(x) for x in book_groups.groups]"
   ]
  },
  {
   "cell_type": "code",
   "execution_count": 664,
   "id": "7d8b16bd-c369-45de-b5b8-85ac2adc90b3",
   "metadata": {},
   "outputs": [
    {
     "data": {
      "text/html": [
       "<div>\n",
       "<style scoped>\n",
       "    .dataframe tbody tr th:only-of-type {\n",
       "        vertical-align: middle;\n",
       "    }\n",
       "\n",
       "    .dataframe tbody tr th {\n",
       "        vertical-align: top;\n",
       "    }\n",
       "\n",
       "    .dataframe thead th {\n",
       "        text-align: right;\n",
       "    }\n",
       "</style>\n",
       "<table border=\"1\" class=\"dataframe\">\n",
       "  <thead>\n",
       "    <tr style=\"text-align: right;\">\n",
       "      <th></th>\n",
       "      <th>ID</th>\n",
       "      <th>Book_Content</th>\n",
       "      <th>Book_Content_Processed</th>\n",
       "    </tr>\n",
       "  </thead>\n",
       "  <tbody>\n",
       "    <tr>\n",
       "      <th>0</th>\n",
       "      <td>105</td>\n",
       "      <td>\\r\\n\\r\\n\\r\\nSir Walter Elliot, of Kellynch Hal...</td>\n",
       "      <td>sir walter elliot kellynch hall somersetshire ...</td>\n",
       "    </tr>\n",
       "    <tr>\n",
       "      <th>1</th>\n",
       "      <td>105</td>\n",
       "      <td>\\r\\n\\r\\n\\r\\nMr Shepherd, a civil, cautious law...</td>\n",
       "      <td>shepherd civil cautious lawyer who hold views ...</td>\n",
       "    </tr>\n",
       "    <tr>\n",
       "      <th>2</th>\n",
       "      <td>105</td>\n",
       "      <td>\\r\\n\\r\\n\\r\\n\"I must take leave to observe, Sir...</td>\n",
       "      <td>leave observe sir walter said shepherd morning...</td>\n",
       "    </tr>\n",
       "    <tr>\n",
       "      <th>3</th>\n",
       "      <td>105</td>\n",
       "      <td>\\r\\n\\r\\n\\r\\nHe was not Mr Wentworth, the forme...</td>\n",
       "      <td>wentworth curate monkford suspicious appearanc...</td>\n",
       "    </tr>\n",
       "    <tr>\n",
       "      <th>4</th>\n",
       "      <td>105</td>\n",
       "      <td>\\r\\n\\r\\n\\r\\nOn the morning appointed for Admir...</td>\n",
       "      <td>morning appointed admiral mrs croft seeing kel...</td>\n",
       "    </tr>\n",
       "    <tr>\n",
       "      <th>5</th>\n",
       "      <td>105</td>\n",
       "      <td>\\r\\n\\r\\n\\r\\nAnne had not wanted this visit to ...</td>\n",
       "      <td>anne wanted visit uppercross learn removal set...</td>\n",
       "    </tr>\n",
       "    <tr>\n",
       "      <th>6</th>\n",
       "      <td>105</td>\n",
       "      <td>\\r\\n\\r\\n\\r\\nA very few days more, and Captain ...</td>\n",
       "      <td>days more captain wentworth known kellynch mus...</td>\n",
       "    </tr>\n",
       "    <tr>\n",
       "      <th>7</th>\n",
       "      <td>105</td>\n",
       "      <td>\\r\\n\\r\\n\\r\\nFrom this time Captain Wentworth a...</td>\n",
       "      <td>from time captain wentworth anne elliot repeat...</td>\n",
       "    </tr>\n",
       "    <tr>\n",
       "      <th>8</th>\n",
       "      <td>105</td>\n",
       "      <td>\\r\\n\\r\\n\\r\\nCaptain Wentworth was come to Kell...</td>\n",
       "      <td>captain wentworth come kellynch home stay long...</td>\n",
       "    </tr>\n",
       "    <tr>\n",
       "      <th>9</th>\n",
       "      <td>105</td>\n",
       "      <td>\\r\\n\\r\\n\\r\\nOther opportunities of making her ...</td>\n",
       "      <td>other opportunities making observations fail o...</td>\n",
       "    </tr>\n",
       "    <tr>\n",
       "      <th>10</th>\n",
       "      <td>105</td>\n",
       "      <td>\\r\\n\\r\\n\\r\\nThe time now approached for Lady R...</td>\n",
       "      <td>the time approached lady russell return day fi...</td>\n",
       "    </tr>\n",
       "    <tr>\n",
       "      <th>11</th>\n",
       "      <td>105</td>\n",
       "      <td>\\r\\n\\r\\n\\r\\nAnne and Henrietta, finding themse...</td>\n",
       "      <td>anne henrietta finding earliest party morning ...</td>\n",
       "    </tr>\n",
       "    <tr>\n",
       "      <th>12</th>\n",
       "      <td>105</td>\n",
       "      <td>\\r\\n\\r\\n\\r\\nThe remainder of Anne's time at Up...</td>\n",
       "      <td>the remainder anne time uppercross comprehendi...</td>\n",
       "    </tr>\n",
       "    <tr>\n",
       "      <th>13</th>\n",
       "      <td>105</td>\n",
       "      <td>\\r\\n\\r\\n\\r\\nThough Charles and Mary had remain...</td>\n",
       "      <td>though charles mary remained lyme longer mrs m...</td>\n",
       "    </tr>\n",
       "    <tr>\n",
       "      <th>14</th>\n",
       "      <td>105</td>\n",
       "      <td>\\r\\n\\r\\n\\r\\nSir Walter had taken a very good h...</td>\n",
       "      <td>sir walter taken good house camden place lofty...</td>\n",
       "    </tr>\n",
       "    <tr>\n",
       "      <th>15</th>\n",
       "      <td>105</td>\n",
       "      <td>\\r\\n\\r\\n\\r\\nThere was one point which Anne, on...</td>\n",
       "      <td>there point anne returning family thankful asc...</td>\n",
       "    </tr>\n",
       "    <tr>\n",
       "      <th>16</th>\n",
       "      <td>105</td>\n",
       "      <td>\\r\\n\\r\\n\\r\\nWhile Sir Walter and Elizabeth wer...</td>\n",
       "      <td>while sir walter elizabeth assiduously pushing...</td>\n",
       "    </tr>\n",
       "    <tr>\n",
       "      <th>17</th>\n",
       "      <td>105</td>\n",
       "      <td>\\r\\n\\r\\n\\r\\nIt was the beginning of February; ...</td>\n",
       "      <td>beginning february anne having month bath grow...</td>\n",
       "    </tr>\n",
       "    <tr>\n",
       "      <th>18</th>\n",
       "      <td>105</td>\n",
       "      <td>\\r\\n\\r\\n\\r\\nWhile Admiral Croft was taking thi...</td>\n",
       "      <td>while admiral croft taking walk anne expressin...</td>\n",
       "    </tr>\n",
       "    <tr>\n",
       "      <th>19</th>\n",
       "      <td>105</td>\n",
       "      <td>\\r\\n\\r\\n\\r\\nSir Walter, his two daughters, and...</td>\n",
       "      <td>sir walter daughters mrs clay earliest party r...</td>\n",
       "    </tr>\n",
       "    <tr>\n",
       "      <th>20</th>\n",
       "      <td>105</td>\n",
       "      <td>\\r\\n\\r\\n\\r\\nAnne recollected with pleasure the...</td>\n",
       "      <td>anne recollected pleasure morning promise goin...</td>\n",
       "    </tr>\n",
       "    <tr>\n",
       "      <th>21</th>\n",
       "      <td>105</td>\n",
       "      <td>\\r\\n\\r\\n\\r\\nAnne went home to think over all t...</td>\n",
       "      <td>anne went home think heard point feelings reli...</td>\n",
       "    </tr>\n",
       "    <tr>\n",
       "      <th>22</th>\n",
       "      <td>105</td>\n",
       "      <td>\\r\\n\\r\\n\\r\\nOne day only had passed since Anne...</td>\n",
       "      <td>one day passed anne conversation mrs smith kee...</td>\n",
       "    </tr>\n",
       "  </tbody>\n",
       "</table>\n",
       "</div>"
      ],
      "text/plain": [
       "     ID                                       Book_Content  \\\n",
       "0   105  \\r\\n\\r\\n\\r\\nSir Walter Elliot, of Kellynch Hal...   \n",
       "1   105  \\r\\n\\r\\n\\r\\nMr Shepherd, a civil, cautious law...   \n",
       "2   105  \\r\\n\\r\\n\\r\\n\"I must take leave to observe, Sir...   \n",
       "3   105  \\r\\n\\r\\n\\r\\nHe was not Mr Wentworth, the forme...   \n",
       "4   105  \\r\\n\\r\\n\\r\\nOn the morning appointed for Admir...   \n",
       "5   105  \\r\\n\\r\\n\\r\\nAnne had not wanted this visit to ...   \n",
       "6   105  \\r\\n\\r\\n\\r\\nA very few days more, and Captain ...   \n",
       "7   105  \\r\\n\\r\\n\\r\\nFrom this time Captain Wentworth a...   \n",
       "8   105  \\r\\n\\r\\n\\r\\nCaptain Wentworth was come to Kell...   \n",
       "9   105  \\r\\n\\r\\n\\r\\nOther opportunities of making her ...   \n",
       "10  105  \\r\\n\\r\\n\\r\\nThe time now approached for Lady R...   \n",
       "11  105  \\r\\n\\r\\n\\r\\nAnne and Henrietta, finding themse...   \n",
       "12  105  \\r\\n\\r\\n\\r\\nThe remainder of Anne's time at Up...   \n",
       "13  105  \\r\\n\\r\\n\\r\\nThough Charles and Mary had remain...   \n",
       "14  105  \\r\\n\\r\\n\\r\\nSir Walter had taken a very good h...   \n",
       "15  105  \\r\\n\\r\\n\\r\\nThere was one point which Anne, on...   \n",
       "16  105  \\r\\n\\r\\n\\r\\nWhile Sir Walter and Elizabeth wer...   \n",
       "17  105  \\r\\n\\r\\n\\r\\nIt was the beginning of February; ...   \n",
       "18  105  \\r\\n\\r\\n\\r\\nWhile Admiral Croft was taking thi...   \n",
       "19  105  \\r\\n\\r\\n\\r\\nSir Walter, his two daughters, and...   \n",
       "20  105  \\r\\n\\r\\n\\r\\nAnne recollected with pleasure the...   \n",
       "21  105  \\r\\n\\r\\n\\r\\nAnne went home to think over all t...   \n",
       "22  105  \\r\\n\\r\\n\\r\\nOne day only had passed since Anne...   \n",
       "\n",
       "                               Book_Content_Processed  \n",
       "0   sir walter elliot kellynch hall somersetshire ...  \n",
       "1   shepherd civil cautious lawyer who hold views ...  \n",
       "2   leave observe sir walter said shepherd morning...  \n",
       "3   wentworth curate monkford suspicious appearanc...  \n",
       "4   morning appointed admiral mrs croft seeing kel...  \n",
       "5   anne wanted visit uppercross learn removal set...  \n",
       "6   days more captain wentworth known kellynch mus...  \n",
       "7   from time captain wentworth anne elliot repeat...  \n",
       "8   captain wentworth come kellynch home stay long...  \n",
       "9   other opportunities making observations fail o...  \n",
       "10  the time approached lady russell return day fi...  \n",
       "11  anne henrietta finding earliest party morning ...  \n",
       "12  the remainder anne time uppercross comprehendi...  \n",
       "13  though charles mary remained lyme longer mrs m...  \n",
       "14  sir walter taken good house camden place lofty...  \n",
       "15  there point anne returning family thankful asc...  \n",
       "16  while sir walter elizabeth assiduously pushing...  \n",
       "17  beginning february anne having month bath grow...  \n",
       "18  while admiral croft taking walk anne expressin...  \n",
       "19  sir walter daughters mrs clay earliest party r...  \n",
       "20  anne recollected pleasure morning promise goin...  \n",
       "21  anne went home think heard point feelings reli...  \n",
       "22  one day passed anne conversation mrs smith kee...  "
      ]
     },
     "execution_count": 664,
     "metadata": {},
     "output_type": "execute_result"
    }
   ],
   "source": [
    "books[0]"
   ]
  },
  {
   "cell_type": "markdown",
   "id": "ee0090da-01b3-4c96-aadc-8530a2f1d8b1",
   "metadata": {},
   "source": [
    "As we can see, we now have a dataframe per book containing each chapter"
   ]
  },
  {
   "cell_type": "code",
   "execution_count": 666,
   "id": "68bb5d81-a82d-47a0-87b2-07d846a4baf6",
   "metadata": {},
   "outputs": [
    {
     "name": "stdout",
     "output_type": "stream",
     "text": [
      "Book: 0\n",
      "Chapter: 0\n",
      "748\n",
      "Chapter: 1\n",
      "545\n",
      "Chapter: 2\n",
      "728\n",
      "Chapter: 3\n",
      "559\n",
      "Chapter: 4\n",
      "806\n",
      "Chapter: 5\n",
      "905\n",
      "Chapter: 6\n",
      "730\n",
      "Chapter: 7\n",
      "810\n",
      "Chapter: 8\n",
      "663\n",
      "Chapter: 9\n",
      "918\n",
      "Chapter: 10\n",
      "878\n",
      "Chapter: 11\n",
      "1137\n",
      "Chapter: 12\n",
      "725\n",
      "Chapter: 13\n",
      "618\n",
      "Chapter: 14\n",
      "725\n",
      "Chapter: 15\n",
      "601\n",
      "Chapter: 16\n",
      "913\n",
      "Chapter: 17\n",
      "844\n",
      "Chapter: 18\n",
      "603\n",
      "Chapter: 19\n",
      "840\n",
      "Chapter: 20\n",
      "1321\n",
      "Chapter: 21\n",
      "1270\n",
      "Book: 1\n",
      "Chapter: 23\n",
      "102\n",
      "Chapter: 24\n",
      "231\n",
      "Chapter: 25\n",
      "201\n",
      "Chapter: 26\n",
      "2\n",
      "Chapter: 27\n",
      "644\n",
      "Chapter: 28\n",
      "217\n",
      "Chapter: 29\n",
      "258\n",
      "Book: 2\n",
      "Chapter: 31\n",
      "875\n",
      "Chapter: 32\n",
      "91\n",
      "Chapter: 33\n",
      "206\n",
      "Chapter: 34\n",
      "328\n",
      "Chapter: 35\n",
      "755\n",
      "Chapter: 36\n",
      "198\n",
      "Chapter: 37\n",
      "400\n"
     ]
    }
   ],
   "source": [
    "counts_list = []\n",
    "\n",
    "char_list = []\n",
    "\n",
    "book_id = []\n",
    "\n",
    "chapter_count = []\n",
    "\n",
    "for book in range(0, len(books)):\n",
    "    \n",
    "    print(f\"Book: {book}\")\n",
    "\n",
    "    for chapter in range(books[book].index[0],books[book].index[-1]):\n",
    "        \n",
    "        print(f\"Chapter: {chapter}\")\n",
    "\n",
    "        (unique, counts) = np.unique(books[book][\"Book_Content_Processed\"][chapter].split(), return_counts=True)\n",
    "\n",
    "        counts_list.append(counts)\n",
    "\n",
    "        char_list.append(unique)\n",
    "        \n",
    "        print(len(counts))\n",
    "        \n",
    "        book_id.append(np.array([books[book][\"ID\"].index[0] for char in range(len(counts))]))\n",
    "        \n",
    "        chapter_count.append(np.array([chapter+1 for char in range(len(counts))]))\n",
    "        \n",
    "        #for i in range(len(counts)):\n",
    "         #   chapter_count.append(chapter+1)\n",
    "          #  book_id.append(books[book][\"ID\"])"
   ]
  },
  {
   "cell_type": "markdown",
   "id": "2516fa71-5ba1-4c65-b61b-586635d0b87a",
   "metadata": {},
   "source": [
    "We can see that we have succesfully iterated over all chapters and store the values and frequencies of each word."
   ]
  },
  {
   "cell_type": "code",
   "execution_count": 667,
   "id": "ae36e558-c145-4833-8e60-8398006b4fed",
   "metadata": {},
   "outputs": [],
   "source": [
    "occurences_list = []\n",
    "\n",
    "for index, freq in enumerate(counts_list):\n",
    "    \n",
    "    df_chapter = pd.DataFrame(data = (char_list[index], counts_list[index], chapter_count[index], book_id[index]))\n",
    "\n",
    "    df_chap_trans = df_chapter.T.rename(columns= {0:\"word\", 1:\"count\", 2:\"chapter\", 3:\"book_id\"}).sort_values(by = \"count\", ascending = False)\n",
    "                                                                                                          \n",
    "    df_chap_trans[\"rank\"] = df_chap_trans[\"count\"].rank(ascending=False)\n",
    "    \n",
    "    occurences_list.append(df_chap_trans)"
   ]
  },
  {
   "cell_type": "code",
   "execution_count": 668,
   "id": "bd8149d9-40da-4562-82f1-8df51be373c9",
   "metadata": {},
   "outputs": [
    {
     "data": {
      "text/html": [
       "<div>\n",
       "<style scoped>\n",
       "    .dataframe tbody tr th:only-of-type {\n",
       "        vertical-align: middle;\n",
       "    }\n",
       "\n",
       "    .dataframe tbody tr th {\n",
       "        vertical-align: top;\n",
       "    }\n",
       "\n",
       "    .dataframe thead th {\n",
       "        text-align: right;\n",
       "    }\n",
       "</style>\n",
       "<table border=\"1\" class=\"dataframe\">\n",
       "  <thead>\n",
       "    <tr style=\"text-align: right;\">\n",
       "      <th></th>\n",
       "      <th>word</th>\n",
       "      <th>count</th>\n",
       "      <th>chapter</th>\n",
       "      <th>book_id</th>\n",
       "      <th>rank</th>\n",
       "    </tr>\n",
       "  </thead>\n",
       "  <tbody>\n",
       "    <tr>\n",
       "      <th>209</th>\n",
       "      <td>elliot</td>\n",
       "      <td>22</td>\n",
       "      <td>1</td>\n",
       "      <td>0</td>\n",
       "      <td>1.0</td>\n",
       "    </tr>\n",
       "    <tr>\n",
       "      <th>712</th>\n",
       "      <td>walter</td>\n",
       "      <td>21</td>\n",
       "      <td>1</td>\n",
       "      <td>0</td>\n",
       "      <td>2.0</td>\n",
       "    </tr>\n",
       "    <tr>\n",
       "      <th>607</th>\n",
       "      <td>sir</td>\n",
       "      <td>18</td>\n",
       "      <td>1</td>\n",
       "      <td>0</td>\n",
       "      <td>3.0</td>\n",
       "    </tr>\n",
       "    <tr>\n",
       "      <th>207</th>\n",
       "      <td>elizabeth</td>\n",
       "      <td>14</td>\n",
       "      <td>1</td>\n",
       "      <td>0</td>\n",
       "      <td>4.0</td>\n",
       "    </tr>\n",
       "    <tr>\n",
       "      <th>381</th>\n",
       "      <td>lady</td>\n",
       "      <td>13</td>\n",
       "      <td>1</td>\n",
       "      <td>0</td>\n",
       "      <td>5.5</td>\n",
       "    </tr>\n",
       "    <tr>\n",
       "      <th>...</th>\n",
       "      <td>...</td>\n",
       "      <td>...</td>\n",
       "      <td>...</td>\n",
       "      <td>...</td>\n",
       "      <td>...</td>\n",
       "    </tr>\n",
       "    <tr>\n",
       "      <th>277</th>\n",
       "      <td>fourteen</td>\n",
       "      <td>1</td>\n",
       "      <td>1</td>\n",
       "      <td>0</td>\n",
       "      <td>473.0</td>\n",
       "    </tr>\n",
       "    <tr>\n",
       "      <th>280</th>\n",
       "      <td>frosts</td>\n",
       "      <td>1</td>\n",
       "      <td>1</td>\n",
       "      <td>0</td>\n",
       "      <td>473.0</td>\n",
       "    </tr>\n",
       "    <tr>\n",
       "      <th>281</th>\n",
       "      <td>fully</td>\n",
       "      <td>1</td>\n",
       "      <td>1</td>\n",
       "      <td>0</td>\n",
       "      <td>473.0</td>\n",
       "    </tr>\n",
       "    <tr>\n",
       "      <th>282</th>\n",
       "      <td>furnishing</td>\n",
       "      <td>1</td>\n",
       "      <td>1</td>\n",
       "      <td>0</td>\n",
       "      <td>473.0</td>\n",
       "    </tr>\n",
       "    <tr>\n",
       "      <th>747</th>\n",
       "      <td>youthful</td>\n",
       "      <td>1</td>\n",
       "      <td>1</td>\n",
       "      <td>0</td>\n",
       "      <td>473.0</td>\n",
       "    </tr>\n",
       "  </tbody>\n",
       "</table>\n",
       "<p>748 rows × 5 columns</p>\n",
       "</div>"
      ],
      "text/plain": [
       "           word count chapter book_id   rank\n",
       "209      elliot    22       1       0    1.0\n",
       "712      walter    21       1       0    2.0\n",
       "607         sir    18       1       0    3.0\n",
       "207   elizabeth    14       1       0    4.0\n",
       "381        lady    13       1       0    5.5\n",
       "..          ...   ...     ...     ...    ...\n",
       "277    fourteen     1       1       0  473.0\n",
       "280      frosts     1       1       0  473.0\n",
       "281       fully     1       1       0  473.0\n",
       "282  furnishing     1       1       0  473.0\n",
       "747    youthful     1       1       0  473.0\n",
       "\n",
       "[748 rows x 5 columns]"
      ]
     },
     "execution_count": 668,
     "metadata": {},
     "output_type": "execute_result"
    }
   ],
   "source": [
    "occurences_list[0]"
   ]
  },
  {
   "cell_type": "markdown",
   "id": "369f9c8f-9a6f-4e90-9c57-9de0419ce9e2",
   "metadata": {},
   "source": [
    "Now that we generated a list of dataframes, with each dataframe consisting of the same columns and information regarding which chapter and book, we can collapse all dataframes together into one."
   ]
  },
  {
   "cell_type": "code",
   "execution_count": 669,
   "id": "c7c4079d-34fc-4b38-96a8-775603ccffed",
   "metadata": {},
   "outputs": [],
   "source": [
    "df_combined = pd.concat(occurences_list)"
   ]
  },
  {
   "cell_type": "code",
   "execution_count": 670,
   "id": "a96d7e44-af5b-4327-b144-6014b9561486",
   "metadata": {},
   "outputs": [
    {
     "data": {
      "text/html": [
       "<div>\n",
       "<style scoped>\n",
       "    .dataframe tbody tr th:only-of-type {\n",
       "        vertical-align: middle;\n",
       "    }\n",
       "\n",
       "    .dataframe tbody tr th {\n",
       "        vertical-align: top;\n",
       "    }\n",
       "\n",
       "    .dataframe thead th {\n",
       "        text-align: right;\n",
       "    }\n",
       "</style>\n",
       "<table border=\"1\" class=\"dataframe\">\n",
       "  <thead>\n",
       "    <tr style=\"text-align: right;\">\n",
       "      <th></th>\n",
       "      <th>word</th>\n",
       "      <th>count</th>\n",
       "      <th>chapter</th>\n",
       "      <th>book_id</th>\n",
       "      <th>rank</th>\n",
       "    </tr>\n",
       "  </thead>\n",
       "  <tbody>\n",
       "    <tr>\n",
       "      <th>209</th>\n",
       "      <td>elliot</td>\n",
       "      <td>22</td>\n",
       "      <td>1</td>\n",
       "      <td>0</td>\n",
       "      <td>1.0</td>\n",
       "    </tr>\n",
       "    <tr>\n",
       "      <th>712</th>\n",
       "      <td>walter</td>\n",
       "      <td>21</td>\n",
       "      <td>1</td>\n",
       "      <td>0</td>\n",
       "      <td>2.0</td>\n",
       "    </tr>\n",
       "    <tr>\n",
       "      <th>607</th>\n",
       "      <td>sir</td>\n",
       "      <td>18</td>\n",
       "      <td>1</td>\n",
       "      <td>0</td>\n",
       "      <td>3.0</td>\n",
       "    </tr>\n",
       "    <tr>\n",
       "      <th>207</th>\n",
       "      <td>elizabeth</td>\n",
       "      <td>14</td>\n",
       "      <td>1</td>\n",
       "      <td>0</td>\n",
       "      <td>4.0</td>\n",
       "    </tr>\n",
       "    <tr>\n",
       "      <th>381</th>\n",
       "      <td>lady</td>\n",
       "      <td>13</td>\n",
       "      <td>1</td>\n",
       "      <td>0</td>\n",
       "      <td>5.5</td>\n",
       "    </tr>\n",
       "    <tr>\n",
       "      <th>...</th>\n",
       "      <td>...</td>\n",
       "      <td>...</td>\n",
       "      <td>...</td>\n",
       "      <td>...</td>\n",
       "      <td>...</td>\n",
       "    </tr>\n",
       "    <tr>\n",
       "      <th>509</th>\n",
       "      <td>trusted</td>\n",
       "      <td>1</td>\n",
       "      <td>2</td>\n",
       "      <td>0</td>\n",
       "      <td>336.0</td>\n",
       "    </tr>\n",
       "    <tr>\n",
       "      <th>508</th>\n",
       "      <td>true</td>\n",
       "      <td>1</td>\n",
       "      <td>2</td>\n",
       "      <td>0</td>\n",
       "      <td>336.0</td>\n",
       "    </tr>\n",
       "    <tr>\n",
       "      <th>464</th>\n",
       "      <td>skilful</td>\n",
       "      <td>1</td>\n",
       "      <td>2</td>\n",
       "      <td>0</td>\n",
       "      <td>336.0</td>\n",
       "    </tr>\n",
       "    <tr>\n",
       "      <th>462</th>\n",
       "      <td>sisters</td>\n",
       "      <td>1</td>\n",
       "      <td>2</td>\n",
       "      <td>0</td>\n",
       "      <td>336.0</td>\n",
       "    </tr>\n",
       "    <tr>\n",
       "      <th>395</th>\n",
       "      <td>rate</td>\n",
       "      <td>1</td>\n",
       "      <td>2</td>\n",
       "      <td>0</td>\n",
       "      <td>336.0</td>\n",
       "    </tr>\n",
       "  </tbody>\n",
       "</table>\n",
       "<p>1000 rows × 5 columns</p>\n",
       "</div>"
      ],
      "text/plain": [
       "          word count chapter book_id   rank\n",
       "209     elliot    22       1       0    1.0\n",
       "712     walter    21       1       0    2.0\n",
       "607        sir    18       1       0    3.0\n",
       "207  elizabeth    14       1       0    4.0\n",
       "381       lady    13       1       0    5.5\n",
       "..         ...   ...     ...     ...    ...\n",
       "509    trusted     1       2       0  336.0\n",
       "508       true     1       2       0  336.0\n",
       "464    skilful     1       2       0  336.0\n",
       "462    sisters     1       2       0  336.0\n",
       "395       rate     1       2       0  336.0\n",
       "\n",
       "[1000 rows x 5 columns]"
      ]
     },
     "execution_count": 670,
     "metadata": {},
     "output_type": "execute_result"
    }
   ],
   "source": [
    "df_combined.head(1000)"
   ]
  },
  {
   "cell_type": "markdown",
   "id": "544dc3e8-484d-4561-b414-7a467056702a",
   "metadata": {},
   "source": [
    "As we can see the transformation was succesful. We now have to read in the dictionary for assigning values to the words used. In this example we will use afinn."
   ]
  },
  {
   "cell_type": "code",
   "execution_count": 671,
   "id": "867731ec-813b-45bf-9a18-ec112fa1dc96",
   "metadata": {},
   "outputs": [],
   "source": [
    "path = r\"C:\\Users\\felix\\Analytics Lab\\Class 1\\afinn.csv\"\n",
    "\n",
    "dic = pd.read_csv(path)"
   ]
  },
  {
   "cell_type": "code",
   "execution_count": 672,
   "id": "030da9b5-fd9f-42e2-a0fc-59c6b84b51e6",
   "metadata": {},
   "outputs": [
    {
     "data": {
      "text/html": [
       "<div>\n",
       "<style scoped>\n",
       "    .dataframe tbody tr th:only-of-type {\n",
       "        vertical-align: middle;\n",
       "    }\n",
       "\n",
       "    .dataframe tbody tr th {\n",
       "        vertical-align: top;\n",
       "    }\n",
       "\n",
       "    .dataframe thead th {\n",
       "        text-align: right;\n",
       "    }\n",
       "</style>\n",
       "<table border=\"1\" class=\"dataframe\">\n",
       "  <thead>\n",
       "    <tr style=\"text-align: right;\">\n",
       "      <th></th>\n",
       "      <th>Unnamed: 0</th>\n",
       "      <th>word</th>\n",
       "      <th>value</th>\n",
       "    </tr>\n",
       "  </thead>\n",
       "  <tbody>\n",
       "    <tr>\n",
       "      <th>0</th>\n",
       "      <td>1</td>\n",
       "      <td>abandon</td>\n",
       "      <td>-2</td>\n",
       "    </tr>\n",
       "    <tr>\n",
       "      <th>1</th>\n",
       "      <td>2</td>\n",
       "      <td>abandoned</td>\n",
       "      <td>-2</td>\n",
       "    </tr>\n",
       "    <tr>\n",
       "      <th>2</th>\n",
       "      <td>3</td>\n",
       "      <td>abandons</td>\n",
       "      <td>-2</td>\n",
       "    </tr>\n",
       "    <tr>\n",
       "      <th>3</th>\n",
       "      <td>4</td>\n",
       "      <td>abducted</td>\n",
       "      <td>-2</td>\n",
       "    </tr>\n",
       "    <tr>\n",
       "      <th>4</th>\n",
       "      <td>5</td>\n",
       "      <td>abduction</td>\n",
       "      <td>-2</td>\n",
       "    </tr>\n",
       "  </tbody>\n",
       "</table>\n",
       "</div>"
      ],
      "text/plain": [
       "   Unnamed: 0       word  value\n",
       "0           1    abandon     -2\n",
       "1           2  abandoned     -2\n",
       "2           3   abandons     -2\n",
       "3           4   abducted     -2\n",
       "4           5  abduction     -2"
      ]
     },
     "execution_count": 672,
     "metadata": {},
     "output_type": "execute_result"
    }
   ],
   "source": [
    "dic.head()"
   ]
  },
  {
   "cell_type": "markdown",
   "id": "47f8d8ed-7eef-4c40-85cc-74f5e29d19b1",
   "metadata": {},
   "source": [
    "Now we do an inner join with the dictionary to be left with only words that have a connotation associated with them."
   ]
  },
  {
   "cell_type": "code",
   "execution_count": 673,
   "id": "7e34ab9d-6da1-4ac8-8284-c089ba058f9c",
   "metadata": {},
   "outputs": [],
   "source": [
    "sentiment_merge = pd.merge(dic, df_combined, how=\"inner\", on=\"word\")"
   ]
  },
  {
   "cell_type": "code",
   "execution_count": 674,
   "id": "ef7a3804-af42-4516-9f56-ce53382bbee4",
   "metadata": {},
   "outputs": [
    {
     "data": {
      "text/html": [
       "<div>\n",
       "<style scoped>\n",
       "    .dataframe tbody tr th:only-of-type {\n",
       "        vertical-align: middle;\n",
       "    }\n",
       "\n",
       "    .dataframe tbody tr th {\n",
       "        vertical-align: top;\n",
       "    }\n",
       "\n",
       "    .dataframe thead th {\n",
       "        text-align: right;\n",
       "    }\n",
       "</style>\n",
       "<table border=\"1\" class=\"dataframe\">\n",
       "  <thead>\n",
       "    <tr style=\"text-align: right;\">\n",
       "      <th></th>\n",
       "      <th>Unnamed: 0</th>\n",
       "      <th>word</th>\n",
       "      <th>value</th>\n",
       "      <th>count</th>\n",
       "      <th>chapter</th>\n",
       "      <th>book_id</th>\n",
       "      <th>rank</th>\n",
       "    </tr>\n",
       "  </thead>\n",
       "  <tbody>\n",
       "    <tr>\n",
       "      <th>0</th>\n",
       "      <td>11</td>\n",
       "      <td>abilities</td>\n",
       "      <td>2</td>\n",
       "      <td>1</td>\n",
       "      <td>2</td>\n",
       "      <td>0</td>\n",
       "      <td>336.0</td>\n",
       "    </tr>\n",
       "    <tr>\n",
       "      <th>1</th>\n",
       "      <td>21</td>\n",
       "      <td>abuse</td>\n",
       "      <td>-3</td>\n",
       "      <td>1</td>\n",
       "      <td>21</td>\n",
       "      <td>0</td>\n",
       "      <td>893.5</td>\n",
       "    </tr>\n",
       "    <tr>\n",
       "      <th>2</th>\n",
       "      <td>22</td>\n",
       "      <td>abused</td>\n",
       "      <td>-3</td>\n",
       "      <td>1</td>\n",
       "      <td>8</td>\n",
       "      <td>0</td>\n",
       "      <td>528.5</td>\n",
       "    </tr>\n",
       "    <tr>\n",
       "      <th>3</th>\n",
       "      <td>22</td>\n",
       "      <td>abused</td>\n",
       "      <td>-3</td>\n",
       "      <td>1</td>\n",
       "      <td>22</td>\n",
       "      <td>0</td>\n",
       "      <td>853.0</td>\n",
       "    </tr>\n",
       "    <tr>\n",
       "      <th>4</th>\n",
       "      <td>25</td>\n",
       "      <td>accept</td>\n",
       "      <td>1</td>\n",
       "      <td>1</td>\n",
       "      <td>10</td>\n",
       "      <td>0</td>\n",
       "      <td>601.0</td>\n",
       "    </tr>\n",
       "  </tbody>\n",
       "</table>\n",
       "</div>"
      ],
      "text/plain": [
       "   Unnamed: 0       word  value count chapter book_id   rank\n",
       "0          11  abilities      2     1       2       0  336.0\n",
       "1          21      abuse     -3     1      21       0  893.5\n",
       "2          22     abused     -3     1       8       0  528.5\n",
       "3          22     abused     -3     1      22       0  853.0\n",
       "4          25     accept      1     1      10       0  601.0"
      ]
     },
     "execution_count": 674,
     "metadata": {},
     "output_type": "execute_result"
    }
   ],
   "source": [
    "sentiment_merge.head()"
   ]
  },
  {
   "cell_type": "markdown",
   "id": "2bba07b1-34db-4fea-8d30-c6e93be75ce5",
   "metadata": {},
   "source": [
    "We now engineer the total values, by multiplying value with counts"
   ]
  },
  {
   "cell_type": "code",
   "execution_count": 675,
   "id": "818ffec7-e688-4860-b350-41d492e375bd",
   "metadata": {},
   "outputs": [],
   "source": [
    "sentiment_merge[\"total_values\"] = sentiment_merge[\"value\"]* sentiment_merge[\"count\"]"
   ]
  },
  {
   "cell_type": "code",
   "execution_count": 676,
   "id": "57d72b70-512b-4c71-aeb4-67d1cfa3e965",
   "metadata": {},
   "outputs": [
    {
     "data": {
      "text/html": [
       "<div>\n",
       "<style scoped>\n",
       "    .dataframe tbody tr th:only-of-type {\n",
       "        vertical-align: middle;\n",
       "    }\n",
       "\n",
       "    .dataframe tbody tr th {\n",
       "        vertical-align: top;\n",
       "    }\n",
       "\n",
       "    .dataframe thead th {\n",
       "        text-align: right;\n",
       "    }\n",
       "</style>\n",
       "<table border=\"1\" class=\"dataframe\">\n",
       "  <thead>\n",
       "    <tr style=\"text-align: right;\">\n",
       "      <th></th>\n",
       "      <th>Unnamed: 0</th>\n",
       "      <th>word</th>\n",
       "      <th>value</th>\n",
       "      <th>count</th>\n",
       "      <th>chapter</th>\n",
       "      <th>book_id</th>\n",
       "      <th>rank</th>\n",
       "      <th>total_values</th>\n",
       "    </tr>\n",
       "  </thead>\n",
       "  <tbody>\n",
       "    <tr>\n",
       "      <th>0</th>\n",
       "      <td>11</td>\n",
       "      <td>abilities</td>\n",
       "      <td>2</td>\n",
       "      <td>1</td>\n",
       "      <td>2</td>\n",
       "      <td>0</td>\n",
       "      <td>336.0</td>\n",
       "      <td>2</td>\n",
       "    </tr>\n",
       "    <tr>\n",
       "      <th>1</th>\n",
       "      <td>21</td>\n",
       "      <td>abuse</td>\n",
       "      <td>-3</td>\n",
       "      <td>1</td>\n",
       "      <td>21</td>\n",
       "      <td>0</td>\n",
       "      <td>893.5</td>\n",
       "      <td>-3</td>\n",
       "    </tr>\n",
       "    <tr>\n",
       "      <th>2</th>\n",
       "      <td>22</td>\n",
       "      <td>abused</td>\n",
       "      <td>-3</td>\n",
       "      <td>1</td>\n",
       "      <td>8</td>\n",
       "      <td>0</td>\n",
       "      <td>528.5</td>\n",
       "      <td>-3</td>\n",
       "    </tr>\n",
       "    <tr>\n",
       "      <th>3</th>\n",
       "      <td>22</td>\n",
       "      <td>abused</td>\n",
       "      <td>-3</td>\n",
       "      <td>1</td>\n",
       "      <td>22</td>\n",
       "      <td>0</td>\n",
       "      <td>853.0</td>\n",
       "      <td>-3</td>\n",
       "    </tr>\n",
       "    <tr>\n",
       "      <th>4</th>\n",
       "      <td>25</td>\n",
       "      <td>accept</td>\n",
       "      <td>1</td>\n",
       "      <td>1</td>\n",
       "      <td>10</td>\n",
       "      <td>0</td>\n",
       "      <td>601.0</td>\n",
       "      <td>1</td>\n",
       "    </tr>\n",
       "  </tbody>\n",
       "</table>\n",
       "</div>"
      ],
      "text/plain": [
       "   Unnamed: 0       word  value count chapter book_id   rank total_values\n",
       "0          11  abilities      2     1       2       0  336.0            2\n",
       "1          21      abuse     -3     1      21       0  893.5           -3\n",
       "2          22     abused     -3     1       8       0  528.5           -3\n",
       "3          22     abused     -3     1      22       0  853.0           -3\n",
       "4          25     accept      1     1      10       0  601.0            1"
      ]
     },
     "execution_count": 676,
     "metadata": {},
     "output_type": "execute_result"
    }
   ],
   "source": [
    "sentiment_merge.head()"
   ]
  },
  {
   "cell_type": "markdown",
   "id": "60930a0e-6fe7-4747-a0a3-714c9714d9f5",
   "metadata": {},
   "source": [
    "Now that we have the total values, we split per book again and take the mean per chapter"
   ]
  },
  {
   "cell_type": "code",
   "execution_count": 677,
   "id": "37501dc8-515d-4ee9-a62f-d312e892de09",
   "metadata": {},
   "outputs": [],
   "source": [
    "book_groups = sentiment_merge.groupby('book_id')    \n",
    "books = [book_groups.get_group(x) for x in book_groups.groups]"
   ]
  },
  {
   "cell_type": "code",
   "execution_count": 682,
   "id": "fd805079-81ac-4aad-9beb-66e2acc8358c",
   "metadata": {},
   "outputs": [],
   "source": [
    "final_sentiments = []\n",
    "\n",
    "for book in books:\n",
    "    sen_book = book.groupby(\"chapter\").agg({\"total_values\":\"mean\"})\n",
    "    final_sentiments.append(sen_book)"
   ]
  },
  {
   "cell_type": "code",
   "execution_count": 691,
   "id": "6e123667-cae9-46e3-906b-e0c9d8381af1",
   "metadata": {},
   "outputs": [],
   "source": [
    "import seaborn as sns\n",
    "import matplotlib.pyplot as plt"
   ]
  },
  {
   "cell_type": "code",
   "execution_count": 695,
   "id": "12443afe-8eb7-4351-8d54-31327148d7ba",
   "metadata": {},
   "outputs": [
    {
     "data": {
      "image/png": "[encoded data removed]",
      "text/plain": [
       "<Figure size 432x288 with 1 Axes>"
      ]
     },
     "metadata": {
      "needs_background": "light"
     },
     "output_type": "display_data"
    },
    {
     "data": {
      "image/png": "[encoded data removed]",
      "text/plain": [
       "<Figure size 432x288 with 1 Axes>"
      ]
     },
     "metadata": {
      "needs_background": "light"
     },
     "output_type": "display_data"
    },
    {
     "data": {
      "image/png": "[encoded data removed]",
      "text/plain": [
       "<Figure size 432x288 with 1 Axes>"
      ]
     },
     "metadata": {
      "needs_background": "light"
     },
     "output_type": "display_data"
    },
    {
     "data": {
      "text/plain": [
       "<Figure size 432x288 with 0 Axes>"
      ]
     },
     "metadata": {},
     "output_type": "display_data"
    }
   ],
   "source": [
    "for book in final_sentiments:\n",
    "    fig1 = plt.plot(book.index, book)\n",
    "    plt.figure()"
   ]
  },
  {
   "cell_type": "markdown",
   "id": "9250adf6-4cdd-420c-8b9e-57ee335d99fa",
   "metadata": {},
   "source": [
    "Through this we can analyse the emotional progress of the books per chapter"
   ]
  }
 ],
 "metadata": {
  "kernelspec": {
   "display_name": "Python 3 (ipykernel)",
   "language": "python",
   "name": "python3"
  },
  "language_info": {
   "codemirror_mode": {
    "name": "ipython",
    "version": 3
   },
   "file_extension": ".py",
   "mimetype": "text/x-python",
   "name": "python",
   "nbconvert_exporter": "python",
   "pygments_lexer": "ipython3",
   "version": "3.9.7"
  }
 },
 "nbformat": 4,
 "nbformat_minor": 5
}
