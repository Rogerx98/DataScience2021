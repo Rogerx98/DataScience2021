{
  "cells": [
    {
      "cell_type": "markdown",
      "metadata": {
        "id": "view-in-github",
        "colab_type": "text"
      },
      "source": [
        "<a href=\"https://colab.research.google.com/github/markusloecher/DataScience2021/blob/main/TWSM/Class_on_Social_Media_networks.ipynb\" target=\"_parent\"><img src=\"https://colab.research.google.com/assets/colab-badge.svg\" alt=\"Open In Colab\"/></a>"
      ]
    },
    {
      "cell_type": "markdown",
      "metadata": {
        "id": "lGjQzHYG_gm2"
      },
      "source": [
        "\n",
        "\n",
        "```\n",
        "# This is formatted as code\n",
        "```\n",
        "\n",
        "#  Text Analytics in Social Media "
      ]
    },
    {
      "cell_type": "markdown",
      "metadata": {
        "id": "vQPNT9wV_gm3"
      },
      "source": [
        "In this class we will be using the Twitter US Airline Sentiment data set on Kaggle https://www.kaggle.com/crowdflower/twitter-airline-sentiment for Twitter sentiment analysis. We will first clean the data and then apply two well-known NLP packages for sentiment analysis. After that, we will train our own supervised and unsupervised sentiment analysis classifiers. The steps will be:\n",
        "\n",
        "1. Data cleaning\n",
        "2. Sentiment analysis with NLP packages\n",
        "        2.1. textblob\n",
        "        2.2. VADER\n",
        "3. Supervised sentiment classifier\n",
        "4. Unsupervised sentiment classifier"
      ]
    },
    {
      "cell_type": "code",
      "execution_count": 2,
      "metadata": {
        "colab": {
          "base_uri": "https://localhost:8080/"
        },
        "id": "I-mcV_61_tPR",
        "outputId": "ed2080f2-039c-4a86-fd99-f61565014c42"
      },
      "outputs": [
        {
          "output_type": "stream",
          "name": "stdout",
          "text": [
            "Looking in indexes: https://pypi.org/simple, https://us-python.pkg.dev/colab-wheels/public/simple/\n",
            "Collecting tweet-preprocessor\n",
            "  Downloading tweet_preprocessor-0.6.0-py3-none-any.whl (27 kB)\n",
            "Installing collected packages: tweet-preprocessor\n",
            "Successfully installed tweet-preprocessor-0.6.0\n"
          ]
        }
      ],
      "source": [
        "!pip install tweet-preprocessor"
      ]
    },
    {
      "cell_type": "code",
      "execution_count": 3,
      "metadata": {
        "colab": {
          "base_uri": "https://localhost:8080/"
        },
        "id": "uzROj3q4_gm4",
        "outputId": "86e4d930-d8f8-4fde-9732-3945f9f1ad7c"
      },
      "outputs": [
        {
          "output_type": "stream",
          "name": "stderr",
          "text": [
            "[nltk_data] Downloading package vader_lexicon to /root/nltk_data...\n"
          ]
        },
        {
          "output_type": "execute_result",
          "data": {
            "text/plain": [
              "True"
            ]
          },
          "metadata": {},
          "execution_count": 3
        }
      ],
      "source": [
        "# Import packages\n",
        "import numpy as np \n",
        "np.random.seed(37)\n",
        "import pandas as pd \n",
        "from textblob import TextBlob\n",
        "from nltk.sentiment.vader import SentimentIntensityAnalyzer\n",
        "from sklearn.ensemble import RandomForestClassifier\n",
        "from sklearn.model_selection import GridSearchCV\n",
        "from sklearn.metrics import classification_report\n",
        "from sklearn.cluster import KMeans\n",
        "from sklearn.feature_extraction.text import TfidfVectorizer\n",
        "from sklearn.model_selection import train_test_split\n",
        "import matplotlib.pyplot as plt\n",
        "from seaborn import countplot, distplot, heatmap\n",
        "from preprocessor.api import clean\n",
        "import inspect\n",
        "import preprocessor\n",
        "import nltk\n",
        "nltk.download('vader_lexicon')"
      ]
    },
    {
      "cell_type": "code",
      "execution_count": 4,
      "metadata": {
        "colab": {
          "base_uri": "https://localhost:8080/"
        },
        "id": "qwZ3Z_WmBAjE",
        "outputId": "c242ecc9-1fd9-4336-9ee6-d09ddea307ab"
      },
      "outputs": [
        {
          "output_type": "stream",
          "name": "stdout",
          "text": [
            "Mounted at /content/drive\n"
          ]
        }
      ],
      "source": [
        "from google.colab import drive\n",
        "drive.mount('/content/drive')\n",
        "TWSM_path = \"/content/drive/MyDrive/teaching/TWSM/\""
      ]
    },
    {
      "cell_type": "markdown",
      "source": [
        "### Twitter API\n",
        "\n",
        "Check if the following code works:"
      ],
      "metadata": {
        "id": "i5jhsRyh6tnY"
      }
    },
    {
      "cell_type": "code",
      "source": [
        "from tweepy import OAuthHandler, API, Cursor\n",
        "consumer_key = Your_API_Key\n",
        "consumer_secret = Your_API_Secret_Key\n",
        "access_key=Your_Access_Token\n",
        "access_secret = Your_Access_Token_Secret\n",
        "auth = OAuthHandler(consumer_key, consumer_secret)\n",
        "auth.set_access_token(access_key, access_secret)\n",
        "api = API(auth,wait_on_rate_limit=True)\n",
        "counter = 0\n",
        "for tweet in Cursor(api.search, q=\"#covid19\", count=5, lang='en', tweet_mode='extended').items():\n",
        "  print(tweet.full_text)\n",
        "counter += 1\n",
        "if counter == 5:\n",
        "  break\n",
        "else:\n",
        "  pass\n"
      ],
      "metadata": {
        "id": "wcXnSDLZ6kwC"
      },
      "execution_count": null,
      "outputs": []
    },
    {
      "cell_type": "code",
      "execution_count": 5,
      "metadata": {
        "id": "mRVpg9bg_gm5",
        "colab": {
          "base_uri": "https://localhost:8080/",
          "height": 496
        },
        "outputId": "bd2f8ea9-5f82-4405-d3f8-ea6cebd2eda7"
      },
      "outputs": [
        {
          "output_type": "execute_result",
          "data": {
            "text/plain": [
              "             tweet_id airline_sentiment  airline_sentiment_confidence  \\\n",
              "0  570306133677760513           neutral                        1.0000   \n",
              "1  570301130888122368          positive                        0.3486   \n",
              "2  570301083672813571           neutral                        0.6837   \n",
              "3  570301031407624196          negative                        1.0000   \n",
              "4  570300817074462722          negative                        1.0000   \n",
              "\n",
              "  negativereason  negativereason_confidence         airline  \\\n",
              "0            NaN                        NaN  Virgin America   \n",
              "1            NaN                     0.0000  Virgin America   \n",
              "2            NaN                        NaN  Virgin America   \n",
              "3     Bad Flight                     0.7033  Virgin America   \n",
              "4     Can't Tell                     1.0000  Virgin America   \n",
              "\n",
              "  airline_sentiment_gold        name negativereason_gold  retweet_count  \\\n",
              "0                    NaN     cairdin                 NaN              0   \n",
              "1                    NaN    jnardino                 NaN              0   \n",
              "2                    NaN  yvonnalynn                 NaN              0   \n",
              "3                    NaN    jnardino                 NaN              0   \n",
              "4                    NaN    jnardino                 NaN              0   \n",
              "\n",
              "                                                text tweet_coord  \\\n",
              "0                @VirginAmerica What @dhepburn said.         NaN   \n",
              "1  @VirginAmerica plus you've added commercials t...         NaN   \n",
              "2  @VirginAmerica I didn't today... Must mean I n...         NaN   \n",
              "3  @VirginAmerica it's really aggressive to blast...         NaN   \n",
              "4  @VirginAmerica and it's a really big bad thing...         NaN   \n",
              "\n",
              "               tweet_created tweet_location               user_timezone  \n",
              "0  2015-02-24 11:35:52 -0800            NaN  Eastern Time (US & Canada)  \n",
              "1  2015-02-24 11:15:59 -0800            NaN  Pacific Time (US & Canada)  \n",
              "2  2015-02-24 11:15:48 -0800      Lets Play  Central Time (US & Canada)  \n",
              "3  2015-02-24 11:15:36 -0800            NaN  Pacific Time (US & Canada)  \n",
              "4  2015-02-24 11:14:45 -0800            NaN  Pacific Time (US & Canada)  "
            ],
            "text/html": [
              "\n",
              "  <div id=\"df-00149e3f-5ebe-4622-8032-5f6748313167\">\n",
              "    <div class=\"colab-df-container\">\n",
              "      <div>\n",
              "<style scoped>\n",
              "    .dataframe tbody tr th:only-of-type {\n",
              "        vertical-align: middle;\n",
              "    }\n",
              "\n",
              "    .dataframe tbody tr th {\n",
              "        vertical-align: top;\n",
              "    }\n",
              "\n",
              "    .dataframe thead th {\n",
              "        text-align: right;\n",
              "    }\n",
              "</style>\n",
              "<table border=\"1\" class=\"dataframe\">\n",
              "  <thead>\n",
              "    <tr style=\"text-align: right;\">\n",
              "      <th></th>\n",
              "      <th>tweet_id</th>\n",
              "      <th>airline_sentiment</th>\n",
              "      <th>airline_sentiment_confidence</th>\n",
              "      <th>negativereason</th>\n",
              "      <th>negativereason_confidence</th>\n",
              "      <th>airline</th>\n",
              "      <th>airline_sentiment_gold</th>\n",
              "      <th>name</th>\n",
              "      <th>negativereason_gold</th>\n",
              "      <th>retweet_count</th>\n",
              "      <th>text</th>\n",
              "      <th>tweet_coord</th>\n",
              "      <th>tweet_created</th>\n",
              "      <th>tweet_location</th>\n",
              "      <th>user_timezone</th>\n",
              "    </tr>\n",
              "  </thead>\n",
              "  <tbody>\n",
              "    <tr>\n",
              "      <th>0</th>\n",
              "      <td>570306133677760513</td>\n",
              "      <td>neutral</td>\n",
              "      <td>1.0000</td>\n",
              "      <td>NaN</td>\n",
              "      <td>NaN</td>\n",
              "      <td>Virgin America</td>\n",
              "      <td>NaN</td>\n",
              "      <td>cairdin</td>\n",
              "      <td>NaN</td>\n",
              "      <td>0</td>\n",
              "      <td>@VirginAmerica What @dhepburn said.</td>\n",
              "      <td>NaN</td>\n",
              "      <td>2015-02-24 11:35:52 -0800</td>\n",
              "      <td>NaN</td>\n",
              "      <td>Eastern Time (US &amp; Canada)</td>\n",
              "    </tr>\n",
              "    <tr>\n",
              "      <th>1</th>\n",
              "      <td>570301130888122368</td>\n",
              "      <td>positive</td>\n",
              "      <td>0.3486</td>\n",
              "      <td>NaN</td>\n",
              "      <td>0.0000</td>\n",
              "      <td>Virgin America</td>\n",
              "      <td>NaN</td>\n",
              "      <td>jnardino</td>\n",
              "      <td>NaN</td>\n",
              "      <td>0</td>\n",
              "      <td>@VirginAmerica plus you've added commercials t...</td>\n",
              "      <td>NaN</td>\n",
              "      <td>2015-02-24 11:15:59 -0800</td>\n",
              "      <td>NaN</td>\n",
              "      <td>Pacific Time (US &amp; Canada)</td>\n",
              "    </tr>\n",
              "    <tr>\n",
              "      <th>2</th>\n",
              "      <td>570301083672813571</td>\n",
              "      <td>neutral</td>\n",
              "      <td>0.6837</td>\n",
              "      <td>NaN</td>\n",
              "      <td>NaN</td>\n",
              "      <td>Virgin America</td>\n",
              "      <td>NaN</td>\n",
              "      <td>yvonnalynn</td>\n",
              "      <td>NaN</td>\n",
              "      <td>0</td>\n",
              "      <td>@VirginAmerica I didn't today... Must mean I n...</td>\n",
              "      <td>NaN</td>\n",
              "      <td>2015-02-24 11:15:48 -0800</td>\n",
              "      <td>Lets Play</td>\n",
              "      <td>Central Time (US &amp; Canada)</td>\n",
              "    </tr>\n",
              "    <tr>\n",
              "      <th>3</th>\n",
              "      <td>570301031407624196</td>\n",
              "      <td>negative</td>\n",
              "      <td>1.0000</td>\n",
              "      <td>Bad Flight</td>\n",
              "      <td>0.7033</td>\n",
              "      <td>Virgin America</td>\n",
              "      <td>NaN</td>\n",
              "      <td>jnardino</td>\n",
              "      <td>NaN</td>\n",
              "      <td>0</td>\n",
              "      <td>@VirginAmerica it's really aggressive to blast...</td>\n",
              "      <td>NaN</td>\n",
              "      <td>2015-02-24 11:15:36 -0800</td>\n",
              "      <td>NaN</td>\n",
              "      <td>Pacific Time (US &amp; Canada)</td>\n",
              "    </tr>\n",
              "    <tr>\n",
              "      <th>4</th>\n",
              "      <td>570300817074462722</td>\n",
              "      <td>negative</td>\n",
              "      <td>1.0000</td>\n",
              "      <td>Can't Tell</td>\n",
              "      <td>1.0000</td>\n",
              "      <td>Virgin America</td>\n",
              "      <td>NaN</td>\n",
              "      <td>jnardino</td>\n",
              "      <td>NaN</td>\n",
              "      <td>0</td>\n",
              "      <td>@VirginAmerica and it's a really big bad thing...</td>\n",
              "      <td>NaN</td>\n",
              "      <td>2015-02-24 11:14:45 -0800</td>\n",
              "      <td>NaN</td>\n",
              "      <td>Pacific Time (US &amp; Canada)</td>\n",
              "    </tr>\n",
              "  </tbody>\n",
              "</table>\n",
              "</div>\n",
              "      <button class=\"colab-df-convert\" onclick=\"convertToInteractive('df-00149e3f-5ebe-4622-8032-5f6748313167')\"\n",
              "              title=\"Convert this dataframe to an interactive table.\"\n",
              "              style=\"display:none;\">\n",
              "        \n",
              "  <svg xmlns=\"http://www.w3.org/2000/svg\" height=\"24px\"viewBox=\"0 0 24 24\"\n",
              "       width=\"24px\">\n",
              "    <path d=\"M0 0h24v24H0V0z\" fill=\"none\"/>\n",
              "    <path d=\"M18.56 5.44l.94 2.06.94-2.06 2.06-.94-2.06-.94-.94-2.06-.94 2.06-2.06.94zm-11 1L8.5 8.5l.94-2.06 2.06-.94-2.06-.94L8.5 2.5l-.94 2.06-2.06.94zm10 10l.94 2.06.94-2.06 2.06-.94-2.06-.94-.94-2.06-.94 2.06-2.06.94z\"/><path d=\"M17.41 7.96l-1.37-1.37c-.4-.4-.92-.59-1.43-.59-.52 0-1.04.2-1.43.59L10.3 9.45l-7.72 7.72c-.78.78-.78 2.05 0 2.83L4 21.41c.39.39.9.59 1.41.59.51 0 1.02-.2 1.41-.59l7.78-7.78 2.81-2.81c.8-.78.8-2.07 0-2.86zM5.41 20L4 18.59l7.72-7.72 1.47 1.35L5.41 20z\"/>\n",
              "  </svg>\n",
              "      </button>\n",
              "      \n",
              "  <style>\n",
              "    .colab-df-container {\n",
              "      display:flex;\n",
              "      flex-wrap:wrap;\n",
              "      gap: 12px;\n",
              "    }\n",
              "\n",
              "    .colab-df-convert {\n",
              "      background-color: #E8F0FE;\n",
              "      border: none;\n",
              "      border-radius: 50%;\n",
              "      cursor: pointer;\n",
              "      display: none;\n",
              "      fill: #1967D2;\n",
              "      height: 32px;\n",
              "      padding: 0 0 0 0;\n",
              "      width: 32px;\n",
              "    }\n",
              "\n",
              "    .colab-df-convert:hover {\n",
              "      background-color: #E2EBFA;\n",
              "      box-shadow: 0px 1px 2px rgba(60, 64, 67, 0.3), 0px 1px 3px 1px rgba(60, 64, 67, 0.15);\n",
              "      fill: #174EA6;\n",
              "    }\n",
              "\n",
              "    [theme=dark] .colab-df-convert {\n",
              "      background-color: #3B4455;\n",
              "      fill: #D2E3FC;\n",
              "    }\n",
              "\n",
              "    [theme=dark] .colab-df-convert:hover {\n",
              "      background-color: #434B5C;\n",
              "      box-shadow: 0px 1px 3px 1px rgba(0, 0, 0, 0.15);\n",
              "      filter: drop-shadow(0px 1px 2px rgba(0, 0, 0, 0.3));\n",
              "      fill: #FFFFFF;\n",
              "    }\n",
              "  </style>\n",
              "\n",
              "      <script>\n",
              "        const buttonEl =\n",
              "          document.querySelector('#df-00149e3f-5ebe-4622-8032-5f6748313167 button.colab-df-convert');\n",
              "        buttonEl.style.display =\n",
              "          google.colab.kernel.accessAllowed ? 'block' : 'none';\n",
              "\n",
              "        async function convertToInteractive(key) {\n",
              "          const element = document.querySelector('#df-00149e3f-5ebe-4622-8032-5f6748313167');\n",
              "          const dataTable =\n",
              "            await google.colab.kernel.invokeFunction('convertToInteractive',\n",
              "                                                     [key], {});\n",
              "          if (!dataTable) return;\n",
              "\n",
              "          const docLinkHtml = 'Like what you see? Visit the ' +\n",
              "            '<a target=\"_blank\" href=https://colab.research.google.com/notebooks/data_table.ipynb>data table notebook</a>'\n",
              "            + ' to learn more about interactive tables.';\n",
              "          element.innerHTML = '';\n",
              "          dataTable['output_type'] = 'display_data';\n",
              "          await google.colab.output.renderOutput(dataTable, element);\n",
              "          const docLink = document.createElement('div');\n",
              "          docLink.innerHTML = docLinkHtml;\n",
              "          element.appendChild(docLink);\n",
              "        }\n",
              "      </script>\n",
              "    </div>\n",
              "  </div>\n",
              "  "
            ]
          },
          "metadata": {},
          "execution_count": 5
        }
      ],
      "source": [
        "# Import data\n",
        "df = pd.read_csv(TWSM_path + 'data/Tweets.csv.zip')\n",
        "df.head()"
      ]
    },
    {
      "cell_type": "markdown",
      "metadata": {
        "id": "3yYv7mDL_gm5"
      },
      "source": [
        "The data presents the Tweets for six US airlines in February 2015 together with their sentiment (added, not part of Twitter data), confidence in the sentiment and if applicable a reason for negative sentiment and the corresponding confidence."
      ]
    },
    {
      "cell_type": "code",
      "execution_count": 6,
      "metadata": {
        "id": "C297tFTW_gm6",
        "colab": {
          "base_uri": "https://localhost:8080/",
          "height": 297
        },
        "outputId": "83625cc4-fe96-42d2-ca18-e53cb30d4119"
      },
      "outputs": [
        {
          "output_type": "execute_result",
          "data": {
            "text/plain": [
              "<matplotlib.axes._subplots.AxesSubplot at 0x7efd2d249190>"
            ]
          },
          "metadata": {},
          "execution_count": 6
        },
        {
          "output_type": "display_data",
          "data": {
            "text/plain": [
              "<Figure size 432x288 with 1 Axes>"
            ],
            "image/png": "[encoded data removed]"
          },
          "metadata": {
            "needs_background": "light"
          }
        }
      ],
      "source": [
        "# Examine sentiment class distribution\n",
        "countplot(x=\"airline_sentiment\", data=df)"
      ]
    },
    {
      "cell_type": "markdown",
      "metadata": {
        "id": "wHi0-fzt_gm6"
      },
      "source": [
        "There are three possible sentiment classes and most of the data is negative."
      ]
    },
    {
      "cell_type": "markdown",
      "metadata": {
        "id": "5V2lLBfg_gm6"
      },
      "source": [
        "## 1. Data preprocessing"
      ]
    },
    {
      "cell_type": "markdown",
      "metadata": {
        "id": "hP9XuiS8_gm7"
      },
      "source": [
        "Cleaning Twitter data requires more effort than cleaning other sources such as news or books, because tweets contain different additional parts such as emojis and hashtags."
      ]
    },
    {
      "cell_type": "code",
      "execution_count": 7,
      "metadata": {
        "id": "89-aUqsD_gm7"
      },
      "outputs": [],
      "source": [
        "# Data preprocessing\n",
        "df['prep']=[clean(doc) for doc in df['text']]"
      ]
    },
    {
      "cell_type": "markdown",
      "metadata": {
        "id": "0X0_42HU_gm7"
      },
      "source": [
        "Below in the code you can see the preprocessing steps."
      ]
    },
    {
      "cell_type": "code",
      "execution_count": 8,
      "metadata": {
        "colab": {
          "base_uri": "https://localhost:8080/",
          "height": 698
        },
        "id": "IoJiITsh_gm7",
        "outputId": "f83f3a3f-4403-4052-c081-f2836c6c6049"
      },
      "outputs": [
        {
          "output_type": "stream",
          "name": "stdout",
          "text": [
            "class Patterns:\n",
            "    URL_PATTERN_STR = r\"\"\"(?i)((?:https?:(?:/{1,3}|[a-z0-9%])|[a-z0-9.\\-]+[.](?:com|net|org|edu|gov|mil|aero|asia|biz|cat|coop|info\n",
            "                      |int|jobs|mobi|museum|name|post|pro|tel|travel|xxx|ac|ad|ae|af|ag|ai|al|am|an|ao|aq|ar|as|at|au|aw|ax|az|ba|\n",
            "                      bb|bd|be|bf|bg|bh|bi|bj|bm|bn|bo|br|bs|bt|bv|bw|by|bz|ca|cc|cd|cf|cg|ch|ci|ck|cl|cm|cn|co|cr|cs|cu|cv|cx|cy|\n",
            "                      cz|dd|de|dj|dk|dm|do|dz|ec|ee|eg|eh|er|es|et|eu|fi|fj|fk|fm|fo|fr|ga|gb|gd|ge|gf|gg|gh|gi|gl|gm|gn|gp|gq|gr|\n",
            "                      gs|gt|gu|gw|gy|hk|hm|hn|hr|ht|hu|id|ie|il|im|in|io|iq|ir|is|it|je|jm|jo|jp|ke|kg|kh|ki|km|kn|kp|kr|kw|ky|kz|\n",
            "                      la|lb|lc|li|lk|lr|ls|lt|lu|lv|ly|ma|mc|md|me|mg|mh|mk|ml|mm|mn|mo|mp|mq|mr|ms|mt|mu|mv|mw|mx|my|mz|na|nc|ne|\n",
            "                      nf|ng|ni|nl|no|np|nr|nu|nz|om|pa|pe|pf|pg|ph|pk|pl|pm|pn|pr|ps|pt|pw|py|qa|re|ro|rs|ru|rw|sa|sb|sc|sd|se|sg|\n",
            "                      sh|si|sj|Ja|sk|sl|sm|sn|so|sr|ss|st|su|sv|sx|sy|sz|tc|td|tf|tg|th|tj|tk|tl|tm|tn|to|tp|tr|tt|tv|tw|tz|ua|ug|\n",
            "                      uk|us|uy|uz|va|vc|ve|vg|vi|vn|vu|wf|ws|ye|yt|yu|za|zm|zw)/)(?:[^\\s()<>{}\\[\\]]+|\\([^\\s()]*?\\([^\\s()]+\\)[^\\s()]\n",
            "                      *?\\)|\\([^\\s]+?\\))+(?:\\([^\\s()]*?\\([^\\s()]+\\)[^\\s()]*?\\)|\\([^\\s]+?\\)|[^\\s`!()\\[\\]{};:'\\\".,<>?«»“”‘’])|(?:(?<!@)\n",
            "                      [a-z0-9]+(?:[.\\-][a-z0-9]+)*[.](?:com|net|org|edu|gov|mil|aero|asia|biz|cat|coop|info|int|jobs|mobi|museum|name\n",
            "                      |post|pro|tel|travel|xxx|ac|ad|ae|af|ag|ai|al|am|an|ao|aq|ar|as|at|au|aw|ax|az|ba|bb|bd|be|bf|bg|bh|bi|bj|bm|bn\n",
            "                      |bo|br|bs|bt|bv|bw|by|bz|ca|cc|cd|cf|cg|ch|ci|ck|cl|cm|cn|co|cr|cs|cu|cv|cx|cy|cz|dd|de|dj|dk|dm|do|dz|ec|ee|eg\n",
            "                      |eh|er|es|et|eu|fi|fj|fk|fm|fo|fr|ga|gb|gd|ge|gf|gg|gh|gi|gl|gm|gn|gp|gq|gr|gs|gt|gu|gw|gy|hk|hm|hn|hr|ht|hu|id\n",
            "                      |ie|il|im|in|io|iq|ir|is|it|je|jm|jo|jp|ke|kg|kh|ki|km|kn|kp|kr|kw|ky|kz|la|lb|lc|li|lk|lr|ls|lt|lu|lv|ly|ma|mc|\n",
            "                      md|me|mg|mh|mk|ml|mm|mn|mo|mp|mq|mr|ms|mt|mu|mv|mw|mx|my|mz|na|nc|ne|nf|ng|ni|nl|no|np|nr|nu|nz|om|pa|pe|pf|pg|\n",
            "                      ph|pk|pl|pm|pn|pr|ps|pt|pw|py|qa|re|ro|rs|ru|rw|sa|sb|sc|sd|se|sg|sh|si|sj|Ja|sk|sl|sm|sn|so|sr|ss|st|su|sv|sx|\n",
            "                      sy|sz|tc|td|tf|tg|th|tj|tk|tl|tm|tn|to|tp|tr|tt|tv|tw|tz|ua|ug|uk|us|uy|uz|va|vc|ve|vg|vi|vn|vu|wf|ws|ye|yt|yu|\n",
            "                      za|zm|zw)\\b/?(?!@)))\"\"\"\n",
            "    URL_PATTERN = re.compile(URL_PATTERN_STR, re.IGNORECASE)\n",
            "    HASHTAG_PATTERN = re.compile(r'#\\w*')\n",
            "    MENTION_PATTERN = re.compile(r'@\\w*')\n",
            "    RESERVED_WORDS_PATTERN = re.compile(r'^(RT|FAV)')\n",
            "\n",
            "    try:\n",
            "        # UCS-4\n",
            "        EMOJIS_PATTERN = re.compile(u'([\\U00002600-\\U000027BF])|([\\U0001f300-\\U0001f64F])|([\\U0001f680-\\U0001f6FF])')\n",
            "    except re.error:\n",
            "        # UCS-2\n",
            "        EMOJIS_PATTERN = re.compile(u'([\\u2600-\\u27BF])|([\\uD83C][\\uDF00-\\uDFFF])|([\\uD83D][\\uDC00-\\uDE4F])|([\\uD83D][\\uDE80-\\uDEFF])')\n",
            "\n",
            "    SMILEYS_PATTERN = re.compile(r\"(\\s?:X|:|;|=)(?:-)?(?:\\)+|\\(|O|D|P|S|\\\\|\\/\\s){1,}\", re.IGNORECASE)\n",
            "    NUMBERS_PATTERN = re.compile(r\"(^|\\s)(-?\\d+([.,]?\\d+)*)\")\n",
            "\n"
          ]
        },
        {
          "output_type": "execute_result",
          "data": {
            "text/plain": [
              "\" opts = {\\n    'URL': 'urls',\\n    'MENTION': 'mentions',\\n    'HASHTAG': 'hashtags',\\n    'RESERVED': 'reserved_words',\\n    'EMOJI': 'emojis',\\n    'SMILEY': 'smileys',\\n    'NUMBER':  'numbers',\\n    'ESCAPE_CHAR': 'escape_chars'\\n} \""
            ],
            "application/vnd.google.colaboratory.intrinsic+json": {
              "type": "string"
            }
          },
          "metadata": {},
          "execution_count": 8
        }
      ],
      "source": [
        "#print(inspect.getsource(preprocessor.preprocess))\n",
        "print(inspect.getsource(preprocessor.defines.Patterns))\n",
        "#print(inspect.getsource(preprocessor.defines))\n",
        "#print(inspect.getsource(preprocessor.clean))\n",
        "''' opts = {\n",
        "    'URL': 'urls',\n",
        "    'MENTION': 'mentions',\n",
        "    'HASHTAG': 'hashtags',\n",
        "    'RESERVED': 'reserved_words',\n",
        "    'EMOJI': 'emojis',\n",
        "    'SMILEY': 'smileys',\n",
        "    'NUMBER':  'numbers',\n",
        "    'ESCAPE_CHAR': 'escape_chars'\n",
        "} '''"
      ]
    },
    {
      "cell_type": "code",
      "execution_count": 9,
      "metadata": {
        "colab": {
          "base_uri": "https://localhost:8080/",
          "height": 582
        },
        "id": "3F1Iv2S8_gm8",
        "outputId": "435834d0-562e-44f9-a62d-b11a5a108047"
      },
      "outputs": [
        {
          "output_type": "execute_result",
          "data": {
            "text/plain": [
              "             tweet_id airline_sentiment  airline_sentiment_confidence  \\\n",
              "0  570306133677760513           neutral                        1.0000   \n",
              "1  570301130888122368          positive                        0.3486   \n",
              "2  570301083672813571           neutral                        0.6837   \n",
              "3  570301031407624196          negative                        1.0000   \n",
              "4  570300817074462722          negative                        1.0000   \n",
              "\n",
              "  negativereason  negativereason_confidence         airline  \\\n",
              "0            NaN                        NaN  Virgin America   \n",
              "1            NaN                     0.0000  Virgin America   \n",
              "2            NaN                        NaN  Virgin America   \n",
              "3     Bad Flight                     0.7033  Virgin America   \n",
              "4     Can't Tell                     1.0000  Virgin America   \n",
              "\n",
              "  airline_sentiment_gold        name negativereason_gold  retweet_count  \\\n",
              "0                    NaN     cairdin                 NaN              0   \n",
              "1                    NaN    jnardino                 NaN              0   \n",
              "2                    NaN  yvonnalynn                 NaN              0   \n",
              "3                    NaN    jnardino                 NaN              0   \n",
              "4                    NaN    jnardino                 NaN              0   \n",
              "\n",
              "                                                text tweet_coord  \\\n",
              "0                @VirginAmerica What @dhepburn said.         NaN   \n",
              "1  @VirginAmerica plus you've added commercials t...         NaN   \n",
              "2  @VirginAmerica I didn't today... Must mean I n...         NaN   \n",
              "3  @VirginAmerica it's really aggressive to blast...         NaN   \n",
              "4  @VirginAmerica and it's a really big bad thing...         NaN   \n",
              "\n",
              "               tweet_created tweet_location               user_timezone  \\\n",
              "0  2015-02-24 11:35:52 -0800            NaN  Eastern Time (US & Canada)   \n",
              "1  2015-02-24 11:15:59 -0800            NaN  Pacific Time (US & Canada)   \n",
              "2  2015-02-24 11:15:48 -0800      Lets Play  Central Time (US & Canada)   \n",
              "3  2015-02-24 11:15:36 -0800            NaN  Pacific Time (US & Canada)   \n",
              "4  2015-02-24 11:14:45 -0800            NaN  Pacific Time (US & Canada)   \n",
              "\n",
              "                                                prep  \n",
              "0                                         What said.  \n",
              "1  plus you've added commercials to the experienc...  \n",
              "2  I didn't today... Must mean I need to take ano...  \n",
              "3  it's really aggressive to blast obnoxious \"ent...  \n",
              "4           and it's a really big bad thing about it  "
            ],
            "text/html": [
              "\n",
              "  <div id=\"df-bef70442-6435-46e8-abc2-d7d6267f9f1a\">\n",
              "    <div class=\"colab-df-container\">\n",
              "      <div>\n",
              "<style scoped>\n",
              "    .dataframe tbody tr th:only-of-type {\n",
              "        vertical-align: middle;\n",
              "    }\n",
              "\n",
              "    .dataframe tbody tr th {\n",
              "        vertical-align: top;\n",
              "    }\n",
              "\n",
              "    .dataframe thead th {\n",
              "        text-align: right;\n",
              "    }\n",
              "</style>\n",
              "<table border=\"1\" class=\"dataframe\">\n",
              "  <thead>\n",
              "    <tr style=\"text-align: right;\">\n",
              "      <th></th>\n",
              "      <th>tweet_id</th>\n",
              "      <th>airline_sentiment</th>\n",
              "      <th>airline_sentiment_confidence</th>\n",
              "      <th>negativereason</th>\n",
              "      <th>negativereason_confidence</th>\n",
              "      <th>airline</th>\n",
              "      <th>airline_sentiment_gold</th>\n",
              "      <th>name</th>\n",
              "      <th>negativereason_gold</th>\n",
              "      <th>retweet_count</th>\n",
              "      <th>text</th>\n",
              "      <th>tweet_coord</th>\n",
              "      <th>tweet_created</th>\n",
              "      <th>tweet_location</th>\n",
              "      <th>user_timezone</th>\n",
              "      <th>prep</th>\n",
              "    </tr>\n",
              "  </thead>\n",
              "  <tbody>\n",
              "    <tr>\n",
              "      <th>0</th>\n",
              "      <td>570306133677760513</td>\n",
              "      <td>neutral</td>\n",
              "      <td>1.0000</td>\n",
              "      <td>NaN</td>\n",
              "      <td>NaN</td>\n",
              "      <td>Virgin America</td>\n",
              "      <td>NaN</td>\n",
              "      <td>cairdin</td>\n",
              "      <td>NaN</td>\n",
              "      <td>0</td>\n",
              "      <td>@VirginAmerica What @dhepburn said.</td>\n",
              "      <td>NaN</td>\n",
              "      <td>2015-02-24 11:35:52 -0800</td>\n",
              "      <td>NaN</td>\n",
              "      <td>Eastern Time (US &amp; Canada)</td>\n",
              "      <td>What said.</td>\n",
              "    </tr>\n",
              "    <tr>\n",
              "      <th>1</th>\n",
              "      <td>570301130888122368</td>\n",
              "      <td>positive</td>\n",
              "      <td>0.3486</td>\n",
              "      <td>NaN</td>\n",
              "      <td>0.0000</td>\n",
              "      <td>Virgin America</td>\n",
              "      <td>NaN</td>\n",
              "      <td>jnardino</td>\n",
              "      <td>NaN</td>\n",
              "      <td>0</td>\n",
              "      <td>@VirginAmerica plus you've added commercials t...</td>\n",
              "      <td>NaN</td>\n",
              "      <td>2015-02-24 11:15:59 -0800</td>\n",
              "      <td>NaN</td>\n",
              "      <td>Pacific Time (US &amp; Canada)</td>\n",
              "      <td>plus you've added commercials to the experienc...</td>\n",
              "    </tr>\n",
              "    <tr>\n",
              "      <th>2</th>\n",
              "      <td>570301083672813571</td>\n",
              "      <td>neutral</td>\n",
              "      <td>0.6837</td>\n",
              "      <td>NaN</td>\n",
              "      <td>NaN</td>\n",
              "      <td>Virgin America</td>\n",
              "      <td>NaN</td>\n",
              "      <td>yvonnalynn</td>\n",
              "      <td>NaN</td>\n",
              "      <td>0</td>\n",
              "      <td>@VirginAmerica I didn't today... Must mean I n...</td>\n",
              "      <td>NaN</td>\n",
              "      <td>2015-02-24 11:15:48 -0800</td>\n",
              "      <td>Lets Play</td>\n",
              "      <td>Central Time (US &amp; Canada)</td>\n",
              "      <td>I didn't today... Must mean I need to take ano...</td>\n",
              "    </tr>\n",
              "    <tr>\n",
              "      <th>3</th>\n",
              "      <td>570301031407624196</td>\n",
              "      <td>negative</td>\n",
              "      <td>1.0000</td>\n",
              "      <td>Bad Flight</td>\n",
              "      <td>0.7033</td>\n",
              "      <td>Virgin America</td>\n",
              "      <td>NaN</td>\n",
              "      <td>jnardino</td>\n",
              "      <td>NaN</td>\n",
              "      <td>0</td>\n",
              "      <td>@VirginAmerica it's really aggressive to blast...</td>\n",
              "      <td>NaN</td>\n",
              "      <td>2015-02-24 11:15:36 -0800</td>\n",
              "      <td>NaN</td>\n",
              "      <td>Pacific Time (US &amp; Canada)</td>\n",
              "      <td>it's really aggressive to blast obnoxious \"ent...</td>\n",
              "    </tr>\n",
              "    <tr>\n",
              "      <th>4</th>\n",
              "      <td>570300817074462722</td>\n",
              "      <td>negative</td>\n",
              "      <td>1.0000</td>\n",
              "      <td>Can't Tell</td>\n",
              "      <td>1.0000</td>\n",
              "      <td>Virgin America</td>\n",
              "      <td>NaN</td>\n",
              "      <td>jnardino</td>\n",
              "      <td>NaN</td>\n",
              "      <td>0</td>\n",
              "      <td>@VirginAmerica and it's a really big bad thing...</td>\n",
              "      <td>NaN</td>\n",
              "      <td>2015-02-24 11:14:45 -0800</td>\n",
              "      <td>NaN</td>\n",
              "      <td>Pacific Time (US &amp; Canada)</td>\n",
              "      <td>and it's a really big bad thing about it</td>\n",
              "    </tr>\n",
              "  </tbody>\n",
              "</table>\n",
              "</div>\n",
              "      <button class=\"colab-df-convert\" onclick=\"convertToInteractive('df-bef70442-6435-46e8-abc2-d7d6267f9f1a')\"\n",
              "              title=\"Convert this dataframe to an interactive table.\"\n",
              "              style=\"display:none;\">\n",
              "        \n",
              "  <svg xmlns=\"http://www.w3.org/2000/svg\" height=\"24px\"viewBox=\"0 0 24 24\"\n",
              "       width=\"24px\">\n",
              "    <path d=\"M0 0h24v24H0V0z\" fill=\"none\"/>\n",
              "    <path d=\"M18.56 5.44l.94 2.06.94-2.06 2.06-.94-2.06-.94-.94-2.06-.94 2.06-2.06.94zm-11 1L8.5 8.5l.94-2.06 2.06-.94-2.06-.94L8.5 2.5l-.94 2.06-2.06.94zm10 10l.94 2.06.94-2.06 2.06-.94-2.06-.94-.94-2.06-.94 2.06-2.06.94z\"/><path d=\"M17.41 7.96l-1.37-1.37c-.4-.4-.92-.59-1.43-.59-.52 0-1.04.2-1.43.59L10.3 9.45l-7.72 7.72c-.78.78-.78 2.05 0 2.83L4 21.41c.39.39.9.59 1.41.59.51 0 1.02-.2 1.41-.59l7.78-7.78 2.81-2.81c.8-.78.8-2.07 0-2.86zM5.41 20L4 18.59l7.72-7.72 1.47 1.35L5.41 20z\"/>\n",
              "  </svg>\n",
              "      </button>\n",
              "      \n",
              "  <style>\n",
              "    .colab-df-container {\n",
              "      display:flex;\n",
              "      flex-wrap:wrap;\n",
              "      gap: 12px;\n",
              "    }\n",
              "\n",
              "    .colab-df-convert {\n",
              "      background-color: #E8F0FE;\n",
              "      border: none;\n",
              "      border-radius: 50%;\n",
              "      cursor: pointer;\n",
              "      display: none;\n",
              "      fill: #1967D2;\n",
              "      height: 32px;\n",
              "      padding: 0 0 0 0;\n",
              "      width: 32px;\n",
              "    }\n",
              "\n",
              "    .colab-df-convert:hover {\n",
              "      background-color: #E2EBFA;\n",
              "      box-shadow: 0px 1px 2px rgba(60, 64, 67, 0.3), 0px 1px 3px 1px rgba(60, 64, 67, 0.15);\n",
              "      fill: #174EA6;\n",
              "    }\n",
              "\n",
              "    [theme=dark] .colab-df-convert {\n",
              "      background-color: #3B4455;\n",
              "      fill: #D2E3FC;\n",
              "    }\n",
              "\n",
              "    [theme=dark] .colab-df-convert:hover {\n",
              "      background-color: #434B5C;\n",
              "      box-shadow: 0px 1px 3px 1px rgba(0, 0, 0, 0.15);\n",
              "      filter: drop-shadow(0px 1px 2px rgba(0, 0, 0, 0.3));\n",
              "      fill: #FFFFFF;\n",
              "    }\n",
              "  </style>\n",
              "\n",
              "      <script>\n",
              "        const buttonEl =\n",
              "          document.querySelector('#df-bef70442-6435-46e8-abc2-d7d6267f9f1a button.colab-df-convert');\n",
              "        buttonEl.style.display =\n",
              "          google.colab.kernel.accessAllowed ? 'block' : 'none';\n",
              "\n",
              "        async function convertToInteractive(key) {\n",
              "          const element = document.querySelector('#df-bef70442-6435-46e8-abc2-d7d6267f9f1a');\n",
              "          const dataTable =\n",
              "            await google.colab.kernel.invokeFunction('convertToInteractive',\n",
              "                                                     [key], {});\n",
              "          if (!dataTable) return;\n",
              "\n",
              "          const docLinkHtml = 'Like what you see? Visit the ' +\n",
              "            '<a target=\"_blank\" href=https://colab.research.google.com/notebooks/data_table.ipynb>data table notebook</a>'\n",
              "            + ' to learn more about interactive tables.';\n",
              "          element.innerHTML = '';\n",
              "          dataTable['output_type'] = 'display_data';\n",
              "          await google.colab.output.renderOutput(dataTable, element);\n",
              "          const docLink = document.createElement('div');\n",
              "          docLink.innerHTML = docLinkHtml;\n",
              "          element.appendChild(docLink);\n",
              "        }\n",
              "      </script>\n",
              "    </div>\n",
              "  </div>\n",
              "  "
            ]
          },
          "metadata": {},
          "execution_count": 9
        }
      ],
      "source": [
        "df.head()"
      ]
    },
    {
      "cell_type": "markdown",
      "metadata": {
        "id": "TXU2mRjO_gm8"
      },
      "source": [
        "## 2. Sentiment analysis with NLP packages"
      ]
    },
    {
      "cell_type": "markdown",
      "metadata": {
        "id": "r459GMLI_gm8"
      },
      "source": [
        "### 2.1. Textblob"
      ]
    },
    {
      "cell_type": "markdown",
      "metadata": {
        "id": "FB1Q2Bl6_gm9"
      },
      "source": [
        "Textblob provides two values: polarity and subjectivity. Here, we will use only polarity."
      ]
    },
    {
      "cell_type": "code",
      "execution_count": 10,
      "metadata": {
        "id": "LVJroWZF_gm9"
      },
      "outputs": [],
      "source": [
        "df['sentiment_tb'] = df['prep'].apply(lambda tweet: TextBlob(tweet).sentiment.polarity)"
      ]
    },
    {
      "cell_type": "code",
      "execution_count": 11,
      "metadata": {
        "colab": {
          "base_uri": "https://localhost:8080/"
        },
        "id": "nFqqfaPS_gm9",
        "outputId": "944aa9dd-67b7-4f75-ae0f-9f31e3466c84"
      },
      "outputs": [
        {
          "output_type": "execute_result",
          "data": {
            "text/plain": [
              "count    14640.000000\n",
              "mean         0.053555\n",
              "std          0.320756\n",
              "min         -1.000000\n",
              "25%          0.000000\n",
              "50%          0.000000\n",
              "75%          0.200000\n",
              "max          1.000000\n",
              "Name: sentiment_tb, dtype: float64"
            ]
          },
          "metadata": {},
          "execution_count": 11
        }
      ],
      "source": [
        "df['sentiment_tb'].describe()"
      ]
    },
    {
      "cell_type": "code",
      "execution_count": 12,
      "metadata": {
        "id": "6_zTxFZA_gm9"
      },
      "outputs": [],
      "source": [
        "df['sentiment_tb_desc']=df['sentiment_tb'].apply(lambda x: 'positive' if x>0.5 else ('negative' if x < -0.5 else 'neutral'))"
      ]
    },
    {
      "cell_type": "code",
      "execution_count": 13,
      "metadata": {
        "colab": {
          "base_uri": "https://localhost:8080/"
        },
        "id": "tWhGq0EC_gm-",
        "outputId": "c1fed84b-bd5a-4d9c-e088-1b09aa72d27f"
      },
      "outputs": [
        {
          "output_type": "stream",
          "name": "stdout",
          "text": [
            "              precision    recall  f1-score   support\n",
            "\n",
            "    negative       0.95      0.06      0.11      9178\n",
            "     neutral       0.22      0.94      0.36      3099\n",
            "    positive       0.55      0.24      0.34      2363\n",
            "\n",
            "    accuracy                           0.27     14640\n",
            "   macro avg       0.57      0.41      0.27     14640\n",
            "weighted avg       0.73      0.27      0.20     14640\n",
            "\n"
          ]
        }
      ],
      "source": [
        "print(classification_report(df['airline_sentiment'], df['sentiment_tb_desc']))"
      ]
    },
    {
      "cell_type": "markdown",
      "metadata": {
        "id": "mFpPHYv5_gm-"
      },
      "source": [
        "Accuracy of 27% is quite low with 33% random accuracy. It seems that it comes from badly classifying the 'negative' class which contains the majority of cases."
      ]
    },
    {
      "cell_type": "code",
      "execution_count": 14,
      "metadata": {
        "colab": {
          "base_uri": "https://localhost:8080/",
          "height": 523
        },
        "id": "UrSDc9UI_gm-",
        "outputId": "d0d99ddc-7b44-4053-b14d-4ceede7cdaa0"
      },
      "outputs": [
        {
          "output_type": "stream",
          "name": "stderr",
          "text": [
            "/usr/local/lib/python3.7/dist-packages/seaborn/distributions.py:2619: FutureWarning: `distplot` is a deprecated function and will be removed in a future version. Please adapt your code to use either `displot` (a figure-level function with similar flexibility) or `histplot` (an axes-level function for histograms).\n",
            "  warnings.warn(msg, FutureWarning)\n",
            "/usr/local/lib/python3.7/dist-packages/seaborn/distributions.py:2619: FutureWarning: `distplot` is a deprecated function and will be removed in a future version. Please adapt your code to use either `displot` (a figure-level function with similar flexibility) or `histplot` (an axes-level function for histograms).\n",
            "  warnings.warn(msg, FutureWarning)\n",
            "/usr/local/lib/python3.7/dist-packages/seaborn/distributions.py:2619: FutureWarning: `distplot` is a deprecated function and will be removed in a future version. Please adapt your code to use either `displot` (a figure-level function with similar flexibility) or `histplot` (an axes-level function for histograms).\n",
            "  warnings.warn(msg, FutureWarning)\n"
          ]
        },
        {
          "output_type": "execute_result",
          "data": {
            "text/plain": [
              "<matplotlib.axes._subplots.AxesSubplot at 0x7efd2a7fec10>"
            ]
          },
          "metadata": {},
          "execution_count": 14
        },
        {
          "output_type": "display_data",
          "data": {
            "text/plain": [
              "<Figure size 1000x400 with 3 Axes>"
            ],
            "image/png": "[encoded data removed]"
          },
          "metadata": {
            "needs_background": "light"
          }
        }
      ],
      "source": [
        "# Distribution of the textblob values for different true setiment classes\n",
        "fig, axes = plt.subplots(1, 3, figsize=(10, 4), sharey=True, dpi=100)\n",
        "distplot(df.loc[df.airline_sentiment=='positive', \"sentiment_tb\"]  , color=\"green\", ax=axes[0], axlabel='positive')\n",
        "distplot(df.loc[df.airline_sentiment=='negative', \"sentiment_tb\"] , color=\"red\", ax=axes[1], axlabel='negative')\n",
        "distplot(df.loc[df.airline_sentiment=='neutral', \"sentiment_tb\"] , color=\"gold\", ax=axes[2], axlabel='neutral')"
      ]
    },
    {
      "cell_type": "markdown",
      "metadata": {
        "id": "zoNwVLjZ_gm_"
      },
      "source": [
        "'Positive' is well represented as there values are mostly greater than zero. 'Neutral' is also well represented as the values there peak at zero. 'Negative' is badly represented as it is not distributed in the negative values, but everywhere. This confirms the results from the classification report."
      ]
    },
    {
      "cell_type": "markdown",
      "metadata": {
        "id": "D3XdbIpN_gm_"
      },
      "source": [
        "## 2.2. Sentiment analysis with VADER"
      ]
    },
    {
      "cell_type": "markdown",
      "metadata": {
        "id": "NX2Y3EFS_gm_"
      },
      "source": [
        "VADER produces four values: negative, neutral, positive and compound. Compound is a combined score of negative and positive."
      ]
    },
    {
      "cell_type": "code",
      "execution_count": 15,
      "metadata": {
        "id": "dk5VoNBP_gm_"
      },
      "outputs": [],
      "source": [
        "# Initialise method\n",
        "sid = SentimentIntensityAnalyzer()"
      ]
    },
    {
      "cell_type": "code",
      "execution_count": 16,
      "metadata": {
        "colab": {
          "base_uri": "https://localhost:8080/"
        },
        "id": "G4HXgh3p62il",
        "outputId": "2d190776-10b4-42b6-a3c9-2a31fd9cee61"
      },
      "outputs": [
        {
          "output_type": "execute_result",
          "data": {
            "text/plain": [
              "{'compound': 0.4215, 'neg': 0.0, 'neu': 0.0, 'pos': 1.0}"
            ]
          },
          "metadata": {},
          "execution_count": 16
        }
      ],
      "source": [
        "sid.polarity_scores('nice')"
      ]
    },
    {
      "cell_type": "code",
      "execution_count": 17,
      "metadata": {
        "id": "5En3g4a3_gnA"
      },
      "outputs": [],
      "source": [
        "df['sentiment_vd'] = df['prep'].apply(lambda tweet: sid.polarity_scores(tweet)['compound'])"
      ]
    },
    {
      "cell_type": "code",
      "execution_count": 18,
      "metadata": {
        "colab": {
          "base_uri": "https://localhost:8080/"
        },
        "id": "yWabMTS2_gnA",
        "outputId": "823bf1b5-3c63-4343-c77a-e156eb381132"
      },
      "outputs": [
        {
          "output_type": "execute_result",
          "data": {
            "text/plain": [
              "count    14640.000000\n",
              "mean         0.050903\n",
              "std          0.452819\n",
              "min         -0.966800\n",
              "25%         -0.296000\n",
              "50%          0.000000\n",
              "75%          0.421500\n",
              "max          0.976000\n",
              "Name: sentiment_vd, dtype: float64"
            ]
          },
          "metadata": {},
          "execution_count": 18
        }
      ],
      "source": [
        "df['sentiment_vd'].describe()"
      ]
    },
    {
      "cell_type": "code",
      "execution_count": 19,
      "metadata": {
        "id": "Go9AS_eE_gnA"
      },
      "outputs": [],
      "source": [
        "df['sentiment_vd_desc']=df['sentiment_vd'].apply(lambda x: 'positive' if x>0.5 else ('negative' if x < -0.5 else 'neutral'))"
      ]
    },
    {
      "cell_type": "code",
      "execution_count": 20,
      "metadata": {
        "colab": {
          "base_uri": "https://localhost:8080/"
        },
        "id": "i6k8yat5_gnA",
        "outputId": "825c46a4-3503-47f0-9a76-3184a730fc6f",
        "scrolled": true
      },
      "outputs": [
        {
          "output_type": "stream",
          "name": "stdout",
          "text": [
            "              precision    recall  f1-score   support\n",
            "\n",
            "    negative       0.95      0.21      0.34      9178\n",
            "     neutral       0.26      0.81      0.39      3099\n",
            "    positive       0.49      0.57      0.53      2363\n",
            "\n",
            "    accuracy                           0.40     14640\n",
            "   macro avg       0.56      0.53      0.42     14640\n",
            "weighted avg       0.73      0.40      0.38     14640\n",
            "\n"
          ]
        }
      ],
      "source": [
        "print(classification_report(df['airline_sentiment'], df['sentiment_vd_desc']))"
      ]
    },
    {
      "cell_type": "markdown",
      "metadata": {
        "id": "ThaoD5Oq_gnA"
      },
      "source": [
        "Better than textblob, but still not so gut for 'negative' and 'neutral'-> change 0.5 as a threshold."
      ]
    },
    {
      "cell_type": "code",
      "execution_count": 21,
      "metadata": {
        "colab": {
          "base_uri": "https://localhost:8080/",
          "height": 523
        },
        "id": "CObsznrl_gnB",
        "outputId": "9241a5ac-eb96-43e1-ad44-6e0eb960bd0a"
      },
      "outputs": [
        {
          "output_type": "stream",
          "name": "stderr",
          "text": [
            "/usr/local/lib/python3.7/dist-packages/seaborn/distributions.py:2619: FutureWarning: `distplot` is a deprecated function and will be removed in a future version. Please adapt your code to use either `displot` (a figure-level function with similar flexibility) or `histplot` (an axes-level function for histograms).\n",
            "  warnings.warn(msg, FutureWarning)\n",
            "/usr/local/lib/python3.7/dist-packages/seaborn/distributions.py:2619: FutureWarning: `distplot` is a deprecated function and will be removed in a future version. Please adapt your code to use either `displot` (a figure-level function with similar flexibility) or `histplot` (an axes-level function for histograms).\n",
            "  warnings.warn(msg, FutureWarning)\n",
            "/usr/local/lib/python3.7/dist-packages/seaborn/distributions.py:2619: FutureWarning: `distplot` is a deprecated function and will be removed in a future version. Please adapt your code to use either `displot` (a figure-level function with similar flexibility) or `histplot` (an axes-level function for histograms).\n",
            "  warnings.warn(msg, FutureWarning)\n"
          ]
        },
        {
          "output_type": "execute_result",
          "data": {
            "text/plain": [
              "<matplotlib.axes._subplots.AxesSubplot at 0x7efd2a9da750>"
            ]
          },
          "metadata": {},
          "execution_count": 21
        },
        {
          "output_type": "display_data",
          "data": {
            "text/plain": [
              "<Figure size 1000x400 with 3 Axes>"
            ],
            "image/png": "[encoded data removed]"
          },
          "metadata": {
            "needs_background": "light"
          }
        }
      ],
      "source": [
        "# Distribution of the textblob values for different true setiment classes\n",
        "fig, axes = plt.subplots(1, 3, figsize=(10, 4), sharey=True, dpi=100)\n",
        "distplot(df.loc[df.airline_sentiment=='positive', \"sentiment_vd\"]  , color=\"green\", ax=axes[0], axlabel='positive')\n",
        "distplot(df.loc[df.airline_sentiment=='negative', \"sentiment_vd\"] , color=\"red\", ax=axes[1], axlabel='negative')\n",
        "distplot(df.loc[df.airline_sentiment=='neutral', \"sentiment_vd\"] , color=\"gold\", ax=axes[2], axlabel='neutral')"
      ]
    },
    {
      "cell_type": "markdown",
      "metadata": {
        "id": "NFOtMHO0_gnB"
      },
      "source": [
        "Confirms classification report."
      ]
    },
    {
      "cell_type": "markdown",
      "metadata": {
        "id": "MatAm3h0_gnB"
      },
      "source": [
        "# 3. Supervised sentiment classifier"
      ]
    },
    {
      "cell_type": "markdown",
      "metadata": {
        "id": "0tAVbOpT_gnB"
      },
      "source": [
        "Can we do better than Vader and Textblob by training a supervised model based on the 'airline_sentiment' column? In the following we will use a bag-of-words documnet representation in combination with a random forest classifier."
      ]
    },
    {
      "cell_type": "code",
      "execution_count": 22,
      "metadata": {
        "id": "bUS3KkU3_gnC"
      },
      "outputs": [],
      "source": [
        "# Initialise the transformer\n",
        "vec=TfidfVectorizer(max_df=0.99, min_df=0.01, stop_words='english')\n",
        "\n",
        "# Apply it to the training data\n",
        "tf=vec.fit_transform(df.prep)"
      ]
    },
    {
      "cell_type": "code",
      "execution_count": 23,
      "metadata": {
        "id": "alalmAbH_gnC"
      },
      "outputs": [],
      "source": [
        "# Split data into training and test sets\n",
        "docs_train, docs_test, y_train, y_test = train_test_split(tf, df.airline_sentiment, \n",
        "                                                          test_size = 0.20, random_state = 12)"
      ]
    },
    {
      "cell_type": "code",
      "execution_count": 24,
      "metadata": {
        "id": "wmQ3Yfc0_gnD"
      },
      "outputs": [],
      "source": [
        "# Parameter grid\n",
        "param_grid = {\n",
        "    'min_samples_leaf': [2, 3, 4, 5],\n",
        "    'n_estimators': [10,50,100, 200, 300, 1000]\n",
        "}"
      ]
    },
    {
      "cell_type": "code",
      "execution_count": 25,
      "metadata": {
        "colab": {
          "base_uri": "https://localhost:8080/"
        },
        "id": "qY6sx06L_gnD",
        "outputId": "94f8f14b-2f18-470a-c5fa-b4578df95c68"
      },
      "outputs": [
        {
          "output_type": "execute_result",
          "data": {
            "text/plain": [
              "GridSearchCV(cv=3, estimator=RandomForestClassifier(random_state=42),\n",
              "             param_grid={'min_samples_leaf': [2, 3, 4, 5],\n",
              "                         'n_estimators': [10, 50, 100, 200, 300, 1000]})"
            ]
          },
          "metadata": {},
          "execution_count": 25
        }
      ],
      "source": [
        "# Create a based model\n",
        "rf = RandomForestClassifier(random_state = 42)# Instantiate the grid search model\n",
        "grid_search = GridSearchCV(estimator = rf, param_grid = param_grid, cv = 3)\n",
        "grid_search.fit(docs_train, y_train)"
      ]
    },
    {
      "cell_type": "code",
      "execution_count": 26,
      "metadata": {
        "colab": {
          "base_uri": "https://localhost:8080/"
        },
        "id": "ktDiq6Vn_gnD",
        "outputId": "e729ce07-4f5f-4e44-aa55-76c60a0853ad"
      },
      "outputs": [
        {
          "output_type": "stream",
          "name": "stdout",
          "text": [
            "              precision    recall  f1-score   support\n",
            "\n",
            "    negative       0.78      0.87      0.82      1876\n",
            "     neutral       0.49      0.42      0.45       569\n",
            "    positive       0.71      0.51      0.59       483\n",
            "\n",
            "    accuracy                           0.72      2928\n",
            "   macro avg       0.66      0.60      0.62      2928\n",
            "weighted avg       0.71      0.72      0.71      2928\n",
            "\n"
          ]
        }
      ],
      "source": [
        "best_grid = grid_search.best_estimator_\n",
        "y_pred = best_grid.predict(docs_test)\n",
        "print(classification_report(y_test, y_pred))"
      ]
    },
    {
      "cell_type": "markdown",
      "metadata": {
        "id": "MDZFqeD8_gnD"
      },
      "source": [
        "The model greatly outperforms the results from the sentiment packages. As opposed to them it shows the best performance on the 'negative' class (due to data imbalancing)."
      ]
    },
    {
      "cell_type": "markdown",
      "metadata": {
        "id": "JZmMMTe3_gnE"
      },
      "source": [
        "# 4. Unsupervised sentiment classifier"
      ]
    },
    {
      "cell_type": "markdown",
      "metadata": {
        "id": "SmnCGTgu_gnE"
      },
      "source": [
        "We will use a tf-idf k-means clustering approach here."
      ]
    },
    {
      "cell_type": "code",
      "execution_count": 27,
      "metadata": {
        "colab": {
          "base_uri": "https://localhost:8080/"
        },
        "id": "SlvscUrw_gnE",
        "outputId": "ff0ecdf0-3589-493a-a35e-e4c1a4c9eaba"
      },
      "outputs": [
        {
          "output_type": "stream",
          "name": "stdout",
          "text": [
            "0 : flight, cancelled, flightled, delayed, late, hours, time, help, just, flighted\n",
            "1 : thank, service, just, customer, help, flights, time, plane, amp, hold\n",
            "2 : thanks, flight, just, great, service, help, got, response, guys, time\n"
          ]
        },
        {
          "output_type": "stream",
          "name": "stderr",
          "text": [
            "/usr/local/lib/python3.7/dist-packages/sklearn/utils/deprecation.py:87: FutureWarning: Function get_feature_names is deprecated; get_feature_names is deprecated in 1.0 and will be removed in 1.2. Please use get_feature_names_out instead.\n",
            "  warnings.warn(msg, category=FutureWarning)\n"
          ]
        }
      ],
      "source": [
        "#setup kmeans clustering\n",
        "kmeans = KMeans(n_clusters = 3, max_iter = 200, random_state=42)\n",
        "vec=TfidfVectorizer(max_df=0.99, min_df=0.01, stop_words='english')\n",
        "kmeans.fit(vec.fit_transform(df['prep']))\n",
        "words = vec.get_feature_names()\n",
        "common_words = kmeans.cluster_centers_.argsort()[:,-1:-11:-1]\n",
        "for num, centroid in enumerate(common_words):\n",
        "    print(str(num) + ' : ' + ', '.join(words[word] for word in centroid))"
      ]
    },
    {
      "cell_type": "markdown",
      "metadata": {
        "id": "RE8hxlCR_gnE"
      },
      "source": [
        "Cluster 2 seems to be negative, cluster 1 positive and cluster 0 not clear."
      ]
    },
    {
      "cell_type": "code",
      "execution_count": 28,
      "metadata": {
        "colab": {
          "base_uri": "https://localhost:8080/",
          "height": 617
        },
        "id": "H_TekRW3_gnE",
        "outputId": "0c418485-e3cf-4bfe-fab5-2450b1940ee0"
      },
      "outputs": [
        {
          "output_type": "display_data",
          "data": {
            "text/plain": [
              "<Figure size 1872x1080 with 2 Axes>"
            ],
            "image/png": "[encoded data removed]"
          },
          "metadata": {
            "needs_background": "light"
          }
        }
      ],
      "source": [
        "df['cluster'] = kmeans.labels_\n",
        "clusters = df.groupby(['cluster', 'airline_sentiment']).size()\n",
        "\n",
        "fig, ax1 = plt.subplots(figsize = (26, 15))\n",
        "heatmap(clusters.unstack(level = 'airline_sentiment'), ax = ax1, cmap = 'Reds')\n",
        "\n",
        "ax1.set_xlabel('airline_sentiment').set_size(18)\n",
        "ax1.set_ylabel('cluster').set_size(18)"
      ]
    },
    {
      "cell_type": "markdown",
      "metadata": {
        "id": "N4BBpSzx_gnF"
      },
      "source": [
        "Not really clear and not much in accordance with the cluster centers, may be for the positive one."
      ]
    },
    {
      "cell_type": "code",
      "execution_count": 29,
      "metadata": {
        "id": "ICO8AkzK_gnF"
      },
      "outputs": [],
      "source": [
        "df['kmeans']=df['cluster'].apply(lambda x: 'negative' if x==2 else ('positive' if x==1 else 'neutral'))"
      ]
    },
    {
      "cell_type": "code",
      "execution_count": 30,
      "metadata": {
        "colab": {
          "base_uri": "https://localhost:8080/"
        },
        "id": "8LBYNt32_gnF",
        "outputId": "ed888011-a37e-4b1b-a949-4c293b5740fa"
      },
      "outputs": [
        {
          "output_type": "stream",
          "name": "stdout",
          "text": [
            "              precision    recall  f1-score   support\n",
            "\n",
            "    negative       0.26      0.03      0.05      9178\n",
            "     neutral       0.16      0.16      0.16      3099\n",
            "    positive       0.15      0.66      0.24      2363\n",
            "\n",
            "    accuracy                           0.16     14640\n",
            "   macro avg       0.19      0.28      0.15     14640\n",
            "weighted avg       0.22      0.16      0.10     14640\n",
            "\n"
          ]
        }
      ],
      "source": [
        "print(classification_report(df['airline_sentiment'], df['kmeans']))"
      ]
    },
    {
      "cell_type": "markdown",
      "metadata": {
        "id": "wPyaI10Z_gnF"
      },
      "source": [
        "Overall not good performance, similar to textblob. Class neutral has low precision, high recall, the other classes show opposite behaviour."
      ]
    },
    {
      "cell_type": "markdown",
      "metadata": {
        "id": "fUAhhuUVeRcn"
      },
      "source": [
        "## Network Analysis"
      ]
    },
    {
      "cell_type": "code",
      "execution_count": 31,
      "metadata": {
        "id": "CvwsgB1ceTY-"
      },
      "outputs": [],
      "source": [
        "import networkx as nx"
      ]
    },
    {
      "cell_type": "code",
      "execution_count": 32,
      "metadata": {
        "id": "3o6zr1peeUua"
      },
      "outputs": [],
      "source": [
        "G_fb = nx.read_edgelist(TWSM_path + \"data/facebook_combined.txt.gz\", create_using = nx.Graph(), nodetype=int)"
      ]
    },
    {
      "cell_type": "code",
      "execution_count": 33,
      "metadata": {
        "colab": {
          "base_uri": "https://localhost:8080/"
        },
        "id": "yOi4gfEyeq_j",
        "outputId": "d6348465-06c4-4874-a087-ad9773a5c809"
      },
      "outputs": [
        {
          "output_type": "stream",
          "name": "stdout",
          "text": [
            "Graph with 4039 nodes and 88234 edges\n"
          ]
        },
        {
          "output_type": "execute_result",
          "data": {
            "text/plain": [
              "networkx.classes.graph.Graph"
            ]
          },
          "metadata": {},
          "execution_count": 33
        }
      ],
      "source": [
        "print(nx.info(G_fb))\n",
        "G_fb.degree()\n",
        "type(G_fb)"
      ]
    },
    {
      "cell_type": "markdown",
      "metadata": {
        "id": "5k7i8gufex3c"
      },
      "source": [
        "We can visualize the network such that the node color varies with Degree and node size with Betweenness Centrality. The code to do this is:"
      ]
    },
    {
      "cell_type": "code",
      "execution_count": 35,
      "metadata": {
        "id": "v0JZ-96MesMi"
      },
      "outputs": [],
      "source": [
        "import pickle\n",
        "\n",
        "rerun = True\n",
        "if rerun:\n",
        "  pos = nx.spring_layout(G_fb)\n",
        "  betCent = nx.betweenness_centrality(G_fb, normalized=True, endpoints=True)\n",
        "  \n",
        "  with open(TWSM_path + 'data/betCent.pickle', 'wb') as f:\n",
        "    pickle.dump(betCent, f)\n",
        "  with open(TWSM_path + 'data/pos.pickle', 'wb') as f:\n",
        "    pickle.dump(pos, f)\n",
        "else:\n",
        "  with open(TWSM_path + 'data/betCent.pickle') as f:\n",
        "    betCent = pickle.load(f)\n",
        "  with open(TWSM_path + 'data/pos.pickle') as f:\n",
        "    pos = pickle.load(f)\n"
      ]
    },
    {
      "cell_type": "code",
      "source": [
        ""
      ],
      "metadata": {
        "id": "QZAQsrtJUrIi"
      },
      "execution_count": null,
      "outputs": []
    },
    {
      "cell_type": "code",
      "source": [
        "# Calculate in-degrees and store in DataFrame\n",
        "G_fb_degree = pd.DataFrame(list(G_fb.degree()), columns = ['ID', 'deg'])\n",
        "#degree_reply = pd.DataFrame(list(G_reply.in_degree()), columns = column_names)\n",
        "G_fb_degree \n",
        "\n"
      ],
      "metadata": {
        "id": "H9nJbgWu_Ooq"
      },
      "execution_count": null,
      "outputs": []
    },
    {
      "cell_type": "code",
      "source": [
        "column_names = ['ID', 'betweenness_centrality']\n",
        "# Store centralities in data frames\n",
        "rt = pd.DataFrame(list(betCent.items()), columns = column_names)\n",
        "\n",
        "# Print first five results in descending order of centrality\n",
        "print(rt.sort_values('betweenness_centrality', ascending = False).head())"
      ],
      "metadata": {
        "id": "MTRTPP7H9UZ5"
      },
      "execution_count": null,
      "outputs": []
    },
    {
      "cell_type": "code",
      "source": [
        " # Merge the two DataFrames on ID\n",
        " all = G_fb_degree.merge(rt, on = 'ID')\n",
        " print(all.sort_values('betweenness_centrality', ascending = False).head(10))"
      ],
      "metadata": {
        "id": "C1CHhFeS8vK6"
      },
      "execution_count": null,
      "outputs": []
    },
    {
      "cell_type": "code",
      "source": [
        "node_color = [20000.0 * G_fb.degree(v) for v in G_fb]\n",
        "node_size =  [v * 10000 for v in betCent.values()]\n",
        "plt.figure(figsize=(20,20))\n",
        "nx.draw_networkx(G_fb, pos=pos, with_labels=False,\n",
        "                 node_color=node_color,\n",
        "                 node_size=node_size )\n",
        "plt.axis('off')"
      ],
      "metadata": {
        "id": "-DZFVqhbgTKC"
      },
      "execution_count": null,
      "outputs": []
    },
    {
      "cell_type": "markdown",
      "metadata": {
        "id": "GbehC1Mce-VC"
      },
      "source": [
        "You can know the labels of the nodes with the highest betweenness centrality using:\n",
        "\n"
      ]
    },
    {
      "cell_type": "code",
      "execution_count": null,
      "metadata": {
        "id": "sboK0S8ye68H"
      },
      "outputs": [],
      "source": [
        "sorted(betCent, key=betCent.get, reverse=True)[:5]"
      ]
    },
    {
      "cell_type": "code",
      "source": [
        "betCent"
      ],
      "metadata": {
        "id": "H-z5hYTsggu5"
      },
      "execution_count": null,
      "outputs": []
    },
    {
      "cell_type": "markdown",
      "metadata": {
        "id": "dTaLjdE1fNr6"
      },
      "source": [
        "We can see that some nodes are common between Degree Centrality, which is a measure of degree, and Betweenness Centrality which controls the information flow. It is natural that nodes that are more connected also lie on shortest paths between other nodes. The node 1912 is an important node as it is crucial according to all three centrality measures that we had considered."
      ]
    }
  ],
  "metadata": {
    "colab": {
      "collapsed_sections": [],
      "name": "Class_on_Social_Media_networks.ipynb",
      "provenance": [],
      "include_colab_link": true
    },
    "kernelspec": {
      "display_name": "Python 3",
      "language": "python",
      "name": "python3"
    },
    "language_info": {
      "codemirror_mode": {
        "name": "ipython",
        "version": 3
      },
      "file_extension": ".py",
      "mimetype": "text/x-python",
      "name": "python",
      "nbconvert_exporter": "python",
      "pygments_lexer": "ipython3",
      "version": "3.7.4"
    }
  },
  "nbformat": 4,
  "nbformat_minor": 0
}