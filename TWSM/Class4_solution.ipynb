{
  "cells": [
    {
      "cell_type": "markdown",
      "metadata": {
        "id": "view-in-github",
        "colab_type": "text"
      },
      "source": [
        "<a href=\"https://colab.research.google.com/github/markusloecher/DataScience2021/blob/main/TWSM/Class4_solution.ipynb\" target=\"_parent\"><img src=\"https://colab.research.google.com/assets/colab-badge.svg\" alt=\"Open In Colab\"/></a>"
      ]
    },
    {
      "cell_type": "markdown",
      "source": [
        "### Libraries"
      ],
      "metadata": {
        "id": "L0HoGesYBC1E"
      }
    },
    {
      "cell_type": "code",
      "source": [
        "from google.colab import drive\n",
        "#drive.mount('/content/drive')\n",
        "TWSM_path = \"/content/drive/MyDrive/teaching/TWSM/WorkInClass/\"\n",
        "\n",
        "#from TWSM import *\n",
        "from tensorflow import keras\n",
        "#from tensorflow.keras import layers\n",
        "import pandas as pd\n",
        "import numpy as np\n",
        "from scipy.linalg import svd"
      ],
      "metadata": {
        "id": "4k1Km8WrvyWM"
      },
      "execution_count": null,
      "outputs": []
    },
    {
      "cell_type": "markdown",
      "source": [
        "### SVD\n",
        "\n",
        "#### Tasks\n",
        "\n",
        "1. Compute the SVD for our movie rankings and find the first two eigenvectors for movies and users. Note on preprocessing: \n",
        "  * Keep all users with less than 3 missing values and replace those with the mean ranking per user\n",
        "  * Keep all movies with at least 8 rankings\n",
        "2. Compute the SVD for the MNIST data\n",
        "3. Reconstruct the digits with a \"truncated SVD that captures 80% of the variance\"\n"
      ],
      "metadata": {
        "id": "36qQQ1GgBc5b"
      }
    },
    {
      "cell_type": "markdown",
      "source": [
        "**Minimal Example for the SVD**\n",
        "\n",
        "Running this example first prints the defined 3×2 matrix, then the 3×3 U matrix, 2 element Sigma vector, and 2×2 V^T matrix elements calculated from the decomposition."
      ],
      "metadata": {
        "id": "_Xp-PjqRB1x9"
      }
    },
    {
      "cell_type": "code",
      "source": [
        "# Singular-value decomposition\n",
        "import numpy as np\n",
        "from scipy.linalg import svd\n",
        "# define a matrix\n",
        "A = np.array([[1, 2], [3, 4], [5, 6]])\n",
        "print(A)\n",
        "# SVD\n",
        "U, s, VT = svd(A)\n",
        "print(U)\n",
        "print(s)\n",
        "print(VT)"
      ],
      "metadata": {
        "colab": {
          "base_uri": "https://localhost:8080/"
        },
        "id": "SE2u01F8BvuS",
        "outputId": "7d46fa5c-e08e-4b8f-a334-807854035c2f"
      },
      "execution_count": null,
      "outputs": [
        {
          "output_type": "stream",
          "name": "stdout",
          "text": [
            "[[1 2]\n",
            " [3 4]\n",
            " [5 6]]\n",
            "[[-0.2298477   0.88346102  0.40824829]\n",
            " [-0.52474482  0.24078249 -0.81649658]\n",
            " [-0.81964194 -0.40189603  0.40824829]]\n",
            "[9.52551809 0.51430058]\n",
            "[[-0.61962948 -0.78489445]\n",
            " [-0.78489445  0.61962948]]\n"
          ]
        }
      ]
    },
    {
      "cell_type": "markdown",
      "source": [
        "**Reconstruct Matrix from SVD**\n",
        "\n",
        "The U, s, and V elements returned from the svd() cannot be multiplied directly.\n",
        "\n",
        "The s vector must be converted into a diagonal matrix using the diag() function. By default, this function will create a square matrix that is n x n, relative to our original matrix. This causes a problem as the size of the matrices do not fit the rules of matrix multiplication, where the number of columns in a matrix must match the number of rows in the subsequent matrix.\n",
        "\n",
        "After creating the square Sigma diagonal matrix, the sizes of the matrices are relative to the original m x n matrix that we are decomposing, as follows:\n",
        "\n",
        "$U (m x m) . Sigma (n x n) . V^T (n x n)$\n",
        "\n",
        "Where, in fact, we require:\n",
        "\n",
        "$U (m x m) . Sigma (m x n) . V^T (n x n)$\n",
        "\n",
        "We can achieve this by creating a new Sigma matrix of all zero values that is m x n (e.g. more rows) and populate the first n x n part of the matrix with the square diagonal matrix calculated via diag().\n",
        "\n"
      ],
      "metadata": {
        "id": "XLLfaHjrCMtY"
      }
    },
    {
      "cell_type": "code",
      "source": [
        "# Reconstruct SVD\n",
        "\n",
        "# create m x n Sigma matrix\n",
        "Sigma = np.zeros((A.shape[0], A.shape[1]))\n",
        "# populate Sigma with n x n diagonal matrix\n",
        "Sigma[:A.shape[1], :A.shape[1]] = np.diag(s)\n",
        "# reconstruct matrix\n",
        "B = U.dot(Sigma.dot(VT))\n",
        "print(B)"
      ],
      "metadata": {
        "colab": {
          "base_uri": "https://localhost:8080/"
        },
        "id": "dwy_PbDsCNaP",
        "outputId": "db5a832f-862c-4971-da20-8f3665ee4dba"
      },
      "execution_count": null,
      "outputs": [
        {
          "output_type": "stream",
          "name": "stdout",
          "text": [
            "[[1. 2.]\n",
            " [3. 4.]\n",
            " [5. 6.]]\n"
          ]
        }
      ]
    },
    {
      "cell_type": "markdown",
      "source": [
        "The above complication with the Sigma diagonal only exists with the case where m and n are not equal. The diagonal matrix can be used directly when reconstructing a square matrix, as follows.\n",
        "\n",
        "### Truncated SVD\n",
        "\n",
        "Data with a large number of features, such as more features (columns) than observations (rows) may be reduced to a smaller subset of features that are most relevant to the prediction problem.\n",
        "\n",
        "The result is a matrix with a lower rank that is said to approximate the original matrix.\n",
        "\n",
        "To do this we can perform an SVD operation on the original data and select the top k largest singular values in Sigma. These columns can be selected from Sigma and the rows selected from $V^T$.\n",
        "\n",
        "An approximate B of the original vector A can then be reconstructed.\n",
        "\n",
        "$$B = U . Sigma_k . V^T_k$$\n",
        "\n",
        "In natural language processing, this approach can be used on matrices of word occurrences or word frequencies in documents and is called **Latent Semantic Analysis** or **Latent Semantic Indexing**.\n",
        "\n"
      ],
      "metadata": {
        "id": "ZqaXAMPVDmrL"
      }
    },
    {
      "cell_type": "code",
      "source": [
        "url = f'https://docs.google.com/spreadsheets/d/1Yf1WcX5QKIIjnBcp4zlYa9p9PM5ff3joqAzHXFHPp8A/edit#gid=0'\n",
        "url_1 = url.replace('/edit#gid=', '/export?format=csv&gid=')\n",
        "df = pd.read_csv(url_1)\n",
        "\n",
        "print(df.shape)\n",
        "df"
      ],
      "metadata": {
        "id": "Ul4lw5qaFB2v",
        "colab": {
          "base_uri": "https://localhost:8080/",
          "height": 915
        },
        "outputId": "d7d4abc2-44f2-426d-ded3-9041d35ce219"
      },
      "execution_count": null,
      "outputs": [
        {
          "output_type": "stream",
          "name": "stdout",
          "text": [
            "(18, 22)\n"
          ]
        },
        {
          "output_type": "execute_result",
          "data": {
            "text/plain": [
              "            First Name     Last Name  Princess Diaries  Dumb Dumber  \\\n",
              "0                Jafar  Abdurrahmaan               3.0          2.0   \n",
              "1   Moritz Kai Phillip        Deecke               2.0          3.0   \n",
              "2                Huong         Duong               NaN          NaN   \n",
              "3                Felix          Eger               2.0          2.0   \n",
              "4               Johana       Estrada               NaN          NaN   \n",
              "5              Theresa         Ewert               NaN          NaN   \n",
              "6              Rukniya        Gurung               4.0          3.0   \n",
              "7                Lilit   Harutyunyan               3.0          2.0   \n",
              "8              Philipp      Heitmann               3.0          1.0   \n",
              "9             Minh Anh         Hoang               3.0          2.0   \n",
              "10             Clemens          Hopf               1.0          1.0   \n",
              "11              Sofiia     Kramarova               NaN          NaN   \n",
              "12      Ngoc Huynh Anh        Nguyen               1.0          2.0   \n",
              "13         Jonas Alois        Pieper               1.0          2.0   \n",
              "14               Roger    Pujol Grau               3.0          2.0   \n",
              "15                Eric        Schley               1.0          1.0   \n",
              "16                 Thu          Ngan               2.0          4.0   \n",
              "17      Soere Valentin        Werner               3.0          2.0   \n",
              "\n",
              "    Color Purple  Brave Heart  Narnia  Sense/Sensibility  LiarLiar  \\\n",
              "0            4.0          2.0     2.0                3.0       3.0   \n",
              "1            4.0          2.0     3.0                3.0       NaN   \n",
              "2            NaN          NaN     NaN                NaN       NaN   \n",
              "3            3.0          3.0     3.0                2.0       2.0   \n",
              "4            NaN          NaN     NaN                NaN       NaN   \n",
              "5            NaN          NaN     NaN                NaN       NaN   \n",
              "6            4.0          3.0     3.0                3.0       2.0   \n",
              "7            4.0          2.0     2.0                2.0       2.0   \n",
              "8            4.0          1.0     4.0                2.0       1.0   \n",
              "9            NaN          NaN     4.0                3.0       NaN   \n",
              "10           3.0          3.0     3.0                2.0       1.0   \n",
              "11           NaN          NaN     NaN                NaN       NaN   \n",
              "12           2.0          2.0     2.0                2.0       2.0   \n",
              "13           2.0          4.0     3.0                1.0       1.0   \n",
              "14           3.0          5.0     4.0                2.0       NaN   \n",
              "15           3.0          4.0     2.0                2.0       3.0   \n",
              "16           NaN          5.0     4.0                NaN       4.0   \n",
              "17           4.0          5.0     2.0                3.0       NaN   \n",
              "\n",
              "    Django Unchained  ...  SE7EN  The Intern  John Wick  Crazy Rich Asians  \\\n",
              "0                4.0  ...    4.0         5.0        5.0                5.0   \n",
              "1                5.0  ...    5.0         2.0        2.0                1.0   \n",
              "2                NaN  ...    NaN         NaN        NaN                NaN   \n",
              "3                5.0  ...    5.0         3.0        4.0                2.0   \n",
              "4                NaN  ...    NaN         NaN        NaN                NaN   \n",
              "5                NaN  ...    NaN         NaN        NaN                NaN   \n",
              "6                5.0  ...    3.0         4.0        2.0                4.0   \n",
              "7                4.0  ...    5.0         5.0        3.0                4.0   \n",
              "8                5.0  ...    5.0         5.0        3.0                4.0   \n",
              "9                NaN  ...    2.0         4.0        3.0                5.0   \n",
              "10               4.0  ...    4.0         1.0        4.0                1.0   \n",
              "11               NaN  ...    NaN         NaN        NaN                NaN   \n",
              "12               3.0  ...    4.0         2.0        2.0                3.0   \n",
              "13               5.0  ...    4.0         3.0        4.0                3.0   \n",
              "14               4.0  ...    NaN         NaN        NaN                NaN   \n",
              "15               5.0  ...    3.0         3.0        3.0                3.0   \n",
              "16               5.0  ...    4.0         5.0        3.0                2.0   \n",
              "17               4.0  ...    NaN         4.0        NaN                NaN   \n",
              "\n",
              "    Call me by your Name  Gone Girl  Prisoners  Nightcrawler  Gran Torino  \\\n",
              "0                    5.0        4.0        4.0           3.0          NaN   \n",
              "1                    4.0        3.0        4.0           5.0          4.0   \n",
              "2                    NaN        NaN        NaN           NaN          NaN   \n",
              "3                    2.0        4.0        3.0           4.0          3.0   \n",
              "4                    NaN        NaN        NaN           NaN          NaN   \n",
              "5                    NaN        NaN        NaN           NaN          NaN   \n",
              "6                    4.0        4.0        4.0           3.0          NaN   \n",
              "7                    5.0        5.0        5.0           3.0          3.0   \n",
              "8                    3.0        5.0        4.0           5.0          4.0   \n",
              "9                    4.0        5.0        3.0           3.0          4.0   \n",
              "10                   1.0        1.0        3.0           3.0          4.0   \n",
              "11                   NaN        NaN        NaN           NaN          NaN   \n",
              "12                   2.0        3.0        5.0           5.0          3.0   \n",
              "13                   2.0        3.0        5.0           4.0          5.0   \n",
              "14                   NaN        NaN        NaN           NaN          5.0   \n",
              "15                   3.0        3.0        5.0           4.0          5.0   \n",
              "16                   NaN        4.0        4.0           4.0          NaN   \n",
              "17                   NaN        NaN        5.0           NaN          NaN   \n",
              "\n",
              "    Million Dollar Baby  \n",
              "0                   NaN  \n",
              "1                   5.0  \n",
              "2                   NaN  \n",
              "3                   3.0  \n",
              "4                   NaN  \n",
              "5                   NaN  \n",
              "6                   NaN  \n",
              "7                   NaN  \n",
              "8                   4.0  \n",
              "9                   3.0  \n",
              "10                  3.0  \n",
              "11                  NaN  \n",
              "12                  3.0  \n",
              "13                  4.0  \n",
              "14                  5.0  \n",
              "15                  NaN  \n",
              "16                  NaN  \n",
              "17                  4.0  \n",
              "\n",
              "[18 rows x 22 columns]"
            ],
            "text/html": [
              "\n",
              "  <div id=\"df-a24393b3-20ad-4246-8666-df983c17635b\">\n",
              "    <div class=\"colab-df-container\">\n",
              "      <div>\n",
              "<style scoped>\n",
              "    .dataframe tbody tr th:only-of-type {\n",
              "        vertical-align: middle;\n",
              "    }\n",
              "\n",
              "    .dataframe tbody tr th {\n",
              "        vertical-align: top;\n",
              "    }\n",
              "\n",
              "    .dataframe thead th {\n",
              "        text-align: right;\n",
              "    }\n",
              "</style>\n",
              "<table border=\"1\" class=\"dataframe\">\n",
              "  <thead>\n",
              "    <tr style=\"text-align: right;\">\n",
              "      <th></th>\n",
              "      <th>First Name</th>\n",
              "      <th>Last Name</th>\n",
              "      <th>Princess Diaries</th>\n",
              "      <th>Dumb Dumber</th>\n",
              "      <th>Color Purple</th>\n",
              "      <th>Brave Heart</th>\n",
              "      <th>Narnia</th>\n",
              "      <th>Sense/Sensibility</th>\n",
              "      <th>LiarLiar</th>\n",
              "      <th>Django Unchained</th>\n",
              "      <th>...</th>\n",
              "      <th>SE7EN</th>\n",
              "      <th>The Intern</th>\n",
              "      <th>John Wick</th>\n",
              "      <th>Crazy Rich Asians</th>\n",
              "      <th>Call me by your Name</th>\n",
              "      <th>Gone Girl</th>\n",
              "      <th>Prisoners</th>\n",
              "      <th>Nightcrawler</th>\n",
              "      <th>Gran Torino</th>\n",
              "      <th>Million Dollar Baby</th>\n",
              "    </tr>\n",
              "  </thead>\n",
              "  <tbody>\n",
              "    <tr>\n",
              "      <th>0</th>\n",
              "      <td>Jafar</td>\n",
              "      <td>Abdurrahmaan</td>\n",
              "      <td>3.0</td>\n",
              "      <td>2.0</td>\n",
              "      <td>4.0</td>\n",
              "      <td>2.0</td>\n",
              "      <td>2.0</td>\n",
              "      <td>3.0</td>\n",
              "      <td>3.0</td>\n",
              "      <td>4.0</td>\n",
              "      <td>...</td>\n",
              "      <td>4.0</td>\n",
              "      <td>5.0</td>\n",
              "      <td>5.0</td>\n",
              "      <td>5.0</td>\n",
              "      <td>5.0</td>\n",
              "      <td>4.0</td>\n",
              "      <td>4.0</td>\n",
              "      <td>3.0</td>\n",
              "      <td>NaN</td>\n",
              "      <td>NaN</td>\n",
              "    </tr>\n",
              "    <tr>\n",
              "      <th>1</th>\n",
              "      <td>Moritz Kai Phillip</td>\n",
              "      <td>Deecke</td>\n",
              "      <td>2.0</td>\n",
              "      <td>3.0</td>\n",
              "      <td>4.0</td>\n",
              "      <td>2.0</td>\n",
              "      <td>3.0</td>\n",
              "      <td>3.0</td>\n",
              "      <td>NaN</td>\n",
              "      <td>5.0</td>\n",
              "      <td>...</td>\n",
              "      <td>5.0</td>\n",
              "      <td>2.0</td>\n",
              "      <td>2.0</td>\n",
              "      <td>1.0</td>\n",
              "      <td>4.0</td>\n",
              "      <td>3.0</td>\n",
              "      <td>4.0</td>\n",
              "      <td>5.0</td>\n",
              "      <td>4.0</td>\n",
              "      <td>5.0</td>\n",
              "    </tr>\n",
              "    <tr>\n",
              "      <th>2</th>\n",
              "      <td>Huong</td>\n",
              "      <td>Duong</td>\n",
              "      <td>NaN</td>\n",
              "      <td>NaN</td>\n",
              "      <td>NaN</td>\n",
              "      <td>NaN</td>\n",
              "      <td>NaN</td>\n",
              "      <td>NaN</td>\n",
              "      <td>NaN</td>\n",
              "      <td>NaN</td>\n",
              "      <td>...</td>\n",
              "      <td>NaN</td>\n",
              "      <td>NaN</td>\n",
              "      <td>NaN</td>\n",
              "      <td>NaN</td>\n",
              "      <td>NaN</td>\n",
              "      <td>NaN</td>\n",
              "      <td>NaN</td>\n",
              "      <td>NaN</td>\n",
              "      <td>NaN</td>\n",
              "      <td>NaN</td>\n",
              "    </tr>\n",
              "    <tr>\n",
              "      <th>3</th>\n",
              "      <td>Felix</td>\n",
              "      <td>Eger</td>\n",
              "      <td>2.0</td>\n",
              "      <td>2.0</td>\n",
              "      <td>3.0</td>\n",
              "      <td>3.0</td>\n",
              "      <td>3.0</td>\n",
              "      <td>2.0</td>\n",
              "      <td>2.0</td>\n",
              "      <td>5.0</td>\n",
              "      <td>...</td>\n",
              "      <td>5.0</td>\n",
              "      <td>3.0</td>\n",
              "      <td>4.0</td>\n",
              "      <td>2.0</td>\n",
              "      <td>2.0</td>\n",
              "      <td>4.0</td>\n",
              "      <td>3.0</td>\n",
              "      <td>4.0</td>\n",
              "      <td>3.0</td>\n",
              "      <td>3.0</td>\n",
              "    </tr>\n",
              "    <tr>\n",
              "      <th>4</th>\n",
              "      <td>Johana</td>\n",
              "      <td>Estrada</td>\n",
              "      <td>NaN</td>\n",
              "      <td>NaN</td>\n",
              "      <td>NaN</td>\n",
              "      <td>NaN</td>\n",
              "      <td>NaN</td>\n",
              "      <td>NaN</td>\n",
              "      <td>NaN</td>\n",
              "      <td>NaN</td>\n",
              "      <td>...</td>\n",
              "      <td>NaN</td>\n",
              "      <td>NaN</td>\n",
              "      <td>NaN</td>\n",
              "      <td>NaN</td>\n",
              "      <td>NaN</td>\n",
              "      <td>NaN</td>\n",
              "      <td>NaN</td>\n",
              "      <td>NaN</td>\n",
              "      <td>NaN</td>\n",
              "      <td>NaN</td>\n",
              "    </tr>\n",
              "    <tr>\n",
              "      <th>5</th>\n",
              "      <td>Theresa</td>\n",
              "      <td>Ewert</td>\n",
              "      <td>NaN</td>\n",
              "      <td>NaN</td>\n",
              "      <td>NaN</td>\n",
              "      <td>NaN</td>\n",
              "      <td>NaN</td>\n",
              "      <td>NaN</td>\n",
              "      <td>NaN</td>\n",
              "      <td>NaN</td>\n",
              "      <td>...</td>\n",
              "      <td>NaN</td>\n",
              "      <td>NaN</td>\n",
              "      <td>NaN</td>\n",
              "      <td>NaN</td>\n",
              "      <td>NaN</td>\n",
              "      <td>NaN</td>\n",
              "      <td>NaN</td>\n",
              "      <td>NaN</td>\n",
              "      <td>NaN</td>\n",
              "      <td>NaN</td>\n",
              "    </tr>\n",
              "    <tr>\n",
              "      <th>6</th>\n",
              "      <td>Rukniya</td>\n",
              "      <td>Gurung</td>\n",
              "      <td>4.0</td>\n",
              "      <td>3.0</td>\n",
              "      <td>4.0</td>\n",
              "      <td>3.0</td>\n",
              "      <td>3.0</td>\n",
              "      <td>3.0</td>\n",
              "      <td>2.0</td>\n",
              "      <td>5.0</td>\n",
              "      <td>...</td>\n",
              "      <td>3.0</td>\n",
              "      <td>4.0</td>\n",
              "      <td>2.0</td>\n",
              "      <td>4.0</td>\n",
              "      <td>4.0</td>\n",
              "      <td>4.0</td>\n",
              "      <td>4.0</td>\n",
              "      <td>3.0</td>\n",
              "      <td>NaN</td>\n",
              "      <td>NaN</td>\n",
              "    </tr>\n",
              "    <tr>\n",
              "      <th>7</th>\n",
              "      <td>Lilit</td>\n",
              "      <td>Harutyunyan</td>\n",
              "      <td>3.0</td>\n",
              "      <td>2.0</td>\n",
              "      <td>4.0</td>\n",
              "      <td>2.0</td>\n",
              "      <td>2.0</td>\n",
              "      <td>2.0</td>\n",
              "      <td>2.0</td>\n",
              "      <td>4.0</td>\n",
              "      <td>...</td>\n",
              "      <td>5.0</td>\n",
              "      <td>5.0</td>\n",
              "      <td>3.0</td>\n",
              "      <td>4.0</td>\n",
              "      <td>5.0</td>\n",
              "      <td>5.0</td>\n",
              "      <td>5.0</td>\n",
              "      <td>3.0</td>\n",
              "      <td>3.0</td>\n",
              "      <td>NaN</td>\n",
              "    </tr>\n",
              "    <tr>\n",
              "      <th>8</th>\n",
              "      <td>Philipp</td>\n",
              "      <td>Heitmann</td>\n",
              "      <td>3.0</td>\n",
              "      <td>1.0</td>\n",
              "      <td>4.0</td>\n",
              "      <td>1.0</td>\n",
              "      <td>4.0</td>\n",
              "      <td>2.0</td>\n",
              "      <td>1.0</td>\n",
              "      <td>5.0</td>\n",
              "      <td>...</td>\n",
              "      <td>5.0</td>\n",
              "      <td>5.0</td>\n",
              "      <td>3.0</td>\n",
              "      <td>4.0</td>\n",
              "      <td>3.0</td>\n",
              "      <td>5.0</td>\n",
              "      <td>4.0</td>\n",
              "      <td>5.0</td>\n",
              "      <td>4.0</td>\n",
              "      <td>4.0</td>\n",
              "    </tr>\n",
              "    <tr>\n",
              "      <th>9</th>\n",
              "      <td>Minh Anh</td>\n",
              "      <td>Hoang</td>\n",
              "      <td>3.0</td>\n",
              "      <td>2.0</td>\n",
              "      <td>NaN</td>\n",
              "      <td>NaN</td>\n",
              "      <td>4.0</td>\n",
              "      <td>3.0</td>\n",
              "      <td>NaN</td>\n",
              "      <td>NaN</td>\n",
              "      <td>...</td>\n",
              "      <td>2.0</td>\n",
              "      <td>4.0</td>\n",
              "      <td>3.0</td>\n",
              "      <td>5.0</td>\n",
              "      <td>4.0</td>\n",
              "      <td>5.0</td>\n",
              "      <td>3.0</td>\n",
              "      <td>3.0</td>\n",
              "      <td>4.0</td>\n",
              "      <td>3.0</td>\n",
              "    </tr>\n",
              "    <tr>\n",
              "      <th>10</th>\n",
              "      <td>Clemens</td>\n",
              "      <td>Hopf</td>\n",
              "      <td>1.0</td>\n",
              "      <td>1.0</td>\n",
              "      <td>3.0</td>\n",
              "      <td>3.0</td>\n",
              "      <td>3.0</td>\n",
              "      <td>2.0</td>\n",
              "      <td>1.0</td>\n",
              "      <td>4.0</td>\n",
              "      <td>...</td>\n",
              "      <td>4.0</td>\n",
              "      <td>1.0</td>\n",
              "      <td>4.0</td>\n",
              "      <td>1.0</td>\n",
              "      <td>1.0</td>\n",
              "      <td>1.0</td>\n",
              "      <td>3.0</td>\n",
              "      <td>3.0</td>\n",
              "      <td>4.0</td>\n",
              "      <td>3.0</td>\n",
              "    </tr>\n",
              "    <tr>\n",
              "      <th>11</th>\n",
              "      <td>Sofiia</td>\n",
              "      <td>Kramarova</td>\n",
              "      <td>NaN</td>\n",
              "      <td>NaN</td>\n",
              "      <td>NaN</td>\n",
              "      <td>NaN</td>\n",
              "      <td>NaN</td>\n",
              "      <td>NaN</td>\n",
              "      <td>NaN</td>\n",
              "      <td>NaN</td>\n",
              "      <td>...</td>\n",
              "      <td>NaN</td>\n",
              "      <td>NaN</td>\n",
              "      <td>NaN</td>\n",
              "      <td>NaN</td>\n",
              "      <td>NaN</td>\n",
              "      <td>NaN</td>\n",
              "      <td>NaN</td>\n",
              "      <td>NaN</td>\n",
              "      <td>NaN</td>\n",
              "      <td>NaN</td>\n",
              "    </tr>\n",
              "    <tr>\n",
              "      <th>12</th>\n",
              "      <td>Ngoc Huynh Anh</td>\n",
              "      <td>Nguyen</td>\n",
              "      <td>1.0</td>\n",
              "      <td>2.0</td>\n",
              "      <td>2.0</td>\n",
              "      <td>2.0</td>\n",
              "      <td>2.0</td>\n",
              "      <td>2.0</td>\n",
              "      <td>2.0</td>\n",
              "      <td>3.0</td>\n",
              "      <td>...</td>\n",
              "      <td>4.0</td>\n",
              "      <td>2.0</td>\n",
              "      <td>2.0</td>\n",
              "      <td>3.0</td>\n",
              "      <td>2.0</td>\n",
              "      <td>3.0</td>\n",
              "      <td>5.0</td>\n",
              "      <td>5.0</td>\n",
              "      <td>3.0</td>\n",
              "      <td>3.0</td>\n",
              "    </tr>\n",
              "    <tr>\n",
              "      <th>13</th>\n",
              "      <td>Jonas Alois</td>\n",
              "      <td>Pieper</td>\n",
              "      <td>1.0</td>\n",
              "      <td>2.0</td>\n",
              "      <td>2.0</td>\n",
              "      <td>4.0</td>\n",
              "      <td>3.0</td>\n",
              "      <td>1.0</td>\n",
              "      <td>1.0</td>\n",
              "      <td>5.0</td>\n",
              "      <td>...</td>\n",
              "      <td>4.0</td>\n",
              "      <td>3.0</td>\n",
              "      <td>4.0</td>\n",
              "      <td>3.0</td>\n",
              "      <td>2.0</td>\n",
              "      <td>3.0</td>\n",
              "      <td>5.0</td>\n",
              "      <td>4.0</td>\n",
              "      <td>5.0</td>\n",
              "      <td>4.0</td>\n",
              "    </tr>\n",
              "    <tr>\n",
              "      <th>14</th>\n",
              "      <td>Roger</td>\n",
              "      <td>Pujol Grau</td>\n",
              "      <td>3.0</td>\n",
              "      <td>2.0</td>\n",
              "      <td>3.0</td>\n",
              "      <td>5.0</td>\n",
              "      <td>4.0</td>\n",
              "      <td>2.0</td>\n",
              "      <td>NaN</td>\n",
              "      <td>4.0</td>\n",
              "      <td>...</td>\n",
              "      <td>NaN</td>\n",
              "      <td>NaN</td>\n",
              "      <td>NaN</td>\n",
              "      <td>NaN</td>\n",
              "      <td>NaN</td>\n",
              "      <td>NaN</td>\n",
              "      <td>NaN</td>\n",
              "      <td>NaN</td>\n",
              "      <td>5.0</td>\n",
              "      <td>5.0</td>\n",
              "    </tr>\n",
              "    <tr>\n",
              "      <th>15</th>\n",
              "      <td>Eric</td>\n",
              "      <td>Schley</td>\n",
              "      <td>1.0</td>\n",
              "      <td>1.0</td>\n",
              "      <td>3.0</td>\n",
              "      <td>4.0</td>\n",
              "      <td>2.0</td>\n",
              "      <td>2.0</td>\n",
              "      <td>3.0</td>\n",
              "      <td>5.0</td>\n",
              "      <td>...</td>\n",
              "      <td>3.0</td>\n",
              "      <td>3.0</td>\n",
              "      <td>3.0</td>\n",
              "      <td>3.0</td>\n",
              "      <td>3.0</td>\n",
              "      <td>3.0</td>\n",
              "      <td>5.0</td>\n",
              "      <td>4.0</td>\n",
              "      <td>5.0</td>\n",
              "      <td>NaN</td>\n",
              "    </tr>\n",
              "    <tr>\n",
              "      <th>16</th>\n",
              "      <td>Thu</td>\n",
              "      <td>Ngan</td>\n",
              "      <td>2.0</td>\n",
              "      <td>4.0</td>\n",
              "      <td>NaN</td>\n",
              "      <td>5.0</td>\n",
              "      <td>4.0</td>\n",
              "      <td>NaN</td>\n",
              "      <td>4.0</td>\n",
              "      <td>5.0</td>\n",
              "      <td>...</td>\n",
              "      <td>4.0</td>\n",
              "      <td>5.0</td>\n",
              "      <td>3.0</td>\n",
              "      <td>2.0</td>\n",
              "      <td>NaN</td>\n",
              "      <td>4.0</td>\n",
              "      <td>4.0</td>\n",
              "      <td>4.0</td>\n",
              "      <td>NaN</td>\n",
              "      <td>NaN</td>\n",
              "    </tr>\n",
              "    <tr>\n",
              "      <th>17</th>\n",
              "      <td>Soere Valentin</td>\n",
              "      <td>Werner</td>\n",
              "      <td>3.0</td>\n",
              "      <td>2.0</td>\n",
              "      <td>4.0</td>\n",
              "      <td>5.0</td>\n",
              "      <td>2.0</td>\n",
              "      <td>3.0</td>\n",
              "      <td>NaN</td>\n",
              "      <td>4.0</td>\n",
              "      <td>...</td>\n",
              "      <td>NaN</td>\n",
              "      <td>4.0</td>\n",
              "      <td>NaN</td>\n",
              "      <td>NaN</td>\n",
              "      <td>NaN</td>\n",
              "      <td>NaN</td>\n",
              "      <td>5.0</td>\n",
              "      <td>NaN</td>\n",
              "      <td>NaN</td>\n",
              "      <td>4.0</td>\n",
              "    </tr>\n",
              "  </tbody>\n",
              "</table>\n",
              "<p>18 rows × 22 columns</p>\n",
              "</div>\n",
              "      <button class=\"colab-df-convert\" onclick=\"convertToInteractive('df-a24393b3-20ad-4246-8666-df983c17635b')\"\n",
              "              title=\"Convert this dataframe to an interactive table.\"\n",
              "              style=\"display:none;\">\n",
              "        \n",
              "  <svg xmlns=\"http://www.w3.org/2000/svg\" height=\"24px\"viewBox=\"0 0 24 24\"\n",
              "       width=\"24px\">\n",
              "    <path d=\"M0 0h24v24H0V0z\" fill=\"none\"/>\n",
              "    <path d=\"M18.56 5.44l.94 2.06.94-2.06 2.06-.94-2.06-.94-.94-2.06-.94 2.06-2.06.94zm-11 1L8.5 8.5l.94-2.06 2.06-.94-2.06-.94L8.5 2.5l-.94 2.06-2.06.94zm10 10l.94 2.06.94-2.06 2.06-.94-2.06-.94-.94-2.06-.94 2.06-2.06.94z\"/><path d=\"M17.41 7.96l-1.37-1.37c-.4-.4-.92-.59-1.43-.59-.52 0-1.04.2-1.43.59L10.3 9.45l-7.72 7.72c-.78.78-.78 2.05 0 2.83L4 21.41c.39.39.9.59 1.41.59.51 0 1.02-.2 1.41-.59l7.78-7.78 2.81-2.81c.8-.78.8-2.07 0-2.86zM5.41 20L4 18.59l7.72-7.72 1.47 1.35L5.41 20z\"/>\n",
              "  </svg>\n",
              "      </button>\n",
              "      \n",
              "  <style>\n",
              "    .colab-df-container {\n",
              "      display:flex;\n",
              "      flex-wrap:wrap;\n",
              "      gap: 12px;\n",
              "    }\n",
              "\n",
              "    .colab-df-convert {\n",
              "      background-color: #E8F0FE;\n",
              "      border: none;\n",
              "      border-radius: 50%;\n",
              "      cursor: pointer;\n",
              "      display: none;\n",
              "      fill: #1967D2;\n",
              "      height: 32px;\n",
              "      padding: 0 0 0 0;\n",
              "      width: 32px;\n",
              "    }\n",
              "\n",
              "    .colab-df-convert:hover {\n",
              "      background-color: #E2EBFA;\n",
              "      box-shadow: 0px 1px 2px rgba(60, 64, 67, 0.3), 0px 1px 3px 1px rgba(60, 64, 67, 0.15);\n",
              "      fill: #174EA6;\n",
              "    }\n",
              "\n",
              "    [theme=dark] .colab-df-convert {\n",
              "      background-color: #3B4455;\n",
              "      fill: #D2E3FC;\n",
              "    }\n",
              "\n",
              "    [theme=dark] .colab-df-convert:hover {\n",
              "      background-color: #434B5C;\n",
              "      box-shadow: 0px 1px 3px 1px rgba(0, 0, 0, 0.15);\n",
              "      filter: drop-shadow(0px 1px 2px rgba(0, 0, 0, 0.3));\n",
              "      fill: #FFFFFF;\n",
              "    }\n",
              "  </style>\n",
              "\n",
              "      <script>\n",
              "        const buttonEl =\n",
              "          document.querySelector('#df-a24393b3-20ad-4246-8666-df983c17635b button.colab-df-convert');\n",
              "        buttonEl.style.display =\n",
              "          google.colab.kernel.accessAllowed ? 'block' : 'none';\n",
              "\n",
              "        async function convertToInteractive(key) {\n",
              "          const element = document.querySelector('#df-a24393b3-20ad-4246-8666-df983c17635b');\n",
              "          const dataTable =\n",
              "            await google.colab.kernel.invokeFunction('convertToInteractive',\n",
              "                                                     [key], {});\n",
              "          if (!dataTable) return;\n",
              "\n",
              "          const docLinkHtml = 'Like what you see? Visit the ' +\n",
              "            '<a target=\"_blank\" href=https://colab.research.google.com/notebooks/data_table.ipynb>data table notebook</a>'\n",
              "            + ' to learn more about interactive tables.';\n",
              "          element.innerHTML = '';\n",
              "          dataTable['output_type'] = 'display_data';\n",
              "          await google.colab.output.renderOutput(dataTable, element);\n",
              "          const docLink = document.createElement('div');\n",
              "          docLink.innerHTML = docLinkHtml;\n",
              "          element.appendChild(docLink);\n",
              "        }\n",
              "      </script>\n",
              "    </div>\n",
              "  </div>\n",
              "  "
            ]
          },
          "metadata": {},
          "execution_count": 16
        }
      ]
    },
    {
      "cell_type": "code",
      "source": [
        "#Toss out movie with less than 8 rankings:\n",
        "#MissingMovie = np.sum(df.isna(), axis = 1)\n",
        "df2 = df.dropna(axis=0, thresh=18)\n",
        "print(df2.shape)\n",
        "df3 = df2.dropna(axis=1, thresh=3)\n",
        "print(df3.shape)\n",
        "#df = df[np.where(MissingMovie==0)]\n",
        "#MissingUsers = np.sum(df.isna(), axis = 0)"
      ],
      "metadata": {
        "colab": {
          "base_uri": "https://localhost:8080/"
        },
        "id": "li7DKn-aBTkR",
        "outputId": "783aa68f-ec0b-4db9-9d6f-5223ab556dd7"
      },
      "execution_count": null,
      "outputs": [
        {
          "output_type": "stream",
          "name": "stdout",
          "text": [
            "(10, 22)\n",
            "(10, 22)\n"
          ]
        }
      ]
    },
    {
      "cell_type": "markdown",
      "source": [
        "## Data"
      ],
      "metadata": {
        "id": "YhEZsOc7BVqY"
      }
    },
    {
      "cell_type": "markdown",
      "source": [
        "#### MNIST\n"
      ],
      "metadata": {
        "id": "U8UfjdbKBX51"
      }
    },
    {
      "cell_type": "code",
      "source": [
        "(x_train, y_train), (x_test, y_test) = keras.datasets.mnist.load_data()"
      ],
      "metadata": {
        "id": "ttuqcxffBZ9M"
      },
      "execution_count": null,
      "outputs": []
    },
    {
      "cell_type": "code",
      "source": [
        "assert x_train.shape == (60000, 28, 28)\n",
        "assert x_test.shape == (10000, 28, 28)\n",
        "assert y_train.shape == (60000,)\n",
        "assert y_test.shape == (10000,)"
      ],
      "metadata": {
        "id": "V_BXXkX3EVbY"
      },
      "execution_count": null,
      "outputs": []
    },
    {
      "cell_type": "code",
      "source": [
        "# flatten data\n",
        "x_train_flat = np.reshape(x_train, [60000,784])[:5000]"
      ],
      "metadata": {
        "id": "H3Xvwb6VHLJD"
      },
      "execution_count": null,
      "outputs": []
    },
    {
      "cell_type": "code",
      "source": [
        "x_train_flat.shape"
      ],
      "metadata": {
        "colab": {
          "base_uri": "https://localhost:8080/"
        },
        "id": "Kamt7wL5H5lE",
        "outputId": "f6620a4b-df02-4876-e8f0-f5f84b1e740b"
      },
      "execution_count": null,
      "outputs": [
        {
          "output_type": "execute_result",
          "data": {
            "text/plain": [
              "(5000, 784)"
            ]
          },
          "metadata": {},
          "execution_count": 23
        }
      ]
    },
    {
      "cell_type": "code",
      "source": [
        "# SVD\n",
        "U, s, VT = svd(x_train_flat)"
      ],
      "metadata": {
        "id": "nGyGt6PfHOxf"
      },
      "execution_count": null,
      "outputs": []
    },
    {
      "cell_type": "code",
      "source": [
        "print(U.shape)\n",
        "print(VT.shape)"
      ],
      "metadata": {
        "colab": {
          "base_uri": "https://localhost:8080/"
        },
        "id": "nl2KsYsGSjEP",
        "outputId": "181769fc-ec4c-4d15-b598-10711cf37ef5"
      },
      "execution_count": null,
      "outputs": [
        {
          "output_type": "stream",
          "name": "stdout",
          "text": [
            "(5000, 5000)\n",
            "(784, 784)\n"
          ]
        }
      ]
    },
    {
      "cell_type": "code",
      "source": [
        "#s is a vector right now, so you need to convert it using \n",
        "#Sigma = np.diag(s)\n",
        "\n",
        "m = x_train_flat.shape[0]\n",
        "n = x_train_flat.shape[1]\n",
        "Sigma = np.zeros((m,n))\n",
        "# populate Sigma with n x n diagonal matrix\n",
        "Sigma[:n, :n] = np.diag(s)\n",
        "#full reconstruction: \n",
        "Xreconstruct = np.dot(U,np.dot(Sigma,VT))\n",
        "Xreconstruct.shape\n"
      ],
      "metadata": {
        "colab": {
          "base_uri": "https://localhost:8080/"
        },
        "id": "8mUELFkwLOXk",
        "outputId": "ba24442b-135b-4a65-c64f-6063dc69e159"
      },
      "execution_count": null,
      "outputs": [
        {
          "output_type": "execute_result",
          "data": {
            "text/plain": [
              "(5000, 784)"
            ]
          },
          "metadata": {},
          "execution_count": 36
        }
      ]
    },
    {
      "cell_type": "code",
      "source": [
        "#loss function:\n",
        "MSE = np.mean((Xreconstruct - x_train_flat)**2)\n",
        "MSE#Question: any randomness in the svd component ??"
      ],
      "metadata": {
        "colab": {
          "base_uri": "https://localhost:8080/"
        },
        "id": "x99FQE1WRk7n",
        "outputId": "d235dc22-61f7-4ad7-cebd-b0c51051cd42"
      },
      "execution_count": null,
      "outputs": [
        {
          "output_type": "execute_result",
          "data": {
            "text/plain": [
              "9.350605778717117e-09"
            ]
          },
          "metadata": {},
          "execution_count": 38
        }
      ]
    },
    {
      "cell_type": "code",
      "source": [
        "#truncated\n",
        "k = 20#number of latent factors we keep\n",
        "Sigmak = Sigma[:, :k]\n",
        "VTk = VT[:k, :]\n",
        "X = np.dot(U,np.dot(Sigmak,VTk))\n",
        "Xreconstruct.shape"
      ],
      "metadata": {
        "id": "KCCz65jKTS0t"
      },
      "execution_count": null,
      "outputs": []
    },
    {
      "cell_type": "code",
      "source": [
        "print(U.shape)\n",
        "print(VT.shape)"
      ],
      "metadata": {
        "colab": {
          "base_uri": "https://localhost:8080/"
        },
        "id": "-awZp4tNHwrO",
        "outputId": "d0599b12-d47e-4d64-c7c5-58558aecc5b0"
      },
      "execution_count": null,
      "outputs": [
        {
          "output_type": "stream",
          "name": "stdout",
          "text": [
            "(5000, 5000)\n",
            "(784, 784)\n"
          ]
        }
      ]
    },
    {
      "cell_type": "code",
      "source": [
        "# create m x n Sigma matrix\n",
        "m= x_train_flat.shape[0]\n",
        "n = x_train_flat.shape[1]\n",
        "Sigma = np.zeros((m,n))\n",
        "\n",
        "# populate Sigma with n x n diagonal matrix\n",
        "Sigma[:n, :n] = np.diag(s)\n",
        "#Sigma = np.diag(s)\n",
        "Sigma.shape"
      ],
      "metadata": {
        "colab": {
          "base_uri": "https://localhost:8080/"
        },
        "id": "5ohfywubIdre",
        "outputId": "1838b99c-8018-4be2-c635-1bdcb6ce6b26"
      },
      "execution_count": null,
      "outputs": [
        {
          "output_type": "execute_result",
          "data": {
            "text/plain": [
              "(5000, 784)"
            ]
          },
          "metadata": {},
          "execution_count": 31
        }
      ]
    },
    {
      "cell_type": "code",
      "source": [
        "# select\n",
        "n_elements = 20\n",
        "Sigma = Sigma[:, :n_elements]\n",
        "VT = VT[:n_elements, :]\n",
        "# reconstruct\n",
        "B = Sigma.dot(VT)\n",
        "print(B.shape)\n",
        "# transform\n",
        "#T = U.dot(Sigma)\n",
        "#print(T.shape)\n",
        "#T = x_train_flat.dot(VT.T)\n",
        "#print(T.shape)"
      ],
      "metadata": {
        "colab": {
          "base_uri": "https://localhost:8080/"
        },
        "id": "S12FjTqNIf8W",
        "outputId": "bd8fa88b-f291-4c48-9405-b578f511e695"
      },
      "execution_count": null,
      "outputs": [
        {
          "output_type": "stream",
          "name": "stdout",
          "text": [
            "(5000, 784)\n"
          ]
        }
      ]
    },
    {
      "cell_type": "code",
      "source": [
        "import matplotlib.pyplot as plt\n"
      ],
      "metadata": {
        "id": "TG52pjiQLP3q"
      },
      "execution_count": null,
      "outputs": []
    },
    {
      "cell_type": "markdown",
      "source": [
        ""
      ],
      "metadata": {
        "id": "e3ofzmU3fbUH"
      }
    }
  ],
  "metadata": {
    "colab": {
      "name": "Class4_solution.ipynb",
      "provenance": [],
      "collapsed_sections": [],
      "include_colab_link": true
    },
    "kernelspec": {
      "display_name": "Python 3",
      "language": "python",
      "name": "python3"
    },
    "language_info": {
      "codemirror_mode": {
        "name": "ipython",
        "version": 3
      },
      "file_extension": ".py",
      "mimetype": "text/x-python",
      "name": "python",
      "nbconvert_exporter": "python",
      "pygments_lexer": "ipython3",
      "version": "3.8.3"
    }
  },
  "nbformat": 4,
  "nbformat_minor": 0
}